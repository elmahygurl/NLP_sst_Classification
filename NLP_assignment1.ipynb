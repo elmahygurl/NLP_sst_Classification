{
  "cells": [
    {
      "cell_type": "markdown",
      "metadata": {
        "id": "view-in-github",
        "colab_type": "text"
      },
      "source": [
        "<a href=\"https://colab.research.google.com/github/elmahygurl/NLP_sst_Classification/blob/main/NLP_assignment1.ipynb\" target=\"_parent\"><img src=\"https://colab.research.google.com/assets/colab-badge.svg\" alt=\"Open In Colab\"/></a>"
      ]
    },
    {
      "cell_type": "markdown",
      "metadata": {
        "id": "zhv37jNcClyn"
      },
      "source": [
        "# Getting dataset"
      ]
    },
    {
      "cell_type": "code",
      "execution_count": 1,
      "metadata": {
        "colab": {
          "base_uri": "https://localhost:8080/"
        },
        "id": "ne9toyr5CkLp",
        "outputId": "1c1f7a86-9814-4142-94a9-d251273ed804"
      },
      "outputs": [
        {
          "output_type": "stream",
          "name": "stdout",
          "text": [
            "Collecting datasets\n",
            "  Downloading datasets-2.18.0-py3-none-any.whl (510 kB)\n",
            "\u001b[2K     \u001b[90m━━━━━━━━━━━━━━━━━━━━━━━━━━━━━━━━━━━━━━━━\u001b[0m \u001b[32m510.5/510.5 kB\u001b[0m \u001b[31m5.5 MB/s\u001b[0m eta \u001b[36m0:00:00\u001b[0m\n",
            "\u001b[?25hRequirement already satisfied: filelock in /usr/local/lib/python3.10/dist-packages (from datasets) (3.13.1)\n",
            "Requirement already satisfied: numpy>=1.17 in /usr/local/lib/python3.10/dist-packages (from datasets) (1.25.2)\n",
            "Requirement already satisfied: pyarrow>=12.0.0 in /usr/local/lib/python3.10/dist-packages (from datasets) (14.0.2)\n",
            "Requirement already satisfied: pyarrow-hotfix in /usr/local/lib/python3.10/dist-packages (from datasets) (0.6)\n",
            "Collecting dill<0.3.9,>=0.3.0 (from datasets)\n",
            "  Downloading dill-0.3.8-py3-none-any.whl (116 kB)\n",
            "\u001b[2K     \u001b[90m━━━━━━━━━━━━━━━━━━━━━━━━━━━━━━━━━━━━━━━━\u001b[0m \u001b[32m116.3/116.3 kB\u001b[0m \u001b[31m10.8 MB/s\u001b[0m eta \u001b[36m0:00:00\u001b[0m\n",
            "\u001b[?25hRequirement already satisfied: pandas in /usr/local/lib/python3.10/dist-packages (from datasets) (1.5.3)\n",
            "Requirement already satisfied: requests>=2.19.0 in /usr/local/lib/python3.10/dist-packages (from datasets) (2.31.0)\n",
            "Requirement already satisfied: tqdm>=4.62.1 in /usr/local/lib/python3.10/dist-packages (from datasets) (4.66.2)\n",
            "Collecting xxhash (from datasets)\n",
            "  Downloading xxhash-3.4.1-cp310-cp310-manylinux_2_17_x86_64.manylinux2014_x86_64.whl (194 kB)\n",
            "\u001b[2K     \u001b[90m━━━━━━━━━━━━━━━━━━━━━━━━━━━━━━━━━━━━━━━━\u001b[0m \u001b[32m194.1/194.1 kB\u001b[0m \u001b[31m7.1 MB/s\u001b[0m eta \u001b[36m0:00:00\u001b[0m\n",
            "\u001b[?25hCollecting multiprocess (from datasets)\n",
            "  Downloading multiprocess-0.70.16-py310-none-any.whl (134 kB)\n",
            "\u001b[2K     \u001b[90m━━━━━━━━━━━━━━━━━━━━━━━━━━━━━━━━━━━━━━━━\u001b[0m \u001b[32m134.8/134.8 kB\u001b[0m \u001b[31m11.0 MB/s\u001b[0m eta \u001b[36m0:00:00\u001b[0m\n",
            "\u001b[?25hRequirement already satisfied: fsspec[http]<=2024.2.0,>=2023.1.0 in /usr/local/lib/python3.10/dist-packages (from datasets) (2023.6.0)\n",
            "Requirement already satisfied: aiohttp in /usr/local/lib/python3.10/dist-packages (from datasets) (3.9.3)\n",
            "Requirement already satisfied: huggingface-hub>=0.19.4 in /usr/local/lib/python3.10/dist-packages (from datasets) (0.20.3)\n",
            "Requirement already satisfied: packaging in /usr/local/lib/python3.10/dist-packages (from datasets) (24.0)\n",
            "Requirement already satisfied: pyyaml>=5.1 in /usr/local/lib/python3.10/dist-packages (from datasets) (6.0.1)\n",
            "Requirement already satisfied: aiosignal>=1.1.2 in /usr/local/lib/python3.10/dist-packages (from aiohttp->datasets) (1.3.1)\n",
            "Requirement already satisfied: attrs>=17.3.0 in /usr/local/lib/python3.10/dist-packages (from aiohttp->datasets) (23.2.0)\n",
            "Requirement already satisfied: frozenlist>=1.1.1 in /usr/local/lib/python3.10/dist-packages (from aiohttp->datasets) (1.4.1)\n",
            "Requirement already satisfied: multidict<7.0,>=4.5 in /usr/local/lib/python3.10/dist-packages (from aiohttp->datasets) (6.0.5)\n",
            "Requirement already satisfied: yarl<2.0,>=1.0 in /usr/local/lib/python3.10/dist-packages (from aiohttp->datasets) (1.9.4)\n",
            "Requirement already satisfied: async-timeout<5.0,>=4.0 in /usr/local/lib/python3.10/dist-packages (from aiohttp->datasets) (4.0.3)\n",
            "Requirement already satisfied: typing-extensions>=3.7.4.3 in /usr/local/lib/python3.10/dist-packages (from huggingface-hub>=0.19.4->datasets) (4.10.0)\n",
            "Requirement already satisfied: charset-normalizer<4,>=2 in /usr/local/lib/python3.10/dist-packages (from requests>=2.19.0->datasets) (3.3.2)\n",
            "Requirement already satisfied: idna<4,>=2.5 in /usr/local/lib/python3.10/dist-packages (from requests>=2.19.0->datasets) (3.6)\n",
            "Requirement already satisfied: urllib3<3,>=1.21.1 in /usr/local/lib/python3.10/dist-packages (from requests>=2.19.0->datasets) (2.0.7)\n",
            "Requirement already satisfied: certifi>=2017.4.17 in /usr/local/lib/python3.10/dist-packages (from requests>=2.19.0->datasets) (2024.2.2)\n",
            "Requirement already satisfied: python-dateutil>=2.8.1 in /usr/local/lib/python3.10/dist-packages (from pandas->datasets) (2.8.2)\n",
            "Requirement already satisfied: pytz>=2020.1 in /usr/local/lib/python3.10/dist-packages (from pandas->datasets) (2023.4)\n",
            "Requirement already satisfied: six>=1.5 in /usr/local/lib/python3.10/dist-packages (from python-dateutil>=2.8.1->pandas->datasets) (1.16.0)\n",
            "Installing collected packages: xxhash, dill, multiprocess, datasets\n",
            "Successfully installed datasets-2.18.0 dill-0.3.8 multiprocess-0.70.16 xxhash-3.4.1\n"
          ]
        }
      ],
      "source": [
        "!pip install datasets"
      ]
    },
    {
      "cell_type": "code",
      "execution_count": 2,
      "metadata": {
        "id": "z3D5D_RoDAhW"
      },
      "outputs": [],
      "source": [
        "from datasets import load_dataset, Dataset\n",
        "import pandas as pd\n",
        "import numpy as np"
      ]
    },
    {
      "cell_type": "code",
      "execution_count": 3,
      "metadata": {
        "colab": {
          "base_uri": "https://localhost:8080/",
          "height": 435,
          "referenced_widgets": [
            "0bf4cde87cf34846b51da4ff6812d38d",
            "62ddafc101ec4eb2af56d45103d07c91",
            "a60bb7d7172444ba98875ec8f87b95db",
            "cee622d1f5444045953d5b1c433de03d",
            "0f94f7bddbc74b498f84614557acc8ab",
            "120e00b4343d456f9b58fb41acfe9996",
            "50bc2ab4d47540dca3556ed2cace3e85",
            "5dc122702bcf4e6299deea122927148d",
            "13205627a39e436ead2302e9aa0f464b",
            "4c52edc124fb468e899d2197d12dcd1d",
            "39c4ce11547b451f8e9016a35edda4bf",
            "96c50310d0ce487f9cf3887063dac3a1",
            "0f04a0e59ee949f1943ebc916184d1e7",
            "c58ce4f911364692b8e8253b6d533b0c",
            "3b6d9d005050459b83c3612021b8c54a",
            "86b49add538d4fe091389f7fd680abf3",
            "324d3fc5db274cff893c99e29996ea39",
            "f54358d9aa5c48da84f9889f8cd8319b",
            "6dc0397f6a0241c392660df9ecf42888",
            "9cf67c74c32146c0ba734804aa4ed68d",
            "a1f871be37484caa9f8fa71bfd268072",
            "07c6e9085d9447c587fd3093affcfa6e",
            "cf63bef8e2064980b84b697a4087d584",
            "0d610d4f9af34052899434bf018694ef",
            "b51a910c51a9498fa8a48b3a60bc04c1",
            "7266cff41d21474d901922daa15144e4",
            "9d41c98a970a46c9957dbf4417ff2ca5",
            "f7bd8131b47a41259445f600a3a94452",
            "c3aa4ee6dc724235b21cf9b67f306e6d",
            "4ce917abd6a040939273a5eef02ee9bb",
            "dbdc218989cf43f3b26d38ff78c76e5c",
            "badf128a6b2c4958bc72ba26f488d286",
            "db8ea794e9c94be0b6cd2479f012b792",
            "5a7372239d1b41a4bb5e2f1577e914a9",
            "1fb29393549346cd95b7089824ccf277",
            "ac61df4a022b4c809bbead1390e7fe40",
            "a1103e0577b1486d99c99b49ef352e61",
            "c0778cab482c4c7e87e71611273dcf38",
            "16192f3e581e4a02b7050c5e02236906",
            "7e220f15c4df456fb750bc1bd98d1a2a",
            "8065e98a847a44f0b82daedc31ee5ae8",
            "1a6e2dd02bf144dc96d154b2cd05ce3e",
            "45a2aac069f447f38ae28b3b3ebe3645",
            "2e8677027dcb468990b6059b60a8706d",
            "47b82b98a734479a8afa65b321f7f7b0",
            "e9ce18da8965427a8437e2f0d05b5a1f",
            "8599e9c1c98142e2bf06d131c7d39078",
            "5a345eac92de49cfa0adaf59842f024c",
            "061a4b1fceff409f8b9ab7ace3162c5b",
            "8bb2b003536d4dbf82e5fb309d50aa58",
            "6ed6e611f1e64235a542ebf9530908ff",
            "d384d0d2ad2143199409d08e42054a2d",
            "b18e502ab6ab4eadadcece0b89403988",
            "4be9895312804ff5ac7aaf99676907fe",
            "61330c6883654bf8a3e5c8e0cd63874f",
            "165a3c37d5d344268db839e09044f28d",
            "f09ddd52996f42a4b1224503a7e888ce",
            "a925bb01c7384fafbb399b6a6a0ee3fe",
            "4c8670857db549309b1f1228cf195149",
            "4965767c05af48b79eaa714d4e29f282",
            "ce9920b86c2d4153a914acde124cc1c3",
            "bdfec9b6c0ce4f67bf9fa0d928338fb6",
            "33619393111e48e6af89768862aa5071",
            "286ad630adf2450c83c23ba7006f0175",
            "d4ad5495e94f4b268992c395766d662a",
            "58ec095cfc7b4bfba7dac16ecd465251",
            "e75e723c73c249dea3fecaf31414c108",
            "99505c9e41bc4ab8a16de7682d5a2d90",
            "5c4003bee0f24387baa8366abeb3553c",
            "fceca66baccd4d09865b09cd185965ac",
            "539fea5d06f54dc3b2bf5c48b86fb689",
            "3378505303ef40ddb52541e7709b4bac",
            "0752044df08a461eb563a48a166eb682",
            "b8c25eb6a8cd4305b6f7957d2510417b",
            "d5eb9afe2a7a4b91884eb3bb24ac871b",
            "e091436f56f344f685f0660dbfce05e2",
            "ba4601ef00f64369a231ed8b084c73f8"
          ]
        },
        "id": "8NdKuRUsDJw7",
        "outputId": "b5d123de-ae41-4e16-c46a-640af3a33c64"
      },
      "outputs": [
        {
          "output_type": "stream",
          "name": "stderr",
          "text": [
            "/usr/local/lib/python3.10/dist-packages/huggingface_hub/utils/_token.py:88: UserWarning: \n",
            "The secret `HF_TOKEN` does not exist in your Colab secrets.\n",
            "To authenticate with the Hugging Face Hub, create a token in your settings tab (https://huggingface.co/settings/tokens), set it as secret in your Google Colab and restart your session.\n",
            "You will be able to reuse this secret in all of your notebooks.\n",
            "Please note that authentication is recommended but still optional to access public models or datasets.\n",
            "  warnings.warn(\n",
            "/usr/local/lib/python3.10/dist-packages/datasets/load.py:1461: FutureWarning: The repository for sst contains custom code which must be executed to correctly load the dataset. You can inspect the repository content at https://hf.co/datasets/sst\n",
            "You can avoid this message in future by passing the argument `trust_remote_code=True`.\n",
            "Passing `trust_remote_code=True` will be mandatory to load this dataset from the next major release of `datasets`.\n",
            "  warnings.warn(\n"
          ]
        },
        {
          "output_type": "display_data",
          "data": {
            "text/plain": [
              "Downloading builder script:   0%|          | 0.00/9.13k [00:00<?, ?B/s]"
            ],
            "application/vnd.jupyter.widget-view+json": {
              "version_major": 2,
              "version_minor": 0,
              "model_id": "0bf4cde87cf34846b51da4ff6812d38d"
            }
          },
          "metadata": {}
        },
        {
          "output_type": "display_data",
          "data": {
            "text/plain": [
              "Downloading readme:   0%|          | 0.00/6.68k [00:00<?, ?B/s]"
            ],
            "application/vnd.jupyter.widget-view+json": {
              "version_major": 2,
              "version_minor": 0,
              "model_id": "96c50310d0ce487f9cf3887063dac3a1"
            }
          },
          "metadata": {}
        },
        {
          "output_type": "display_data",
          "data": {
            "text/plain": [
              "Downloading data:   0%|          | 0.00/6.37M [00:00<?, ?B/s]"
            ],
            "application/vnd.jupyter.widget-view+json": {
              "version_major": 2,
              "version_minor": 0,
              "model_id": "cf63bef8e2064980b84b697a4087d584"
            }
          },
          "metadata": {}
        },
        {
          "output_type": "display_data",
          "data": {
            "text/plain": [
              "Downloading data:   0%|          | 0.00/790k [00:00<?, ?B/s]"
            ],
            "application/vnd.jupyter.widget-view+json": {
              "version_major": 2,
              "version_minor": 0,
              "model_id": "5a7372239d1b41a4bb5e2f1577e914a9"
            }
          },
          "metadata": {}
        },
        {
          "output_type": "display_data",
          "data": {
            "text/plain": [
              "Generating train split:   0%|          | 0/8544 [00:00<?, ? examples/s]"
            ],
            "application/vnd.jupyter.widget-view+json": {
              "version_major": 2,
              "version_minor": 0,
              "model_id": "47b82b98a734479a8afa65b321f7f7b0"
            }
          },
          "metadata": {}
        },
        {
          "output_type": "display_data",
          "data": {
            "text/plain": [
              "Generating validation split:   0%|          | 0/1101 [00:00<?, ? examples/s]"
            ],
            "application/vnd.jupyter.widget-view+json": {
              "version_major": 2,
              "version_minor": 0,
              "model_id": "165a3c37d5d344268db839e09044f28d"
            }
          },
          "metadata": {}
        },
        {
          "output_type": "display_data",
          "data": {
            "text/plain": [
              "Generating test split:   0%|          | 0/2210 [00:00<?, ? examples/s]"
            ],
            "application/vnd.jupyter.widget-view+json": {
              "version_major": 2,
              "version_minor": 0,
              "model_id": "e75e723c73c249dea3fecaf31414c108"
            }
          },
          "metadata": {}
        }
      ],
      "source": [
        "sst_dataset = load_dataset('sst')"
      ]
    },
    {
      "cell_type": "code",
      "execution_count": 4,
      "metadata": {
        "colab": {
          "base_uri": "https://localhost:8080/"
        },
        "id": "3xAHI1AxDKqm",
        "outputId": "4423cc2d-c633-4761-c437-d1013450d87f"
      },
      "outputs": [
        {
          "output_type": "stream",
          "name": "stdout",
          "text": [
            "{'sentence': 'This story still seems timely and important .', 'label': 0.6944400072097778, 'tokens': 'This|story|still|seems|timely|and|important|.', 'tree': '14|14|13|11|9|9|10|12|10|11|12|13|15|15|0'}\n",
            "Number of training examples: 8544\n",
            "Number of validation examples: 1101\n",
            "Number of test examples: 2210\n"
          ]
        }
      ],
      "source": [
        "print(sst_dataset['train'][500])\n",
        "print(f\"Number of training examples: {len(sst_dataset['train'])}\")\n",
        "print(f\"Number of validation examples: {len(sst_dataset['validation'])}\")\n",
        "print(f\"Number of test examples: {len(sst_dataset['test'])}\")"
      ]
    },
    {
      "cell_type": "markdown",
      "metadata": {
        "id": "9IHBlanSB3eu"
      },
      "source": [
        "# Preprocessing"
      ]
    },
    {
      "cell_type": "markdown",
      "metadata": {
        "id": "a6rfAZ8_TfEK"
      },
      "source": [
        "Removing the 'tree' column and adjusting the labels to accomodate the 5 classes we want to classify to where:\n",
        "From 0 to 0.2 (0.2 included) will be class 0 “very negative”.\n",
        "\n",
        "From 0.2 to 0.4 (0.4 included) will be class 1 “negative”.\n",
        "\n",
        "From 0.4 to 0.6 (0.6 included) will be class 2 “neutral”.\n",
        "\n",
        "From 0.6 to 0.8 (0.8 included) will be class 3 “positive”.\n",
        "\n",
        "From 0.8 to 1.0 (1.0 included) will be class 4 “very positive”."
      ]
    },
    {
      "cell_type": "code",
      "execution_count": 5,
      "metadata": {
        "colab": {
          "base_uri": "https://localhost:8080/"
        },
        "id": "s5EPCqgimpFE",
        "outputId": "e4b0fe18-2b00-4b00-c35e-635bd9021e89"
      },
      "outputs": [
        {
          "output_type": "stream",
          "name": "stdout",
          "text": [
            "DatasetDict({\n",
            "    train: Dataset({\n",
            "        features: ['sentence', 'tokens', 'mapped_label'],\n",
            "        num_rows: 8544\n",
            "    })\n",
            "    validation: Dataset({\n",
            "        features: ['sentence', 'tokens', 'mapped_label'],\n",
            "        num_rows: 1101\n",
            "    })\n",
            "    test: Dataset({\n",
            "        features: ['sentence', 'tokens', 'mapped_label'],\n",
            "        num_rows: 2210\n",
            "    })\n",
            "})\n"
          ]
        }
      ],
      "source": [
        "#converting splits to Pandas DataFrame for manipulation\n",
        "\n",
        "train_df = pd.DataFrame(sst_dataset['train'])\n",
        "test_df = pd.DataFrame(sst_dataset['test'])\n",
        "val_df = pd.DataFrame(sst_dataset['validation'])\n",
        "\n",
        "#function to map float labels to our desired categorical classes\n",
        "def map_labels_to_categories(label):\n",
        "    if 0.0 <= label <= 0.2:\n",
        "        return 0  # very negative\n",
        "    elif 0.2 < label <= 0.4:\n",
        "        return 1  # negative\n",
        "    elif 0.4 < label <= 0.6:\n",
        "        return 2  # neutral\n",
        "    elif 0.6 < label <= 0.8:\n",
        "        return 3  # positive\n",
        "    elif 0.8 < label <= 1.0:\n",
        "        return 4  # very positive\n",
        "\n",
        "#mapping function to create a new column with mapped labels\n",
        "train_df['mapped_label'] = train_df['label'].apply(map_labels_to_categories)\n",
        "test_df['mapped_label'] = test_df['label'].apply(map_labels_to_categories)\n",
        "val_df['mapped_label'] = val_df['label'].apply(map_labels_to_categories)\n",
        "\n",
        "#dropping the original label column\n",
        "train_df = train_df.drop('label', axis=1)\n",
        "test_df = test_df.drop('label', axis=1)\n",
        "val_df = val_df.drop('label', axis=1)\n",
        "\n",
        "train_df = train_df.drop(columns=['tree']) #dropping 'tree' column\n",
        "test_df = test_df.drop(columns=['tree'])\n",
        "val_df = val_df.drop(columns=['tree'])\n",
        "\n",
        "######just to print an output and visualise\n",
        "#convert the DataFrame back to the datasets format\n",
        "sst_dataset['train'] = Dataset.from_pandas(train_df)\n",
        "sst_dataset['test'] = Dataset.from_pandas(test_df)\n",
        "sst_dataset['validation'] = Dataset.from_pandas(val_df)\n",
        "\n",
        "#display the updated dataset\n",
        "print(sst_dataset)"
      ]
    },
    {
      "cell_type": "code",
      "execution_count": 6,
      "metadata": {
        "colab": {
          "base_uri": "https://localhost:8080/"
        },
        "id": "688DssCrsigk",
        "outputId": "49122c4a-e868-4306-9fe6-e9b697baa988"
      },
      "outputs": [
        {
          "output_type": "stream",
          "name": "stdout",
          "text": [
            "Training Split Label Distribution:\n",
            "0    1092\n",
            "1    2218\n",
            "2    1624\n",
            "3    2322\n",
            "4    1288\n",
            "Name: mapped_label, dtype: int64\n",
            "\n",
            "Test Split Label Distribution:\n",
            "0    279\n",
            "1    633\n",
            "2    389\n",
            "3    510\n",
            "4    399\n",
            "Name: mapped_label, dtype: int64\n",
            "\n",
            "Validation Split Label Distribution:\n",
            "0    139\n",
            "1    289\n",
            "2    229\n",
            "3    279\n",
            "4    165\n",
            "Name: mapped_label, dtype: int64\n"
          ]
        }
      ],
      "source": [
        "#analyzing the distribution of labels\n",
        "train_label_distribution = train_df['mapped_label'].value_counts().sort_index()\n",
        "test_label_distribution = test_df['mapped_label'].value_counts().sort_index()\n",
        "val_label_distribution = val_df['mapped_label'].value_counts().sort_index()\n",
        "\n",
        "print(\"Training Split Label Distribution:\")\n",
        "print(train_label_distribution)\n",
        "\n",
        "print(\"\\nTest Split Label Distribution:\")\n",
        "print(test_label_distribution)\n",
        "\n",
        "print(\"\\nValidation Split Label Distribution:\")\n",
        "print(val_label_distribution)\n"
      ]
    },
    {
      "cell_type": "markdown",
      "metadata": {
        "id": "GbDu1oUutxsT"
      },
      "source": [
        "### Visualisation for us"
      ]
    },
    {
      "cell_type": "code",
      "execution_count": 7,
      "metadata": {
        "colab": {
          "base_uri": "https://localhost:8080/",
          "height": 467
        },
        "id": "5ZmT1vVBd1Fy",
        "outputId": "c0cdc455-4160-4a2b-80d3-4bba05b18858"
      },
      "outputs": [
        {
          "output_type": "display_data",
          "data": {
            "text/plain": [
              "<Figure size 640x480 with 1 Axes>"
            ],
            "image/png": "[encoded data removed]"
          },
          "metadata": {}
        }
      ],
      "source": [
        "import matplotlib.pyplot as plt\n",
        "import pandas as pd\n",
        "train_df = pd.DataFrame(sst_dataset['train']) #convert the 'train' split to a Pandas DataFrame\n",
        "\n",
        "# Plot the distribution of mapped labels in the 'train' split\n",
        "train_df['mapped_label'].value_counts().sort_index().plot(kind='bar')\n",
        "plt.title('Distribution of Mapped Labels in the Train Split')\n",
        "plt.xlabel('Mapped Label')\n",
        "plt.ylabel('Count')\n",
        "plt.show()"
      ]
    },
    {
      "cell_type": "code",
      "execution_count": 8,
      "metadata": {
        "colab": {
          "base_uri": "https://localhost:8080/"
        },
        "id": "i_iFiVO7TAe6",
        "outputId": "f6538c0f-686b-4c1c-9b6b-36d4d232d123"
      },
      "outputs": [
        {
          "output_type": "stream",
          "name": "stdout",
          "text": [
            "                                            sentence  \\\n",
            "0  The Rock is destined to be the 21st Century 's...   \n",
            "1  The gorgeously elaborate continuation of `` Th...   \n",
            "2  Singer\\/composer Bryan Adams contributes a sle...   \n",
            "3  You 'd think by now America would have had eno...   \n",
            "4               Yet the act is still charming here .   \n",
            "\n",
            "                                              tokens  mapped_label  \n",
            "0  The|Rock|is|destined|to|be|the|21st|Century|'s...             3  \n",
            "1  The|gorgeously|elaborate|continuation|of|``|Th...             4  \n",
            "2  Singer\\/composer|Bryan|Adams|contributes|a|sle...             3  \n",
            "3  You|'d|think|by|now|America|would|have|had|eno...             2  \n",
            "4               Yet|the|act|is|still|charming|here|.             3  \n",
            "Unique values in mapped_labels =  [3 4 2 1 0]\n",
            "Missing =  0\n"
          ]
        }
      ],
      "source": [
        "#print first few rows of the 'train' split to see the transformed data\n",
        "print(train_df.head())\n",
        "\n",
        "#to ensure correct mapping\n",
        "print(\"Unique values in mapped_labels = \",train_df['mapped_label'].unique())\n",
        "\n",
        "#check for missing values in the 'mapped_label' column of the 'train' split\n",
        "print(\"Missing = \",train_df['mapped_label'].isnull().sum())\n"
      ]
    },
    {
      "cell_type": "markdown",
      "metadata": {
        "id": "Ngi3yEz6q7rb"
      },
      "source": [
        "## Naive Bayes\n"
      ]
    },
    {
      "cell_type": "markdown",
      "source": [
        "$\\textbf{Equation}$\n",
        "\n",
        "\n",
        "$$\\log(P(C_k)) = \\log\\left(\\frac{{\\text{Number of samples belonging to class $k$ } }}{{\\text{Total number of samples}}}\\right)$$\n",
        "\n",
        "This function is essential for initializing the Naive Bayes classifier and obtaining the class log priors necessary for classification."
      ],
      "metadata": {
        "id": "VelrmVk_tM0R"
      }
    },
    {
      "cell_type": "code",
      "execution_count": 9,
      "metadata": {
        "colab": {
          "base_uri": "https://localhost:8080/"
        },
        "id": "4FMn6E9nb3bk",
        "outputId": "783a41e1-f5fa-4ae1-c9a4-a77ac83ac842"
      },
      "outputs": [
        {
          "output_type": "stream",
          "name": "stdout",
          "text": [
            "Accuracy when splitting sentence: 0.39683257918552034\n"
          ]
        }
      ],
      "source": [
        "def train_naive_bayes(D, C):\n",
        "    Ndoc = len(D)   #total number of documents in training dataset D\n",
        "    Nc = np.array([np.sum(D['mapped_label'] == c) for c in C]) #calculates no. of documents in D that belong to each class in C\n",
        "    logprior = np.log(Nc / Ndoc) #calculating prior probability of each class\n",
        "\n",
        "    #building vocabulary of D\n",
        "    V = set()\n",
        "    for doc in D['sentence']:\n",
        "        V.update(doc.split())  #adding to V so it has unique words\n",
        "    V = list(V) #converting to list\n",
        "\n",
        "    #calculating P(w|c) terms\n",
        "    bigdoc = {}  #new dictionary\n",
        "    for c in C:\n",
        "        bigdoc[c] = ' '.join(D[D['mapped_label'] == c]['sentence']).split() #concatenate sentences of documents belonging to each class and split them into words\n",
        "\n",
        "    #calculating frequency of each word in vocabulary for each class and store counts in a 2D NumPy array count\n",
        "    count = np.zeros((len(V), len(C)))\n",
        "    for i, word in enumerate(V):\n",
        "        for j, c in enumerate(C):\n",
        "            count[i, j] = bigdoc[c].count(word)\n",
        "\n",
        "    #calculate log likelihoods of each word given each class\n",
        "    #using Laplace smoothing to avoid zero probabilities\n",
        "    loglikelihood = np.log((count + 1) / (np.sum(count, axis=0, keepdims=True) + len(V)))\n",
        "\n",
        "    return logprior, loglikelihood, V\n",
        "\n",
        "def test_naive_bayes(testdoc, logprior, loglikelihood, C, V):\n",
        "    sum_ = np.zeros(len(C))  # to store log probabilities of each class for the given testdoc\n",
        "    for c in C:\n",
        "        sum_[c] = logprior[c]\n",
        "        for word in testdoc.split():\n",
        "            if word in V:  #if present in vocab\n",
        "                sum_[c] += loglikelihood[V.index(word), c]\n",
        "\n",
        "    return np.argmax(sum_) #returns index of the class with the highest log probability (indicating predicted class for the testdoc)\n",
        "\n",
        "#list with the classes we have (aka labels)\n",
        "C = [0, 1, 2, 3, 4]\n",
        "\n",
        "#Trainingg\n",
        "logprior, loglikelihood, V = train_naive_bayes(train_df, C)\n",
        "\n",
        "#Testingg\n",
        "correct = 0\n",
        "total = len(test_df)\n",
        "for i in range(total):\n",
        "    predicted_label = test_naive_bayes(test_df.iloc[i]['sentence'], logprior, loglikelihood, C, V)\n",
        "    if predicted_label == test_df.iloc[i]['mapped_label']:\n",
        "        correct += 1\n",
        "\n",
        "accuracy = correct / total\n",
        "print(\"Accuracy when splitting sentence:\", accuracy)\n"
      ]
    },
    {
      "cell_type": "markdown",
      "metadata": {
        "id": "7XmaIeNrO4ex"
      },
      "source": [
        "#####same thing but with existing tokens in dataset not spliting the sentence"
      ]
    },
    {
      "cell_type": "code",
      "execution_count": 10,
      "metadata": {
        "colab": {
          "base_uri": "https://localhost:8080/"
        },
        "id": "0clLFYYS99F-",
        "outputId": "8e8303d7-c77f-44f6-8f5f-918e77833662"
      },
      "outputs": [
        {
          "output_type": "stream",
          "name": "stdout",
          "text": [
            "Accuracy with existing tokens in dataset: 0.2864253393665158\n"
          ]
        }
      ],
      "source": [
        "def train_naive_bayes1(D, C):\n",
        "    #calculate P(c) terms\n",
        "    Ndoc = len(D)\n",
        "    Nc = np.array([np.sum(D['mapped_label'] == c) for c in C])\n",
        "    logprior = np.log(Nc / Ndoc)\n",
        "\n",
        "    # building vocab with existing tokens in dataset\n",
        "    V = set()\n",
        "    for tokens in D['tokens']:\n",
        "        V.update(tokens)\n",
        "    V = list(V)\n",
        "\n",
        "    #calculate P(w|c) terms\n",
        "    bigdoc = {}\n",
        "    for c in C:\n",
        "        bigdoc[c] = [token for tokens in D[D['mapped_label'] == c]['tokens'] for token in tokens]\n",
        "\n",
        "    count = np.zeros((len(V), len(C)))\n",
        "    for i, word in enumerate(V):\n",
        "        for j, c in enumerate(C):\n",
        "            count[i, j] = bigdoc[c].count(word)\n",
        "\n",
        "    loglikelihood = np.log((count + 1) / (np.sum(count, axis=0, keepdims=True) + len(V)))\n",
        "\n",
        "    return logprior, loglikelihood, V\n",
        "\n",
        "def test_naive_bayes1(testdoc, logprior, loglikelihood, C, V):\n",
        "    sum_ = np.zeros(len(C))\n",
        "    for c in C:\n",
        "        sum_[c] = logprior[c]\n",
        "        for word in testdoc:\n",
        "            if word in V:\n",
        "                sum_[c] += loglikelihood[V.index(word), c]\n",
        "\n",
        "    return np.argmax(sum_)\n",
        "\n",
        "#classes\n",
        "C = [0, 1, 2, 3, 4]\n",
        "\n",
        "logprior, loglikelihood, V = train_naive_bayes1(train_df, C)\n",
        "\n",
        "correct = 0\n",
        "total = len(test_df)\n",
        "for i in range(total):\n",
        "    predicted_label = test_naive_bayes1(test_df.iloc[i]['tokens'], logprior, loglikelihood, C, V)\n",
        "    if predicted_label == test_df.iloc[i]['mapped_label']:\n",
        "        correct += 1\n",
        "\n",
        "accuracy = correct / total\n",
        "print(\"Accuracy with existing tokens in dataset:\", accuracy)\n"
      ]
    },
    {
      "cell_type": "markdown",
      "metadata": {
        "id": "0qUnpJ67QAaE"
      },
      "source": [
        "####Metrics and comparison with sklearn"
      ]
    },
    {
      "cell_type": "code",
      "execution_count": 11,
      "metadata": {
        "colab": {
          "base_uri": "https://localhost:8080/",
          "height": 125
        },
        "id": "sf6IBPCXvRuX",
        "outputId": "7bba6af0-4b61-4826-c564-47b04b980bdf"
      },
      "outputs": [
        {
          "output_type": "execute_result",
          "data": {
            "text/plain": [
              "Pipeline(steps=[('vectorizer', CountVectorizer()),\n",
              "                ('classifier', MultinomialNB())])"
            ],
            "text/html": [
              "<style>#sk-container-id-1 {color: black;background-color: white;}#sk-container-id-1 pre{padding: 0;}#sk-container-id-1 div.sk-toggleable {background-color: white;}#sk-container-id-1 label.sk-toggleable__label {cursor: pointer;display: block;width: 100%;margin-bottom: 0;padding: 0.3em;box-sizing: border-box;text-align: center;}#sk-container-id-1 label.sk-toggleable__label-arrow:before {content: \"▸\";float: left;margin-right: 0.25em;color: #696969;}#sk-container-id-1 label.sk-toggleable__label-arrow:hover:before {color: black;}#sk-container-id-1 div.sk-estimator:hover label.sk-toggleable__label-arrow:before {color: black;}#sk-container-id-1 div.sk-toggleable__content {max-height: 0;max-width: 0;overflow: hidden;text-align: left;background-color: #f0f8ff;}#sk-container-id-1 div.sk-toggleable__content pre {margin: 0.2em;color: black;border-radius: 0.25em;background-color: #f0f8ff;}#sk-container-id-1 input.sk-toggleable__control:checked~div.sk-toggleable__content {max-height: 200px;max-width: 100%;overflow: auto;}#sk-container-id-1 input.sk-toggleable__control:checked~label.sk-toggleable__label-arrow:before {content: \"▾\";}#sk-container-id-1 div.sk-estimator input.sk-toggleable__control:checked~label.sk-toggleable__label {background-color: #d4ebff;}#sk-container-id-1 div.sk-label input.sk-toggleable__control:checked~label.sk-toggleable__label {background-color: #d4ebff;}#sk-container-id-1 input.sk-hidden--visually {border: 0;clip: rect(1px 1px 1px 1px);clip: rect(1px, 1px, 1px, 1px);height: 1px;margin: -1px;overflow: hidden;padding: 0;position: absolute;width: 1px;}#sk-container-id-1 div.sk-estimator {font-family: monospace;background-color: #f0f8ff;border: 1px dotted black;border-radius: 0.25em;box-sizing: border-box;margin-bottom: 0.5em;}#sk-container-id-1 div.sk-estimator:hover {background-color: #d4ebff;}#sk-container-id-1 div.sk-parallel-item::after {content: \"\";width: 100%;border-bottom: 1px solid gray;flex-grow: 1;}#sk-container-id-1 div.sk-label:hover label.sk-toggleable__label {background-color: #d4ebff;}#sk-container-id-1 div.sk-serial::before {content: \"\";position: absolute;border-left: 1px solid gray;box-sizing: border-box;top: 0;bottom: 0;left: 50%;z-index: 0;}#sk-container-id-1 div.sk-serial {display: flex;flex-direction: column;align-items: center;background-color: white;padding-right: 0.2em;padding-left: 0.2em;position: relative;}#sk-container-id-1 div.sk-item {position: relative;z-index: 1;}#sk-container-id-1 div.sk-parallel {display: flex;align-items: stretch;justify-content: center;background-color: white;position: relative;}#sk-container-id-1 div.sk-item::before, #sk-container-id-1 div.sk-parallel-item::before {content: \"\";position: absolute;border-left: 1px solid gray;box-sizing: border-box;top: 0;bottom: 0;left: 50%;z-index: -1;}#sk-container-id-1 div.sk-parallel-item {display: flex;flex-direction: column;z-index: 1;position: relative;background-color: white;}#sk-container-id-1 div.sk-parallel-item:first-child::after {align-self: flex-end;width: 50%;}#sk-container-id-1 div.sk-parallel-item:last-child::after {align-self: flex-start;width: 50%;}#sk-container-id-1 div.sk-parallel-item:only-child::after {width: 0;}#sk-container-id-1 div.sk-dashed-wrapped {border: 1px dashed gray;margin: 0 0.4em 0.5em 0.4em;box-sizing: border-box;padding-bottom: 0.4em;background-color: white;}#sk-container-id-1 div.sk-label label {font-family: monospace;font-weight: bold;display: inline-block;line-height: 1.2em;}#sk-container-id-1 div.sk-label-container {text-align: center;}#sk-container-id-1 div.sk-container {/* jupyter's `normalize.less` sets `[hidden] { display: none; }` but bootstrap.min.css set `[hidden] { display: none !important; }` so we also need the `!important` here to be able to override the default hidden behavior on the sphinx rendered scikit-learn.org. See: https://github.com/scikit-learn/scikit-learn/issues/21755 */display: inline-block !important;position: relative;}#sk-container-id-1 div.sk-text-repr-fallback {display: none;}</style><div id=\"sk-container-id-1\" class=\"sk-top-container\"><div class=\"sk-text-repr-fallback\"><pre>Pipeline(steps=[(&#x27;vectorizer&#x27;, CountVectorizer()),\n",
              "                (&#x27;classifier&#x27;, MultinomialNB())])</pre><b>In a Jupyter environment, please rerun this cell to show the HTML representation or trust the notebook. <br />On GitHub, the HTML representation is unable to render, please try loading this page with nbviewer.org.</b></div><div class=\"sk-container\" hidden><div class=\"sk-item sk-dashed-wrapped\"><div class=\"sk-label-container\"><div class=\"sk-label sk-toggleable\"><input class=\"sk-toggleable__control sk-hidden--visually\" id=\"sk-estimator-id-1\" type=\"checkbox\" ><label for=\"sk-estimator-id-1\" class=\"sk-toggleable__label sk-toggleable__label-arrow\">Pipeline</label><div class=\"sk-toggleable__content\"><pre>Pipeline(steps=[(&#x27;vectorizer&#x27;, CountVectorizer()),\n",
              "                (&#x27;classifier&#x27;, MultinomialNB())])</pre></div></div></div><div class=\"sk-serial\"><div class=\"sk-item\"><div class=\"sk-estimator sk-toggleable\"><input class=\"sk-toggleable__control sk-hidden--visually\" id=\"sk-estimator-id-2\" type=\"checkbox\" ><label for=\"sk-estimator-id-2\" class=\"sk-toggleable__label sk-toggleable__label-arrow\">CountVectorizer</label><div class=\"sk-toggleable__content\"><pre>CountVectorizer()</pre></div></div></div><div class=\"sk-item\"><div class=\"sk-estimator sk-toggleable\"><input class=\"sk-toggleable__control sk-hidden--visually\" id=\"sk-estimator-id-3\" type=\"checkbox\" ><label for=\"sk-estimator-id-3\" class=\"sk-toggleable__label sk-toggleable__label-arrow\">MultinomialNB</label><div class=\"sk-toggleable__content\"><pre>MultinomialNB()</pre></div></div></div></div></div></div></div>"
            ]
          },
          "metadata": {},
          "execution_count": 11
        }
      ],
      "source": [
        "from sklearn.pipeline import Pipeline\n",
        "from sklearn.feature_extraction.text import CountVectorizer\n",
        "from sklearn.naive_bayes import MultinomialNB\n",
        "from sklearn.metrics import accuracy_score, confusion_matrix, precision_score, recall_score, f1_score\n",
        "\n",
        "#create pipeline\n",
        "pipeline = Pipeline([\n",
        "    ('vectorizer', CountVectorizer()),\n",
        "    ('classifier', MultinomialNB(alpha=1.0))  # Alpha parameter for Laplace smoothing\n",
        "    ])\n",
        "\n",
        "#Train pipeline\n",
        "pipeline.fit(train_df['sentence'], train_df['mapped_label'])\n"
      ]
    },
    {
      "cell_type": "code",
      "execution_count": 13,
      "metadata": {
        "colab": {
          "base_uri": "https://localhost:8080/"
        },
        "id": "mB57jC_bPsrJ",
        "outputId": "4d3da09a-734f-4a62-ed04-f66709b09906"
      },
      "outputs": [
        {
          "output_type": "stream",
          "name": "stdout",
          "text": [
            "Accuracy (scikit-learn): 0.4090497737556561\n"
          ]
        }
      ],
      "source": [
        "#making predictions\n",
        "predictions_sklearn = pipeline.predict(test_df['sentence'])\n",
        "\n",
        "accuracy_sklearn = accuracy_score(test_df['mapped_label'], predictions_sklearn)\n",
        "print(\"Accuracy (scikit-learn):\", accuracy_sklearn)\n"
      ]
    },
    {
      "cell_type": "code",
      "execution_count": 14,
      "metadata": {
        "colab": {
          "base_uri": "https://localhost:8080/"
        },
        "id": "xCgCXEZCSbMk",
        "outputId": "56a8e424-ecda-47a2-a7fa-5dd3c52e2c36"
      },
      "outputs": [
        {
          "output_type": "stream",
          "name": "stdout",
          "text": [
            "Confusion Matrix (only using numpy):\n",
            " [[ 28 200  10  41   0]\n",
            " [ 22 415  57 127  12]\n",
            " [  8 154  34 181  12]\n",
            " [  2  88  39 340  41]\n",
            " [  2  39  12 259  87]]\n",
            "Precision: [0.4516129  0.46316964 0.22368421 0.35864979 0.57236842]\n",
            "Recall: [0.10035842 0.65560821 0.0874036  0.66666667 0.21804511]\n",
            "F1 Score: [0.16422287 0.54283846 0.12569316 0.46639232 0.31578947]\n",
            "Macro-averaged Precision: 0.41389699333828645\n",
            "Macro-averaged Recall: 0.3456164032418666\n",
            "Macro-averaged F1 Score: 0.3229872566299008\n"
          ]
        }
      ],
      "source": [
        "#  function to make the Confusion Matrix\n",
        "def confusion_matrix_numpy(y_true, y_pred, num_classes):\n",
        "    confusion_mat = np.zeros((num_classes, num_classes), dtype=int)\n",
        "    for true, pred in zip(y_true, y_pred):\n",
        "        confusion_mat[true][pred] += 1\n",
        "    return confusion_mat\n",
        "\n",
        "conf_matrix_numpy = confusion_matrix_numpy(test_df['mapped_label'], predictions_sklearn, len(C))\n",
        "print(\"Confusion Matrix (only using numpy):\\n\", conf_matrix_numpy)\n",
        "\n",
        "# Precision, Recall, and F1 score per class\n",
        "def precision_recall_f1_numpy(conf_matrix):\n",
        "    precision = np.diag(conf_matrix) / np.sum(conf_matrix, axis=0)\n",
        "    recall = np.diag(conf_matrix) / np.sum(conf_matrix, axis=1)\n",
        "    f1 = 2 * (precision * recall) / (precision + recall)\n",
        "    return precision, recall, f1\n",
        "\n",
        "precision_numpy, recall_numpy, f1_numpy = precision_recall_f1_numpy(conf_matrix_numpy)\n",
        "print(\"Precision:\", precision_numpy)\n",
        "print(\"Recall:\", recall_numpy)\n",
        "print(\"F1 Score:\", f1_numpy)\n",
        "\n",
        "# Macro-averaged Precision, Recall, and F1 score\n",
        "def macro_averaged_metrics_numpy(precision, recall, f1):\n",
        "    macro_precision = np.mean(precision)\n",
        "    macro_recall = np.mean(recall)\n",
        "    macro_f1 = np.mean(f1)\n",
        "    return macro_precision, macro_recall, macro_f1\n",
        "\n",
        "precision_macro_numpy, recall_macro_numpy, f1_macro_numpy = macro_averaged_metrics_numpy(precision_numpy, recall_numpy, f1_numpy)\n",
        "print(\"Macro-averaged Precision:\", precision_macro_numpy)\n",
        "print(\"Macro-averaged Recall:\", recall_macro_numpy)\n",
        "print(\"Macro-averaged F1 Score:\", f1_macro_numpy)\n"
      ]
    },
    {
      "cell_type": "markdown",
      "metadata": {
        "id": "3XGpXx7mQ4MU"
      },
      "source": [
        "##### better representation (for us)"
      ]
    },
    {
      "cell_type": "code",
      "execution_count": 15,
      "metadata": {
        "colab": {
          "base_uri": "https://localhost:8080/"
        },
        "id": "pHTx14dDP7NS",
        "outputId": "9b911f95-f078-435c-d53d-acfb60f2700f"
      },
      "outputs": [
        {
          "output_type": "stream",
          "name": "stdout",
          "text": [
            "Metrics per class (scikit-learn):\n",
            "    Precision    Recall  F1 Score\n",
            "0   0.451613  0.100358  0.164223\n",
            "1   0.463170  0.655608  0.542838\n",
            "2   0.223684  0.087404  0.125693\n",
            "3   0.358650  0.666667  0.466392\n",
            "4   0.572368  0.218045  0.315789\n",
            "-------------------------------------\n",
            "Macro-averaged Metrics (scikit-learn):\n",
            "    Precision    Recall  F1 Score\n",
            "0   0.413897  0.345616  0.322987\n"
          ]
        }
      ],
      "source": [
        "#create DataFrame for precision, recall, and F1 score\n",
        "metrics_df = pd.DataFrame({\n",
        "    'Precision': precision_numpy,\n",
        "    'Recall': recall_numpy,\n",
        "    'F1 Score': f1_numpy\n",
        "}, index=C)  # Assuming C contains the class labels\n",
        "\n",
        "\n",
        "# create DataFrame for macro-averaged precision, recall, and F1 score\n",
        "macro_metrics_df = pd.DataFrame({\n",
        "    'Precision': [precision_macro_numpy],\n",
        "    'Recall': [recall_macro_numpy],\n",
        "    'F1 Score': [f1_macro_numpy]\n",
        "})\n",
        "\n",
        "print(\"Metrics per class (scikit-learn):\\n\", metrics_df)\n",
        "print(\"-------------------------------------\")\n",
        "print(\"Macro-averaged Metrics (scikit-learn):\\n\", macro_metrics_df)\n"
      ]
    },
    {
      "cell_type": "markdown",
      "metadata": {
        "id": "WSRDo1llyxWX"
      },
      "source": [
        "# Logistic regression"
      ]
    },
    {
      "cell_type": "markdown",
      "metadata": {
        "id": "7_GBpk7P8mDg"
      },
      "source": [
        "BiGramClass:\n",
        "\n",
        "```\n",
        " we implimented the three steps in one class to help us during the testing phase\n",
        "```\n",
        "\n"
      ]
    },
    {
      "cell_type": "code",
      "execution_count": null,
      "metadata": {
        "colab": {
          "base_uri": "https://localhost:8080/"
        },
        "id": "IwHQ4r5Yo-yh",
        "outputId": "08d38afd-e964-4bbb-826c-3c07babd7d21"
      },
      "outputs": [
        {
          "name": "stdout",
          "output_type": "stream",
          "text": [
            "Epoch 0, Loss: 12.950020654120213\n",
            "Epoch 10, Loss: 12.031308075029264\n",
            "Epoch 20, Loss: 11.130034776300405\n",
            "Epoch 30, Loss: 10.2476306078688\n",
            "Epoch 40, Loss: 9.385346623719448\n",
            "Epoch 50, Loss: 8.544243369480888\n",
            "Epoch 60, Loss: 7.725147219465302\n",
            "Epoch 70, Loss: 6.928662171945825\n",
            "Epoch 80, Loss: 6.155199294865913\n",
            "Epoch 90, Loss: 5.404974801265081\n"
          ]
        }
      ],
      "source": [
        "\n",
        "train_dataset = sst_dataset['train']\n",
        "class BiGramLogisticRegression:\n",
        "\n",
        "    def __init__(self, learning_rate=0.001, num_epochs=100):\n",
        "        self.learning_rate = learning_rate\n",
        "        self.num_epochs = num_epochs\n",
        "        self.vocab = None\n",
        "        self.weights = None\n",
        "        self.bias = None\n",
        "\n",
        "    def sigmoid(self, z):\n",
        "        return 1 / (1 + np.exp(-z))\n",
        "\n",
        "    def initialize_params(self, num_features):\n",
        "        self.weights = np.random.randn(num_features)\n",
        "        self.bias = 0\n",
        "\n",
        "    def compute_loss(self, y_true, y_pred):\n",
        "        epsilon = 1e-10\n",
        "        return -np.mean(y_true * np.log(y_pred + epsilon) + (1 - y_true) * np.log(1 - y_pred + epsilon))\n",
        "\n",
        "\n",
        "#the preprocessing bi-gram set\n",
        "    def preprocess_and_create_vocab(self, data):\n",
        "        sentences = data['sentence']\n",
        "        tokens = data['tokens']\n",
        "\n",
        "        word_bi_grams = []\n",
        "        for sentence_tokens in tokens:\n",
        "            bi_grams = [(sentence_tokens[i], sentence_tokens[i + 1]) for i in range(len(sentence_tokens) - 1)]\n",
        "            word_bi_grams.extend(bi_grams)\n",
        "\n",
        "        self.vocab = list(set(word_bi_grams))\n",
        "\n",
        "#creating a vector of 1 if bigram exists in dataset else 0\n",
        "    def create_feature_vector(self, sentence_tokens):\n",
        "        feature_vector = np.zeros(len(self.vocab))\n",
        "        for i in range(len(sentence_tokens) - 1):\n",
        "            bi_gram = (sentence_tokens[i], sentence_tokens[i + 1])\n",
        "            if bi_gram in self.vocab:\n",
        "                feature_vector[self.vocab.index(bi_gram)] = 1\n",
        "        return feature_vector\n",
        "\n",
        "    def fit(self, data):\n",
        "        self.preprocess_and_create_vocab(data)\n",
        "        X_train = np.array([self.create_feature_vector(tokens) for tokens in data['tokens']])\n",
        "        y_train = np.array(data['mapped_label'])\n",
        "\n",
        "        num_samples, num_features = X_train.shape\n",
        "        self.initialize_params(num_features)\n",
        "\n",
        "        for epoch in range(self.num_epochs):\n",
        "            # Forward pass\n",
        "            logits = np.dot(X_train, self.weights) + self.bias\n",
        "            y_pred = self.sigmoid(logits)\n",
        "\n",
        "            # Compute loss\n",
        "            loss = self.compute_loss(y_train, y_pred)\n",
        "\n",
        "            # Compute gradients\n",
        "            dw = (1 / num_samples) * np.dot(X_train.T, (y_pred - y_train))\n",
        "            db = (1 / num_samples) * np.sum(y_pred - y_train)\n",
        "\n",
        "            # Update parameters\n",
        "            self.weights -= self.learning_rate * dw\n",
        "            self.bias -= self.learning_rate * db\n",
        "\n",
        "            if epoch % 10 == 0:\n",
        "                print(f\"Epoch {epoch}, Loss: {loss}\")\n",
        "\n",
        "    def predict(self, data):\n",
        "        X_test = np.array([self.create_feature_vector(tokens) for tokens in data['tokens']])\n",
        "        logits = np.dot(X_test, self.weights) + self.bias\n",
        "        y_pred = self.sigmoid(logits)\n",
        "\n",
        "        # Define class boundaries\n",
        "        thresholds = [0.2, 0.4, 0.6, 0.8]\n",
        "\n",
        "        # Classify based on thresholds\n",
        "        predictions = np.zeros(len(y_pred), dtype=int)\n",
        "        for i, pred in enumerate(y_pred):\n",
        "            if pred < thresholds[0]:\n",
        "                predictions[i] = 0\n",
        "            elif pred < thresholds[1]:\n",
        "                predictions[i] = 1\n",
        "            elif pred < thresholds[2]:\n",
        "                predictions[i] = 2\n",
        "            elif pred < thresholds[3]:\n",
        "                predictions[i] = 3\n",
        "            else:\n",
        "                predictions[i] = 4  # For values >= 0.8\n",
        "        return predictions\n",
        "\n",
        "# Initialize the logistic regression model\n",
        "model = BiGramLogisticRegression()\n",
        "\n",
        "# Train the model on the training data\n",
        "model.fit(train_dataset)"
      ]
    },
    {
      "cell_type": "code",
      "execution_count": null,
      "metadata": {
        "id": "lLxyyXkvwV8Y"
      },
      "outputs": [],
      "source": [
        "\n",
        "test_predictions= model.predict(sst_dataset['test'])"
      ]
    },
    {
      "cell_type": "code",
      "execution_count": null,
      "metadata": {
        "colab": {
          "base_uri": "https://localhost:8080/"
        },
        "id": "fUj8GhUMnDOR",
        "outputId": "2ab8af0c-94f3-4f5f-edab-a876ebf00014"
      },
      "outputs": [
        {
          "name": "stdout",
          "output_type": "stream",
          "text": [
            "Confusion Matrix:\n",
            "[[151.  16.  23.  13.  76.]\n",
            " [321.  44.  38.  32. 198.]\n",
            " [195.  22.  19.  20. 133.]\n",
            " [251.  37.  29.  32. 161.]\n",
            " [222.  25.  23.  18. 111.]]\n"
          ]
        }
      ],
      "source": [
        "def confusion_matrix(y_true, y_pred):\n",
        "    num_classes = len(np.unique(y_true))\n",
        "    matrix = np.zeros((num_classes, num_classes))\n",
        "\n",
        "    for i in range(len(y_true)):\n",
        "        true_label = y_true[i]\n",
        "        predicted_label = y_pred[i]\n",
        "        matrix[true_label][predicted_label] += 1\n",
        "\n",
        "    return matrix\n",
        "\n",
        "\n",
        "\n",
        "conf_matrix = confusion_matrix(sst_dataset['test']['mapped_label'], test_predictions)\n",
        "\n",
        "print(\"Confusion Matrix:\")\n",
        "print(conf_matrix)\n"
      ]
    },
    {
      "cell_type": "code",
      "execution_count": null,
      "metadata": {
        "colab": {
          "base_uri": "https://localhost:8080/"
        },
        "id": "0qCbqV7sriCt",
        "outputId": "5d3cdde8-e91e-4181-9fc3-579fe5ad7cfc"
      },
      "outputs": [
        {
          "name": "stdout",
          "output_type": "stream",
          "text": [
            "\n",
            "Precision: [0.13245614 0.30555556 0.14393939 0.27826087 0.1634757 ]\n",
            "Recall: [0.54121864 0.06951027 0.04884319 0.0627451  0.27819549]\n",
            "Accuracy: 0.16153846153846155\n",
            "F1 Score: [0.21282593 0.11325611 0.07293666 0.1024     0.20593692]\n"
          ]
        }
      ],
      "source": [
        "def precision(conf_matrix):\n",
        "    true_positives = np.diag(conf_matrix)\n",
        "    false_positives = np.sum(conf_matrix, axis=0) - true_positives\n",
        "    with np.errstate(divide='ignore', invalid='ignore'):\n",
        "        precision_values = true_positives / (true_positives + false_positives)\n",
        "        precision_values[np.isnan(precision_values)] = 0  # Replace NaN values with zero\n",
        "    return precision_values\n",
        "\n",
        "def recall(conf_matrix):\n",
        "    true_positives = np.diag(conf_matrix)\n",
        "    false_negatives = np.sum(conf_matrix, axis=1) - true_positives\n",
        "    return true_positives / (true_positives + false_negatives)\n",
        "\n",
        "def accuracy(conf_matrix):\n",
        "    correct_predictions = np.sum(np.diag(conf_matrix))\n",
        "    total_predictions = np.sum(conf_matrix)\n",
        "    return correct_predictions / total_predictions\n",
        "\n",
        "def f1_score(precision, recall):\n",
        "    with np.errstate(divide='ignore', invalid='ignore'):\n",
        "        f1_values = 2 * (precision * recall) / (precision + recall)\n",
        "        f1_values[np.isnan(f1_values)] = 0  # Replace NaN values with zero\n",
        "    return f1_values\n",
        "\n",
        "\n",
        "\n",
        "precisions = precision(conf_matrix)\n",
        "recalls = recall(conf_matrix)\n",
        "accur = accuracy(conf_matrix)\n",
        "f1_scores = f1_score(precisions, recalls)\n",
        "print(\"\\nPrecision:\", precisions)\n",
        "print(\"Recall:\", recalls)\n",
        "print(\"Accuracy:\", accur)\n",
        "print(\"F1 Score:\", f1_scores)"
      ]
    },
    {
      "cell_type": "markdown",
      "metadata": {
        "id": "3vQ-E0hN75t8"
      },
      "source": [
        "**SKLEARN**\n",
        "\n",
        "---\n",
        "\n",
        "\n",
        "\n",
        "\n"
      ]
    },
    {
      "cell_type": "code",
      "execution_count": null,
      "metadata": {
        "colab": {
          "base_uri": "https://localhost:8080/"
        },
        "id": "2joOirZNswyr",
        "outputId": "8f94e4f9-52bd-445c-9122-7fb70446e7c3"
      },
      "outputs": [
        {
          "name": "stdout",
          "output_type": "stream",
          "text": [
            "Confusion Matrix:\n",
            "[[ 36 136  41  58   8]\n",
            " [ 38 332  97 148  18]\n",
            " [ 18 152  57 142  20]\n",
            " [  4 142  49 274  41]\n",
            " [ 11  77  35 192  84]]\n",
            "\n",
            "Precision: [0.3364486  0.39570918 0.20430108 0.33660934 0.49122807]\n",
            "Recall: [0.12903226 0.52448657 0.14652956 0.5372549  0.21052632]\n",
            "Accuracy: 0.35429864253393667\n",
            "F1 Score: [0.1865285  0.45108696 0.17065868 0.41389728 0.29473684]\n"
          ]
        }
      ],
      "source": [
        "from sklearn.feature_extraction.text import CountVectorizer\n",
        "from sklearn.linear_model import LogisticRegression\n",
        "from sklearn.metrics import confusion_matrix, accuracy_score, precision_score, recall_score, f1_score\n",
        "test_data=sst_dataset['test']\n",
        "# Preprocess the text data\n",
        "vectorizer = CountVectorizer(ngram_range=(2, 2))  # Using word bi-grams\n",
        "X_train_vectorized = vectorizer.fit_transform(train_dataset['sentence'])\n",
        "X_test_vectorized = vectorizer.transform(test_data['sentence'])\n",
        "\n",
        "# Train logistic regression model\n",
        "model = LogisticRegression(max_iter=1000)\n",
        "model.fit(X_train_vectorized, train_dataset['mapped_label'])\n",
        "\n",
        "# Predict labels for the test dataset\n",
        "y_pred = model.predict(X_test_vectorized)\n",
        "\n",
        "# Evaluate the model\n",
        "conf_matrix = confusion_matrix(test_data['mapped_label'], y_pred)\n",
        "accuracy = accuracy_score(test_data['mapped_label'], y_pred)\n",
        "precision = precision_score(test_data['mapped_label'], y_pred, average=None)\n",
        "recall = recall_score(test_data['mapped_label'], y_pred, average=None)\n",
        "f1 = f1_score(test_data['mapped_label'], y_pred, average=None)\n",
        "\n",
        "# Print results\n",
        "print(\"Confusion Matrix:\")\n",
        "print(conf_matrix)\n",
        "print(\"\\nPrecision:\", precision)\n",
        "print(\"Recall:\", recall)\n",
        "print(\"Accuracy:\", accuracy)\n",
        "print(\"F1 Score:\", f1)\n"
      ]
    },
    {
      "cell_type": "markdown",
      "source": [
        "###Logistic regression with SGD classifier"
      ],
      "metadata": {
        "id": "g-IEKhG_u5wB"
      }
    },
    {
      "cell_type": "code",
      "execution_count": 18,
      "metadata": {
        "colab": {
          "base_uri": "https://localhost:8080/",
          "height": 211
        },
        "id": "wHBWGoN-r8Eo",
        "outputId": "dd539a4e-5454-4bed-f958-9539d95cedf4"
      },
      "outputs": [
        {
          "output_type": "error",
          "ename": "NameError",
          "evalue": "name 'y_train' is not defined",
          "traceback": [
            "\u001b[0;31m---------------------------------------------------------------------------\u001b[0m",
            "\u001b[0;31mNameError\u001b[0m                                 Traceback (most recent call last)",
            "\u001b[0;32m<ipython-input-18-ccf18d660491>\u001b[0m in \u001b[0;36m<cell line: 9>\u001b[0;34m()\u001b[0m\n\u001b[1;32m      7\u001b[0m \u001b[0my_test\u001b[0m \u001b[0;34m=\u001b[0m \u001b[0msst_dataset\u001b[0m\u001b[0;34m[\u001b[0m\u001b[0;34m'test'\u001b[0m\u001b[0;34m]\u001b[0m\u001b[0;34m[\u001b[0m\u001b[0;34m'mapped_label'\u001b[0m\u001b[0;34m]\u001b[0m\u001b[0;34m\u001b[0m\u001b[0;34m\u001b[0m\u001b[0m\n\u001b[1;32m      8\u001b[0m \u001b[0;31m# Convert continuous values to binary labels\u001b[0m\u001b[0;34m\u001b[0m\u001b[0;34m\u001b[0m\u001b[0m\n\u001b[0;32m----> 9\u001b[0;31m \u001b[0my_train\u001b[0m \u001b[0;34m=\u001b[0m \u001b[0;34m(\u001b[0m\u001b[0my_train\u001b[0m \u001b[0;34m>=\u001b[0m \u001b[0;36m0.5\u001b[0m\u001b[0;34m)\u001b[0m\u001b[0;34m.\u001b[0m\u001b[0mastype\u001b[0m\u001b[0;34m(\u001b[0m\u001b[0mint\u001b[0m\u001b[0;34m)\u001b[0m\u001b[0;34m\u001b[0m\u001b[0;34m\u001b[0m\u001b[0m\n\u001b[0m\u001b[1;32m     10\u001b[0m \u001b[0my_test\u001b[0m \u001b[0;34m=\u001b[0m \u001b[0;34m(\u001b[0m\u001b[0my_test\u001b[0m \u001b[0;34m>=\u001b[0m \u001b[0;36m0.5\u001b[0m\u001b[0;34m)\u001b[0m\u001b[0;34m.\u001b[0m\u001b[0mastype\u001b[0m\u001b[0;34m(\u001b[0m\u001b[0mint\u001b[0m\u001b[0;34m)\u001b[0m\u001b[0;34m\u001b[0m\u001b[0;34m\u001b[0m\u001b[0m\n\u001b[1;32m     11\u001b[0m \u001b[0;34m\u001b[0m\u001b[0m\n",
            "\u001b[0;31mNameError\u001b[0m: name 'y_train' is not defined"
          ]
        }
      ],
      "source": [
        "from sklearn.linear_model import SGDClassifier\n",
        "X = train_df['sentence']\n",
        "y = train_df['mapped_label']\n",
        "\n",
        "\n",
        "X_test = sst_dataset['test']['sentence']\n",
        "y_test = sst_dataset['test']['mapped_label']\n",
        "# Convert continuous values to binary labels\n",
        "y_train = (y_train >= 0.5).astype(int)\n",
        "y_test = (y_test >= 0.5).astype(int)\n",
        "\n",
        "# Create a pipeline with CountVectorizer and SGDClassifier\n",
        "pipeline = Pipeline([\n",
        "    ('vectorizer', CountVectorizer(ngram_range=(2, 2))),\n",
        "    ('classifier', SGDClassifier(loss='log_loss', max_iter=1000))  # Use SGD with logistic regression\n",
        "])\n",
        "\n",
        "pipeline.fit(X_train, y_train)\n",
        "y_pred = pipeline.predict(X_test)\n",
        "\n",
        "accuracy = accuracy_score(y_test, y_pred)\n",
        "print(f\"Accuracy: {accuracy}\")\n",
        "\n"
      ]
    },
    {
      "cell_type": "markdown",
      "metadata": {
        "id": "SXyz6q_kCUB8"
      },
      "source": [
        "SECOND TRY:"
      ]
    },
    {
      "cell_type": "markdown",
      "source": [
        "#### Feature Representation"
      ],
      "metadata": {
        "id": "iQ1J2DbPsoRU"
      }
    },
    {
      "cell_type": "code",
      "execution_count": null,
      "metadata": {
        "colab": {
          "base_uri": "https://localhost:8080/"
        },
        "id": "1Ihk8ip-T2Hv",
        "outputId": "ad2225ba-32eb-4687-c400-b4ebf18c0ac8"
      },
      "outputs": [
        {
          "name": "stdout",
          "output_type": "stream",
          "text": [
            "{('is', 'terrible'), ('movie', 'very'), ('is', 'amazing'), ('very', 'much'), ('love', 'this'), ('I', 'love')}\n",
            "Sentence: I love this movie very much\n",
            "Binary Vector: [0, 1, 0, 1, 1, 1]\n",
            "Sentence: This movie is terrible\n",
            "Binary Vector: [1, 0, 0, 0, 0, 0]\n",
            "Sentence: This movie is amazing\n",
            "Binary Vector: [0, 0, 1, 0, 0, 0]\n"
          ]
        }
      ],
      "source": [
        "def sentence_to_binary_vector(sentence, unique_bigrams):\n",
        "    words = sentence.split()\n",
        "    sentence_bigrams = [(words[i], words[i+1]) for i in range(len(words)-1)]\n",
        "    binary_vector = [1 if bigram in sentence_bigrams else 0 for bigram in unique_bigrams]\n",
        "    return binary_vector\n",
        "\n",
        "# Example usage:\n",
        "sentences = [\"I love this movie very much\", \"This movie is terrible\", \"This movie is amazing\"]\n",
        "labels = [1, 0, 1]  # Example labels\n",
        "\n",
        "# Extract word bi-grams and labels\n",
        "word_bigrams, bigram_labels = extract_word_bigrams_with_labels(sentences, labels)\n",
        "\n",
        "# Extract unique word bi-grams occurring once with labels\n",
        "unique_bigrams_once, unique_labels_once = extract_features(word_bigrams, bigram_labels)\n",
        "print(unique_bigrams_once)\n",
        "# Represent each sentence with a binary vector\n",
        "binary_vectors = [sentence_to_binary_vector(sentence, unique_bigrams_once) for sentence in sentences]\n",
        "\n",
        "# Print the result\n",
        "for sentence, binary_vector in zip(sentences, binary_vectors):\n",
        "    print(f\"Sentence: {sentence}\")\n",
        "    print(f\"Binary Vector: {binary_vector}\")\n"
      ]
    },
    {
      "cell_type": "code",
      "execution_count": null,
      "metadata": {
        "id": "nE2prc0gMJ61"
      },
      "outputs": [],
      "source": [
        "def extract_word_bigrams_with_labels(sentences, labels):\n",
        "    word_bigrams = []\n",
        "    bigram_labels = []\n",
        "\n",
        "    for sentence, label in zip(sentences, labels):\n",
        "        words = sentence.split()  # Split sentence into words\n",
        "        sentence_bigrams = [(words[i], words[i+1]) for i in range(len(words)-1)]\n",
        "        word_bigrams.extend(sentence_bigrams)\n",
        "        bigram_labels.extend([label] * len(sentence_bigrams))\n",
        "\n",
        "    return word_bigrams, bigram_labels\n",
        "\n",
        "def extract_features(word_bigrams, bigram_labels):\n",
        "    bi_gram_count = {}\n",
        "    unique_bigrams = set()\n",
        "    unique_labels = []\n",
        "\n",
        "    for bigram, label in zip(word_bigrams, bigram_labels):\n",
        "        bigram_lower = (bigram[0].lower(), bigram[1].lower())\n",
        "        if bigram_lower not in bi_gram_count:\n",
        "            count = 0\n",
        "            for sentence_bigram in word_bigrams:\n",
        "                sentence_bigram_lower = (sentence_bigram[0].lower(), sentence_bigram[1].lower())\n",
        "                if bigram_lower == sentence_bigram_lower:\n",
        "                    count += 1\n",
        "            bi_gram_count[bigram_lower] = count\n",
        "\n",
        "            if count == 1:\n",
        "                unique_bigrams.add(bigram)\n",
        "                unique_labels.append(label)\n",
        "\n",
        "    return unique_bigrams, unique_labels\n",
        "\n",
        "def sentence_to_binary_vector(sentence, unique_bigrams):\n",
        "    words = sentence.split()\n",
        "    sentence_bigrams = [(words[i], words[i+1]) for i in range(len(words)-1)]\n",
        "    binary_vector = [1 if bigram in sentence_bigrams else 0 for bigram in unique_bigrams]\n",
        "    return binary_vector\n",
        "\n",
        "\n",
        "\n"
      ]
    },
    {
      "cell_type": "code",
      "execution_count": null,
      "metadata": {
        "id": "CBdhYPSer8Eo"
      },
      "outputs": [],
      "source": [
        "from collections import Counter\n",
        "\n",
        "def extract_word_bigrams_with_labels(sentences, labels):\n",
        "    word_bigrams = []\n",
        "    bigram_labels = []\n",
        "\n",
        "    for sentence, label in zip(sentences, labels):\n",
        "        words = sentence.split()\n",
        "        sentence_bigrams = [(words[i], words[i+1]) for i in range(len(words)-1)]\n",
        "        word_bigrams.extend(sentence_bigrams)\n",
        "        bigram_labels.extend([label] * len(sentence_bigrams))\n",
        "\n",
        "    return word_bigrams, bigram_labels\n",
        "\n",
        "def extract_features(word_bigrams, bigram_labels):\n",
        "    bigram_counter = Counter(word_bigrams)\n",
        "    unique_bigrams = {bigram for bigram, count in bigram_counter.items() if count == 1}\n",
        "    unique_labels = [label for bigram, label in zip(word_bigrams, bigram_labels) if bigram in unique_bigrams]\n",
        "\n",
        "    return unique_bigrams, unique_labels\n",
        "\n",
        "def sentence_to_binary_vector(sentence, unique_bigrams):\n",
        "    words = sentence.split()\n",
        "    sentence_bigrams = {(words[i], words[i+1]) for i in range(len(words)-1)}\n",
        "    binary_vector = [1 if bigram in sentence_bigrams else 0 for bigram in unique_bigrams]\n",
        "    return binary_vector\n"
      ]
    },
    {
      "cell_type": "code",
      "execution_count": null,
      "metadata": {
        "id": "ObKfeGA2XdeD"
      },
      "outputs": [],
      "source": [
        "sentences = sst_dataset['train']['sentence']\n",
        "labels = sst_dataset['train']['mapped_label']\n",
        "\n",
        "word_bigrams, bigram_labels = extract_word_bigrams_with_labels(sentences, labels)\n",
        "unique_bigrams, unique_labels = extract_features(word_bigrams, bigram_labels)\n",
        "binary_vectors = []\n",
        "for sentence in sentences:\n",
        "    # Convert the sentence into a binary vector\n",
        "    binary_vector = sentence_to_binary_vector(sentence, unique_bigrams)\n",
        "    # Append the binary vector to the list\n",
        "    binary_vectors.append(binary_vector)"
      ]
    },
    {
      "cell_type": "code",
      "execution_count": null,
      "metadata": {
        "id": "0P7in08ar8Eo"
      },
      "outputs": [],
      "source": [
        "testsentences = sst_dataset['test']['sentence']\n",
        "sbinary_vectors = []\n",
        "for sentence in testsentences:\n",
        "    # Convert the sentence into a binary vector\n",
        "    binary_vector = sentence_to_binary_vector(sentence, unique_bigrams)\n",
        "    # Append the binary vector to the list\n",
        "    sbinary_vectors.append(binary_vector)"
      ]
    },
    {
      "cell_type": "code",
      "execution_count": null,
      "metadata": {
        "id": "BiMSY7h5r8Eo",
        "outputId": "e6c5c76d-9495-40dd-fe41-88111ad701c8"
      },
      "outputs": [
        {
          "name": "stdout",
          "output_type": "stream",
          "text": [
            "8544\n",
            "70416\n",
            "70416\n",
            "(1, 70416)\n",
            "(601634304,)\n",
            "[[3 3 3 ... 0 0 1]]\n"
          ]
        }
      ],
      "source": [
        "import numpy as np\n",
        "print(len(binary_vectors))\n",
        "print(len(binary_vectors[0]))\n",
        "\n",
        "print(len(unique_labels))\n",
        "unique_labels_array = np.array(unique_labels)\n",
        "\n",
        "# Reshape the array to be a row\n",
        "unique_labels_row = unique_labels_array.reshape(1, -1)\n",
        "\n",
        "# Printing the shape of the resulting row\n",
        "print(unique_labels_row.shape)\n",
        "concatenated_array = np.concatenate(binary_vectors)\n",
        "print(concatenated_array.shape)\n",
        "\n",
        "print(unique_labels_row)"
      ]
    },
    {
      "cell_type": "code",
      "execution_count": null,
      "metadata": {
        "id": "V8vUd7_Rr8Es",
        "outputId": "1100f5be-9b06-4879-ce68-d1f299726cf8"
      },
      "outputs": [
        {
          "name": "stdout",
          "output_type": "stream",
          "text": [
            "70416\n"
          ]
        }
      ],
      "source": [
        "\n",
        "print(len(binary_vectors[1]))"
      ]
    },
    {
      "cell_type": "code",
      "execution_count": null,
      "metadata": {
        "id": "nn3lgJKFr8Es"
      },
      "outputs": [],
      "source": [
        "import cupy as cp\n",
        "\n",
        "\n",
        "class LogisticRegression:\n",
        "    def __init__(self, learning_rate=0.0001, num_epochs=1000):\n",
        "        self.learning_rate = cp.float32(learning_rate)\n",
        "        self.num_epochs = num_epochs\n",
        "        self.weights = None\n",
        "        self.bias = None\n",
        "\n",
        "    def softmax(self, z):\n",
        "        exp_z = cp.exp(z - cp.amax(z, axis=1, keepdims=True), dtype=cp.float32)\n",
        "        return exp_z / cp.sum(exp_z, axis=1, keepdims=True)\n",
        "\n",
        "    def fit(self, X, y):\n",
        "        num_samples, num_features = X.shape\n",
        "        num_classes = len(cp.unique(y))\n",
        "\n",
        "        self.weights = cp.random.rand(num_features, num_classes).astype(cp.float32)\n",
        "        self.bias = cp.zeros((1, num_classes), dtype=cp.float32)\n",
        "\n",
        "        y_one_hot = cp.zeros((num_samples, num_classes), dtype=cp.float32)\n",
        "        y_one_hot[cp.arange(num_samples), y] = 1\n",
        "\n",
        "        alpha = self.learning_rate\n",
        "        batch_size = 32\n",
        "\n",
        "        for epoch in range(self.num_epochs):\n",
        "            # Shuffle the data\n",
        "            indices = cp.arange(num_samples)\n",
        "            cp.random.shuffle(indices)\n",
        "\n",
        "            epoch_loss = 0.0  # Initialize loss for the epoch\n",
        "\n",
        "            for i in range(0, num_samples, batch_size):\n",
        "                # Select the indices for the current batch\n",
        "                batch_indices = indices[i:i+batch_size]\n",
        "                X_batch = X[batch_indices]\n",
        "                y_batch = y[batch_indices]\n",
        "\n",
        "                # Forward pass\n",
        "                logits = cp.dot(X_batch, self.weights) + self.bias\n",
        "                probs = self.softmax(logits)\n",
        "\n",
        "                # Compute loss\n",
        "                loss = -cp.mean(y_one_hot[batch_indices] * cp.log(probs))\n",
        "                epoch_loss += loss  # Accumulate loss for the epoch\n",
        "\n",
        "                # Compute gradients\n",
        "                dw = cp.dot(X_batch.T, (probs - y_one_hot[batch_indices]))\n",
        "                db = cp.sum(probs - y_one_hot[batch_indices], axis=0, keepdims=True)\n",
        "\n",
        "                # Update weights and bias using gradient descent\n",
        "                self.weights -= alpha * dw\n",
        "                self.bias -= alpha * db\n",
        "\n",
        "            # Calculate average loss for the epoch\n",
        "            epoch_loss /= (num_samples // batch_size)\n",
        "\n",
        "    def predict(self, X):\n",
        "        logits = cp.dot(X, self.weights) + self.bias\n",
        "        probs = self.softmax(logits)\n",
        "        return cp.argmax(probs, axis=1)\n"
      ]
    },
    {
      "cell_type": "code",
      "execution_count": null,
      "metadata": {
        "id": "tHKWSL1fr8Es"
      },
      "outputs": [],
      "source": [
        "num_classes = len(np.unique(Y_train))\n",
        "\n",
        "# then we convert y to one-hot encoding using np.eye\n",
        "y_one_hot = np.eye(num_classes)[Y_train]"
      ]
    },
    {
      "cell_type": "code",
      "execution_count": null,
      "metadata": {
        "id": "Id2QNGfdr8Es",
        "outputId": "13f34eee-47d0-499c-ab7e-a4afe0ffa478"
      },
      "outputs": [
        {
          "ename": "NameError",
          "evalue": "name 'y_train' is not defined",
          "output_type": "error",
          "traceback": [
            "\u001b[1;31m---------------------------------------------------------------------------\u001b[0m",
            "\u001b[1;31mNameError\u001b[0m                                 Traceback (most recent call last)",
            "Cell \u001b[1;32mIn[64], line 8\u001b[0m\n\u001b[0;32m      1\u001b[0m \u001b[38;5;28;01mimport\u001b[39;00m \u001b[38;5;21;01mnumpy\u001b[39;00m \u001b[38;5;28;01mas\u001b[39;00m \u001b[38;5;21;01mnp\u001b[39;00m\n\u001b[0;32m      3\u001b[0m \u001b[38;5;66;03m# Assuming X_train is your feature matrix and y_train is your target labels\u001b[39;00m\n\u001b[0;32m      4\u001b[0m \u001b[38;5;66;03m# X_train.shape = (num_samples, num_features)\u001b[39;00m\n\u001b[0;32m      5\u001b[0m \u001b[38;5;66;03m# y_train.shape = (num_samples,)\u001b[39;00m\n\u001b[0;32m      6\u001b[0m \n\u001b[0;32m      7\u001b[0m \u001b[38;5;66;03m# Initialize parameters\u001b[39;00m\n\u001b[1;32m----> 8\u001b[0m num_classes \u001b[38;5;241m=\u001b[39m \u001b[38;5;28mlen\u001b[39m(np\u001b[38;5;241m.\u001b[39munique(y_train))\n\u001b[0;32m      9\u001b[0m num_features \u001b[38;5;241m=\u001b[39m X_train\u001b[38;5;241m.\u001b[39mshape[\u001b[38;5;241m1\u001b[39m]\n\u001b[0;32m     10\u001b[0m weights \u001b[38;5;241m=\u001b[39m np\u001b[38;5;241m.\u001b[39mzeros((num_features, num_classes))  \u001b[38;5;66;03m# Weight matrix\u001b[39;00m\n",
            "\u001b[1;31mNameError\u001b[0m: name 'y_train' is not defined"
          ]
        }
      ],
      "source": [
        "#initialize parameters\n",
        "num_classes = len(np.unique(y_train))\n",
        "num_features = X_train.shape[1]\n",
        "weights = np.zeros((num_features, num_classes))  #weights matrix\n",
        "bias = np.zeros(num_classes)  #bias\n",
        "\n",
        "learning_rate = 0.1\n",
        "num_epochs = 1000\n",
        "\n",
        "# Training loop\n",
        "for epoch in range(num_epochs):\n",
        "    # Forward propagation\n",
        "    logits = np.dot(X_train, weights) + bias\n",
        "    exp_logits = np.exp(logits)\n",
        "    probs = exp_logits / np.sum(exp_logits, axis=1, keepdims=True)\n",
        "\n",
        "    # Loss calculation\n",
        "    one_hot_y = np.zeros((len(y_train), num_classes))\n",
        "    one_hot_y[np.arange(len(y_train)), y_train] = 1\n",
        "    loss = -np.sum(one_hot_y * np.log(probs)) / len(y_train)\n",
        "\n",
        "    # Backpropagation\n",
        "    grad_logits = probs - one_hot_y\n",
        "    grad_weights = np.dot(X_train.T, grad_logits)\n",
        "    grad_bias = np.sum(grad_logits, axis=0)\n",
        "\n",
        "    # Parameter update\n",
        "    weights -= learning_rate * grad_weights\n",
        "    bias -= learning_rate * grad_bias\n",
        "\n",
        "    # Print loss every 100 epochs\n",
        "    if epoch % 100 == 0:\n",
        "        print(f\"Epoch {epoch}, Loss: {loss}\")\n",
        "\n",
        "# After training, you can use the weights and bias terms for inference\n"
      ]
    },
    {
      "cell_type": "code",
      "execution_count": null,
      "metadata": {
        "id": "beDA-ksFr8Es",
        "outputId": "4b25278f-fcaf-42f4-8370-08cf481c8e82"
      },
      "outputs": [
        {
          "ename": "ValueError",
          "evalue": "operands could not be broadcast together with shapes(8544,) (70416,)",
          "output_type": "error",
          "traceback": [
            "\u001b[1;31m---------------------------------------------------------------------------\u001b[0m",
            "\u001b[1;31mValueError\u001b[0m                                Traceback (most recent call last)",
            "Cell \u001b[1;32mIn[63], line 12\u001b[0m\n\u001b[0;32m     10\u001b[0m y_one_hot \u001b[38;5;241m=\u001b[39m np\u001b[38;5;241m.\u001b[39meye(num_classes)[Y_train]\n\u001b[0;32m     11\u001b[0m \u001b[38;5;66;03m# Fit the model to the training data\u001b[39;00m\n\u001b[1;32m---> 12\u001b[0m model\u001b[38;5;241m.\u001b[39mfit(X_train, Y_train)\n",
            "Cell \u001b[1;32mIn[59], line 23\u001b[0m, in \u001b[0;36mLogisticRegression.fit\u001b[1;34m(self, X, y)\u001b[0m\n\u001b[0;32m     20\u001b[0m \u001b[38;5;28mself\u001b[39m\u001b[38;5;241m.\u001b[39mbias \u001b[38;5;241m=\u001b[39m cp\u001b[38;5;241m.\u001b[39mzeros((\u001b[38;5;241m1\u001b[39m, num_classes), dtype\u001b[38;5;241m=\u001b[39mcp\u001b[38;5;241m.\u001b[39mfloat32)\n\u001b[0;32m     22\u001b[0m y_one_hot \u001b[38;5;241m=\u001b[39m cp\u001b[38;5;241m.\u001b[39mzeros((num_samples, num_classes), dtype\u001b[38;5;241m=\u001b[39mcp\u001b[38;5;241m.\u001b[39mfloat32)\n\u001b[1;32m---> 23\u001b[0m y_one_hot[cp\u001b[38;5;241m.\u001b[39marange(num_samples), y] \u001b[38;5;241m=\u001b[39m \u001b[38;5;241m1\u001b[39m\n\u001b[0;32m     25\u001b[0m alpha \u001b[38;5;241m=\u001b[39m \u001b[38;5;28mself\u001b[39m\u001b[38;5;241m.\u001b[39mlearning_rate\n\u001b[0;32m     26\u001b[0m batch_size \u001b[38;5;241m=\u001b[39m \u001b[38;5;241m32\u001b[39m  \n",
            "File \u001b[1;32mcupy\\_core\\core.pyx:1588\u001b[0m, in \u001b[0;36mcupy._core.core._ndarray_base.__setitem__\u001b[1;34m()\u001b[0m\n",
            "File \u001b[1;32mcupy\\_core\\_routines_indexing.pyx:50\u001b[0m, in \u001b[0;36mcupy._core._routines_indexing._ndarray_setitem\u001b[1;34m()\u001b[0m\n",
            "File \u001b[1;32mcupy\\_core\\_routines_indexing.pyx:1007\u001b[0m, in \u001b[0;36mcupy._core._routines_indexing._scatter_op\u001b[1;34m()\u001b[0m\n",
            "File \u001b[1;32mcupy\\_core\\_routines_indexing.pyx:1124\u001b[0m, in \u001b[0;36mcupy._core._routines_indexing._prepare_multiple_array_indexing\u001b[1;34m()\u001b[0m\n",
            "File \u001b[1;32mcupy\\_core\\internal.pyx:531\u001b[0m, in \u001b[0;36mcupy._core.internal._broadcast_shapes\u001b[1;34m()\u001b[0m\n",
            "\u001b[1;31mValueError\u001b[0m: operands could not be broadcast together with shapes(8544,) (70416,)"
          ]
        }
      ],
      "source": [
        "#instance of the LogisticRegression class\n",
        "model = LogisticRegression()\n",
        "#converting lists to NumPy arrays\n",
        "X_train = np.array(binary_vectors)\n",
        "Y_train = np.array(unique_labels)\n",
        "\n",
        "num_classes = len(np.unique(Y_train))\n",
        "\n",
        "# then we convert y to one-hot encoding using np.eye\n",
        "y_one_hot = np.eye(num_classes)[Y_train]\n",
        "\n",
        "model.fit(X_train, Y_train) #fitting the model to training data\n"
      ]
    },
    {
      "cell_type": "code",
      "execution_count": null,
      "metadata": {
        "id": "D7-ZtBwRr8Es"
      },
      "outputs": [],
      "source": [
        "predicted= model.predict(sbinary_vectors)\n"
      ]
    },
    {
      "cell_type": "code",
      "execution_count": null,
      "metadata": {
        "id": "k6Hjj6nRhWhe",
        "colab": {
          "referenced_widgets": [
            "bc8e401d87a4415b9702f0c627887d2b"
          ]
        },
        "outputId": "80e8b7af-6c30-4f5e-ec43-794e522c7a29"
      },
      "outputs": [
        {
          "data": {
            "application/vnd.jupyter.widget-view+json": {
              "model_id": "bc8e401d87a4415b9702f0c627887d2b",
              "version_major": 2,
              "version_minor": 0
            },
            "text/plain": [
              "  0%|          | 0/10 [00:00<?, ?it/s]"
            ]
          },
          "metadata": {},
          "output_type": "display_data"
        },
        {
          "ename": "TypeError",
          "evalue": "only integer scalar arrays can be converted to a scalar index",
          "output_type": "error",
          "traceback": [
            "\u001b[1;31m---------------------------------------------------------------------------\u001b[0m",
            "\u001b[1;31mTypeError\u001b[0m                                 Traceback (most recent call last)",
            "Cell \u001b[1;32mIn[44], line 51\u001b[0m\n\u001b[0;32m     46\u001b[0m         \u001b[38;5;28;01mreturn\u001b[39;00m np\u001b[38;5;241m.\u001b[39margmax(y_predicted, axis\u001b[38;5;241m=\u001b[39m\u001b[38;5;241m1\u001b[39m)\n\u001b[0;32m     49\u001b[0m softmax_model \u001b[38;5;241m=\u001b[39m SoftmaxRegression()\n\u001b[1;32m---> 51\u001b[0m softmax_model\u001b[38;5;241m.\u001b[39mtrain(binary_vectors, unique_labels)\n",
            "Cell \u001b[1;32mIn[44], line 27\u001b[0m, in \u001b[0;36mSoftmaxRegression.train\u001b[1;34m(self, X, y)\u001b[0m\n\u001b[0;32m     25\u001b[0m \u001b[38;5;28;01mfor\u001b[39;00m i \u001b[38;5;129;01min\u001b[39;00m tqdm(\u001b[38;5;28mrange\u001b[39m(\u001b[38;5;28mself\u001b[39m\u001b[38;5;241m.\u001b[39mnum_iterations)):\n\u001b[0;32m     26\u001b[0m     indices \u001b[38;5;241m=\u001b[39m np\u001b[38;5;241m.\u001b[39mrandom\u001b[38;5;241m.\u001b[39mchoice(num_samples, \u001b[38;5;28mself\u001b[39m\u001b[38;5;241m.\u001b[39mbatch_size)  \u001b[38;5;66;03m# select random batch indices\u001b[39;00m\n\u001b[1;32m---> 27\u001b[0m     X_batch, y_batch \u001b[38;5;241m=\u001b[39m X[indices], y[indices]  \u001b[38;5;66;03m# get batches\u001b[39;00m\n\u001b[0;32m     28\u001b[0m     linear_model \u001b[38;5;241m=\u001b[39m np\u001b[38;5;241m.\u001b[39mdot(X_batch, \u001b[38;5;28mself\u001b[39m\u001b[38;5;241m.\u001b[39mweights)\n\u001b[0;32m     29\u001b[0m     y_predicted \u001b[38;5;241m=\u001b[39m \u001b[38;5;28mself\u001b[39m\u001b[38;5;241m.\u001b[39msoftmax(linear_model)\n",
            "\u001b[1;31mTypeError\u001b[0m: only integer scalar arrays can be converted to a scalar index"
          ]
        }
      ],
      "source": [
        "from tqdm.notebook import tqdm\n",
        "\n",
        "class SoftmaxRegression:\n",
        "    def __init__(self, learning_rate=0.01, num_iterations=10, batch_size=32):\n",
        "        self.learning_rate = learning_rate\n",
        "        self.num_iterations = num_iterations\n",
        "        self.batch_size = batch_size\n",
        "        self.weights = None\n",
        "\n",
        "    def softmax(self, z):\n",
        "        e_z = np.exp(z - np.max(z))\n",
        "        return e_z / e_z.sum(axis=1, keepdims=True)\n",
        "\n",
        "    def train(self, X, y):\n",
        "        X = np.array(X) if isinstance(X, list) else X\n",
        "        num_samples, num_features = X.shape\n",
        "        num_classes = len(np.unique(y))\n",
        "\n",
        "        # 1. Initialize weights\n",
        "        self.weights = np.zeros((num_features, num_classes))\n",
        "\n",
        "        # 2. Gradient descent loop\n",
        "        for i in tqdm(range(self.num_iterations)):\n",
        "            indices = np.random.choice(num_samples, self.batch_size)  # select random batch indices\n",
        "            X_batch, y_batch = X[indices], y[indices]  # get batches\n",
        "            linear_model = np.dot(X_batch, self.weights)\n",
        "            y_predicted = self.softmax(linear_model)\n",
        "\n",
        "            # 3. Compute gradients\n",
        "            y_actual = np.zeros(y_predicted.shape)\n",
        "            y_actual[np.arange(self.batch_size), y_batch] = 1\n",
        "            gradient = (1 / self.batch_size) * np.dot(X_batch.T, (y_predicted - y_actual))\n",
        "\n",
        "            # 4. Update weights\n",
        "            self.weights -= self.learning_rate * gradient\n",
        "\n",
        "            # 5. Delete batch from memory\n",
        "            del X_batch, y_batch\n",
        "\n",
        "    def predict(self, X):\n",
        "        linear_model = np.dot(X, self.weights)\n",
        "        y_predicted = self.softmax(linear_model)\n",
        "        return np.argmax(y_predicted, axis=1)\n",
        "\n",
        "\n",
        "softmax_model = SoftmaxRegression()\n",
        "\n",
        "softmax_model.train(binary_vectors, unique_labels)\n",
        "\n"
      ]
    },
    {
      "cell_type": "code",
      "execution_count": null,
      "metadata": {
        "colab": {
          "base_uri": "https://localhost:8080/"
        },
        "id": "pmAuenfKjcRV",
        "outputId": "f8986bc2-0e53-40bd-8564-f9894034da67"
      },
      "outputs": [
        {
          "name": "stdout",
          "output_type": "stream",
          "text": [
            "Accuracy: 0.2723548689138577\n"
          ]
        }
      ],
      "source": [
        "def accuracy(true_labels, predicted_labels):\n",
        "    correct = np.sum(true_labels == predicted_labels)\n",
        "    total = len(true_labels)\n",
        "    return correct / total\n",
        "\n",
        "# Example usage:\n",
        "true_labels = sst_dataset['train']['mapped_label']\n",
        "predicted_labels = test_predictions\n",
        "\n",
        "num_classes = 5\n",
        "\n",
        "\n",
        "acc = accuracy(true_labels, predicted_labels)\n",
        "print(\"Accuracy:\", acc)\n"
      ]
    },
    {
      "cell_type": "code",
      "execution_count": null,
      "metadata": {
        "colab": {
          "base_uri": "https://localhost:8080/"
        },
        "id": "XjW5vyxZqP_v",
        "outputId": "c1a9a062-a467-4ae3-b269-7b677b15a884"
      },
      "outputs": [
        {
          "name": "stdout",
          "output_type": "stream",
          "text": [
            "[3, 4, 3, 2, 3, 4, 4, 3, 4, 3, 4, 2, 4, 2, 4, 3, 3, 2, 4, 3, 4, 3, 2, 4, 2, 2, 4, 3, 4, 1, 4, 3, 2, 3, 4, 3, 3, 3, 2, 3, 3, 4, 2, 3, 2, 0, 3, 3, 1, 4, 3, 4, 3, 4, 4, 4, 4, 3, 3, 3, 2, 3, 3, 3, 1, 1, 4, 3, 4, 4, 3, 2, 1, 3, 2, 2, 3, 4, 4, 4, 4, 3, 2, 4, 3, 3, 4, 4, 3, 4, 3, 3, 1, 4, 3, 3, 4, 3, 3, 4, 3, 4, 3, 3, 3, 4, 3, 3, 3, 3, 3, 3, 3, 4, 3, 3, 4, 4, 3, 3, 3, 2, 3, 2, 3, 3, 3, 4, 1, 2, 2, 2, 4, 3, 3, 3, 3, 2, 4, 4, 3, 4, 3, 3, 4, 3, 3, 3, 4, 3, 3, 3, 3, 3, 3, 4, 4, 4, 3, 4, 4, 3, 3, 4, 2, 4, 3, 2, 1, 3, 2, 3, 3, 1, 4, 4, 3, 3, 3, 3, 3, 3, 3, 2, 3, 3, 2, 3, 3, 2, 3, 3, 3, 2, 4, 3, 1, 2, 4, 3, 3, 1, 3, 4, 4, 3, 3, 3, 3, 3, 1, 4, 4, 2, 4, 3, 3, 3, 3, 4, 3, 4, 3, 3, 4, 4, 4, 3, 3, 3, 3, 2, 3, 3, 3, 3, 1, 2, 4, 2, 3, 4, 2, 4, 3, 1, 2, 3, 4, 3, 3, 4, 3, 3, 3, 3, 3, 3, 4, 3, 3, 1, 3, 4, 3, 3, 4, 4, 3, 3, 4, 3, 3, 2, 4, 2, 3, 4, 2, 2, 4, 3, 3, 2, 3, 4, 3, 3, 4, 3, 4, 3, 3, 2, 4, 1, 4, 4, 3, 3, 4, 3, 3, 4, 4, 3, 3, 2, 4, 4, 3, 2, 1, 4, 3, 3, 4, 3, 3, 3, 3, 3, 4, 2, 1, 3, 2, 4, 4, 3, 4, 3, 3, 3, 2, 3, 3, 2, 4, 3, 4, 3, 3, 3, 4, 4, 3, 3, 3, 4, 3, 3, 4, 4, 3, 1, 3, 4, 4, 3, 3, 3, 3, 3, 3, 4, 3, 4, 4, 3, 4, 4, 3, 3, 4, 3, 3, 4, 2, 3, 4, 3, 3, 4, 4, 3, 3, 2, 4, 2, 3, 1, 4, 4, 2, 3, 4, 1, 3, 2, 2, 3, 3, 3, 4, 3, 2, 4, 3, 2, 3, 3, 3, 3, 4, 2, 3, 4, 3, 4, 4, 4, 3, 4, 3, 3, 3, 3, 3, 3, 2, 4, 1, 3, 0, 4, 3, 4, 4, 4, 4, 3, 2, 3, 4, 3, 3, 3, 4, 4, 3, 2, 4, 2, 4, 0, 4, 3, 3, 0, 3, 4, 4, 2, 3, 3, 4, 2, 2, 1, 4, 4, 4, 3, 4, 2, 4, 3, 3, 3, 2, 3, 3, 3, 3, 3, 4, 3, 3, 3, 2, 4, 3, 1, 4, 2, 3, 3, 3, 4, 3, 3, 3, 3, 3, 3, 1, 3, 4, 3, 3, 3, 3, 4, 4, 4, 4, 2, 3, 4, 3, 3, 3, 4, 1, 4, 4, 4, 3, 4, 3, 3, 4, 3, 3, 3, 3, 4, 2, 3, 2, 3, 3, 4, 3, 3, 2, 4, 3, 4, 2, 4, 3, 3, 3, 4, 3, 2, 4, 4, 1, 3, 1, 2, 2, 2, 4, 4, 4, 4, 4, 3, 4, 4, 4, 4, 3, 4, 3, 3, 2, 2, 3, 3, 3, 3, 4, 4, 2, 3, 3, 3, 3, 2, 3, 2, 3, 1, 4, 4, 3, 3, 3, 3, 3, 0, 3, 3, 3, 2, 4, 1, 1, 4, 3, 4, 3, 4, 3, 2, 3, 3, 3, 4, 3, 3, 2, 4, 1, 4, 2, 3, 3, 3, 4, 3, 2, 4, 4, 3, 2, 3, 3, 1, 4, 3, 2, 3, 3, 2, 3, 3, 4, 4, 4, 2, 0, 2, 3, 4, 4, 4, 3, 4, 3, 4, 1, 3, 2, 4, 4, 4, 3, 2, 3, 2, 4, 4, 0, 2, 3, 4, 4, 3, 3, 3, 3, 3, 3, 3, 3, 3, 3, 3, 4, 3, 4, 4, 2, 2, 4, 4, 4, 4, 2, 2, 4, 3, 3, 4, 4, 4, 3, 4, 3, 4, 4, 4, 3, 3, 3, 3, 3, 2, 3, 4, 4, 2, 1, 3, 3, 4, 4, 4, 4, 2, 4, 3, 3, 3, 2, 4, 4, 4, 3, 3, 4, 2, 2, 3, 3, 4, 4, 3, 2, 3, 3, 3, 3, 3, 3, 1, 3, 3, 1, 4, 4, 4, 1, 3, 4, 3, 3, 3, 3, 3, 4, 3, 3, 3, 4, 4, 4, 3, 3, 2, 4, 4, 4, 4, 3, 3, 4, 4, 3, 3, 4, 4, 3, 3, 2, 2, 3, 3, 3, 2, 2, 3, 3, 3, 4, 3, 1, 2, 2, 3, 3, 4, 3, 4, 3, 4, 2, 4, 4, 4, 3, 2, 3, 2, 3, 4, 3, 3, 3, 3, 3, 4, 4, 3, 3, 4, 4, 3, 4, 4, 2, 2, 2, 4, 3, 3, 4, 4, 4, 3, 3, 4, 3, 2, 4, 2, 2, 4, 3, 4, 3, 3, 3, 3, 2, 3, 4, 3, 3, 3, 3, 3, 1, 3, 3, 4, 3, 4, 3, 2, 2, 4, 3, 4, 3, 3, 4, 3, 3, 4, 4, 1, 3, 4, 3, 3, 3, 3, 4, 4, 2, 3, 3, 4, 4, 2, 3, 4, 3, 3, 4, 3, 2, 3, 4, 2, 3, 2, 4, 3, 3, 3, 3, 3, 4, 2, 3, 3, 2, 2, 1, 2, 3, 4, 3, 4, 3, 3, 2, 4, 4, 2, 2, 2, 4, 3, 4, 4, 3, 4, 3, 4, 4, 2, 3, 4, 2, 3, 3, 4, 4, 4, 3, 3, 2, 3, 2, 3, 3, 4, 3, 4, 2, 3, 4, 2, 3, 2, 4, 3, 3, 3, 3, 0, 3, 3, 3, 3, 4, 3, 3, 3, 3, 3, 3, 3, 1, 3, 3, 2, 3, 3, 3, 3, 3, 3, 3, 3, 3, 3, 4, 4, 4, 4, 3, 3, 4, 3, 3, 3, 2, 1, 3, 4, 1, 3, 2, 3, 4, 3, 3, 3, 2, 3, 3, 4, 3, 3, 3, 3, 3, 2, 3, 3, 4, 0, 3, 2, 3, 4, 4, 3, 4, 3, 3, 4, 3, 3, 3, 4, 1, 2, 3, 3, 4, 4, 4, 2, 3, 4, 3, 3, 3, 2, 3, 3, 2, 2, 3, 3, 3, 3, 4, 2, 4, 3, 3, 4, 3, 3, 2, 3, 3, 3, 3, 4, 3, 3, 3, 3, 3, 4, 0, 2, 3, 3, 4, 4, 2, 4, 2, 2, 4, 4, 2, 3, 4, 3, 2, 2, 3, 3, 4, 3, 3, 3, 2, 2, 3, 3, 3, 4, 3, 2, 3, 3, 3, 3, 3, 3, 4, 4, 4, 2, 3, 4, 4, 4, 3, 3, 4, 2, 3, 2, 3, 3, 3, 3, 3, 2, 2, 3, 3, 4, 4, 1, 2, 3, 3, 1, 2, 4, 4, 4, 4, 3, 4, 3, 4, 3, 3, 3, 4, 4, 3, 4, 3, 3, 3, 3, 4, 4, 4, 3, 1, 2, 3, 2, 4, 3, 4, 4, 3, 4, 3, 4, 2, 3, 3, 3, 4, 1, 2, 3, 3, 4, 2, 3, 3, 3, 3, 3, 3, 4, 2, 4, 2, 3, 3, 4, 2, 3, 3, 3, 3, 2, 4, 3, 3, 4, 3, 3, 0, 3, 3, 3, 2, 3, 3, 2, 3, 4, 3, 4, 2, 2, 4, 3, 3, 1, 4, 3, 3, 2, 1, 3, 3, 3, 4, 3, 3, 2, 4, 3, 3, 3, 4, 3, 3, 3, 2, 2, 2, 4, 4, 3, 4, 3, 1, 3, 1, 3, 3, 4, 4, 4, 3, 3, 3, 3, 2, 3, 2, 2, 4, 4, 3, 2, 4, 3, 2, 4, 1, 4, 3, 1, 2, 3, 2, 3, 4, 3, 4, 4, 3, 2, 3, 4, 2, 3, 1, 4, 4, 4, 4, 2, 4, 3, 3, 3, 4, 2, 3, 3, 3, 2, 3, 3, 4, 4, 4, 2, 3, 3, 4, 4, 4, 1, 2, 3, 3, 2, 4, 3, 4, 3, 4, 3, 4, 2, 4, 3, 3, 2, 3, 3, 1, 2, 1, 3, 2, 3, 2, 3, 3, 3, 4, 4, 3, 3, 3, 3, 4, 4, 3, 4, 3, 3, 1, 3, 3, 3, 4, 3, 3, 2, 3, 2, 3, 3, 2, 1, 3, 3, 3, 4, 3, 3, 2, 4, 3, 3, 2, 2, 1, 0, 4, 3, 4, 3, 2, 3, 4, 3, 3, 3, 3, 4, 2, 4, 3, 3, 2, 3, 3, 2, 3, 3, 4, 4, 4, 2, 4, 4, 4, 3, 1, 2, 3, 2, 4, 3, 3, 3, 3, 3, 4, 3, 4, 4, 4, 3, 2, 3, 4, 1, 2, 2, 4, 3, 3, 4, 3, 3, 4, 2, 3, 1, 1, 2, 3, 2, 4, 3, 4, 3, 3, 3, 4, 3, 4, 4, 4, 1, 2, 4, 3, 4, 2, 4, 3, 4, 4, 3, 4, 2, 3, 3, 3, 3, 2, 1, 4, 3, 2, 3, 3, 2, 3, 4, 3, 4, 4, 3, 4, 1, 1, 2, 2, 3, 3, 3, 3, 3, 3, 4, 3, 3, 2, 3, 3, 2, 2, 3, 4, 3, 4, 3, 3, 2, 3, 3, 3, 3, 4, 2, 3, 4, 4, 3, 4, 4, 2, 3, 3, 3, 3, 3, 3, 4, 3, 4, 3, 3, 3, 3, 2, 3, 4, 3, 2, 3, 2, 3, 4, 4, 4, 3, 4, 3, 4, 4, 4, 3, 3, 1, 3, 3, 3, 4, 3, 3, 3, 4, 4, 3, 2, 3, 3, 4, 3, 2, 3, 3, 4, 4, 3, 3, 4, 4, 2, 3, 4, 3, 2, 2, 3, 2, 4, 3, 2, 4, 3, 1, 4, 3, 4, 3, 2, 3, 3, 4, 4, 2, 3, 3, 3, 3, 3, 4, 3, 4, 4, 4, 4, 1, 4, 4, 3, 3, 3, 3, 3, 3, 4, 4, 4, 3, 2, 2, 3, 4, 2, 2, 3, 3, 3, 3, 4, 3, 3, 3, 3, 3, 2, 4, 3, 3, 3, 3, 3, 3, 3, 3, 3, 2, 4, 3, 2, 3, 3, 3, 3, 3, 3, 4, 3, 4, 3, 4, 4, 1, 4, 3, 4, 2, 2, 2, 4, 3, 3, 3, 2, 4, 4, 3, 3, 4, 3, 4, 4, 2, 3, 3, 4, 3, 4, 4, 3, 2, 4, 4, 4, 3, 2, 1, 2, 3, 3, 4, 3, 3, 3, 2, 3, 3, 4, 3, 3, 3, 4, 2, 2, 3, 3, 2, 3, 3, 2, 4, 3, 2, 3, 4, 2, 2, 3, 3, 3, 4, 2, 4, 2, 4, 4, 4, 4, 4, 2, 4, 4, 1, 4, 3, 4, 4, 4, 3, 4, 3, 3, 4, 2, 3, 4, 3, 3, 3, 4, 3, 4, 4, 4, 2, 3, 3, 2, 4, 2, 3, 3, 2, 1, 3, 3, 3, 3, 3, 2, 4, 4, 3, 4, 1, 4, 4, 2, 2, 3, 4, 3, 3, 3, 3, 3, 3, 4, 4, 3, 4, 3, 3, 4, 4, 3, 4, 3, 4, 3, 3, 1, 3, 3, 3, 2, 2, 0, 3, 3, 2, 4, 3, 3, 4, 3, 3, 2, 4, 4, 4, 2, 3, 2, 3, 3, 3, 3, 3, 3, 4, 4, 2, 3, 2, 4, 4, 2, 1, 3, 1, 2, 4, 2, 3, 4, 3, 4, 4, 3, 4, 3, 1, 3, 3, 4, 4, 2, 2, 3, 4, 4, 3, 1, 4, 3, 3, 3, 3, 3, 4, 3, 3, 3, 4, 4, 4, 3, 3, 3, 3, 4, 4, 3, 4, 3, 2, 2, 4, 4, 4, 1, 1, 4, 1, 3, 3, 4, 2, 4, 4, 3, 4, 1, 2, 2, 4, 3, 3, 2, 3, 2, 3, 2, 3, 3, 3, 3, 3, 3, 4, 3, 4, 4, 2, 3, 3, 2, 2, 3, 3, 4, 4, 4, 3, 4, 0, 3, 4, 3, 4, 4, 3, 4, 3, 3, 4, 3, 3, 3, 2, 4, 3, 2, 4, 4, 4, 3, 2, 3, 3, 3, 2, 2, 2, 3, 4, 4, 3, 3, 3, 3, 3, 3, 3, 3, 3, 4, 3, 3, 3, 3, 3, 4, 3, 3, 4, 2, 3, 3, 4, 4, 4, 1, 2, 2, 3, 3, 4, 3, 3, 3, 3, 4, 3, 1, 3, 3, 2, 3, 4, 4, 1, 3, 2, 4, 3, 4, 3, 3, 4, 3, 2, 4, 3, 2, 3, 4, 3, 1, 4, 3, 3, 1, 3, 4, 2, 3, 3, 4, 3, 3, 2, 3, 2, 3, 4, 2, 3, 3, 1, 3, 2, 4, 3, 4, 3, 3, 3, 1, 2, 1, 2, 4, 3, 3, 2, 4, 3, 0, 3, 4, 1, 2, 3, 3, 3, 3, 3, 3, 4, 3, 4, 4, 4, 2, 4, 4, 4, 1, 2, 4, 3, 3, 3, 3, 3, 3, 3, 4, 3, 3, 1, 2, 2, 2, 1, 3, 3, 4, 2, 2, 3, 4, 4, 4, 4, 2, 3, 3, 3, 2, 4, 1, 1, 4, 2, 2, 4, 4, 4, 4, 3, 4, 3, 3, 4, 4, 3, 3, 4, 3, 2, 4, 4, 3, 3, 4, 4, 3, 3, 2, 3, 4, 3, 3, 3, 3, 4, 3, 3, 4, 1, 4, 3, 3, 3, 3, 4, 3, 3, 2, 3, 3, 3, 4, 3, 4, 3, 3, 2, 3, 3, 4, 4, 3, 2, 3, 4, 4, 4, 3, 3, 3, 2, 1, 2, 3, 2, 4, 4, 3, 3, 3, 3, 3, 3, 3, 4, 3, 3, 2, 4, 0, 3, 1, 3, 4, 2, 3, 4, 2, 4, 3, 3, 4, 4, 3, 3, 3, 3, 4, 3, 4, 3, 3, 3, 3, 1, 4, 4, 3, 3, 4, 2, 3, 4, 4, 3, 3, 4, 3, 2, 3, 4, 2, 3, 1, 1, 3, 3, 2, 3, 2, 3, 3, 3, 2, 3, 3, 4, 3, 3, 3, 3, 3, 3, 3, 3, 3, 4, 3, 3, 4, 4, 3, 3, 3, 4, 4, 4, 4, 2, 2, 4, 3, 3, 3, 4, 3, 1, 2, 3, 4, 3, 4, 4, 4, 2, 3, 4, 3, 4, 3, 4, 3, 3, 3, 3, 3, 4, 4, 3, 4, 1, 3, 3, 2, 3, 4, 4, 3, 3, 3, 4, 3, 4, 4, 3, 3, 3, 3, 4, 4, 4, 4, 3, 4, 3, 2, 3, 4, 3, 3, 4, 3, 4, 3, 3, 3, 3, 3, 4, 3, 3, 2, 2, 3, 3, 3, 3, 3, 3, 4, 4, 4, 3, 3, 4, 4, 1, 3, 3, 4, 2, 3, 4, 3, 2, 3, 3, 2, 3, 2, 3, 3, 3, 4, 3, 3, 2, 3, 3, 3, 3, 3, 3, 3, 4, 3, 2, 4, 3, 3, 4, 2, 2, 4, 3, 2, 3, 3, 3, 3, 4, 4, 4, 3, 4, 3, 4, 2, 2, 4, 3, 3, 4, 2, 3, 3, 3, 4, 3, 2, 1, 3, 3, 4, 4, 4, 4, 3, 3, 3, 2, 4, 4, 4, 3, 2, 3, 1, 4, 3, 4, 4, 3, 3, 3, 4, 3, 4, 4, 3, 3, 3, 3, 4, 4, 2, 3, 3, 2, 2, 4, 4, 3, 4, 3, 4, 4, 4, 3, 4, 3, 3, 4, 3, 3, 3, 3, 3, 4, 4, 4, 3, 4, 3, 3, 3, 4, 3, 3, 4, 3, 3, 3, 2, 4, 3, 3, 0, 4, 4, 1, 4, 4, 3, 4, 3, 4, 3, 3, 2, 3, 3, 4, 4, 3, 3, 3, 4, 4, 2, 3, 3, 3, 2, 3, 3, 1, 3, 3, 3, 3, 3, 4, 2, 3, 3, 2, 3, 4, 3, 3, 3, 4, 1, 4, 3, 4, 3, 2, 3, 2, 3, 3, 3, 3, 4, 3, 3, 3, 2, 4, 3, 2, 4, 4, 3, 3, 4, 3, 4, 3, 3, 0, 3, 3, 3, 4, 4, 4, 4, 3, 3, 3, 3, 2, 3, 4, 4, 3, 3, 4, 3, 3, 3, 2, 3, 2, 3, 3, 3, 2, 4, 4, 3, 4, 3, 4, 3, 4, 2, 4, 4, 4, 4, 4, 4, 4, 3, 4, 3, 3, 4, 2, 4, 2, 3, 3, 4, 3, 4, 4, 3, 3, 2, 2, 3, 4, 4, 3, 3, 4, 3, 2, 4, 3, 4, 3, 2, 4, 2, 3, 4, 3, 2, 4, 2, 1, 2, 3, 4, 2, 3, 3, 3, 3, 2, 3, 3, 4, 3, 3, 3, 3, 2, 4, 3, 4, 1, 3, 2, 3, 4, 4, 0, 2, 3, 4, 4, 3, 4, 2, 3, 3, 4, 4, 3, 3, 3, 3, 3, 4, 3, 4, 3, 3, 3, 3, 3, 4, 4, 2, 4, 2, 3, 3, 2, 3, 3, 2, 3, 3, 3, 3, 4, 4, 0, 3, 4, 2, 2, 3, 3, 4, 3, 4, 2, 4, 4, 4, 3, 3, 2, 3, 4, 3, 4, 4, 4, 3, 3, 3, 3, 4, 4, 4, 4, 2, 3, 4, 3, 3, 4, 3, 3, 4, 3, 3, 4, 3, 3, 2, 2, 3, 4, 3, 4, 3, 4, 2, 4, 3, 3, 3, 4, 3, 4, 3, 3, 4, 4, 2, 3, 2, 3, 3, 3, 3, 4, 4, 2, 3, 4, 3, 3, 1, 4, 3, 4, 3, 2, 4, 2, 3, 2, 3, 3, 3, 2, 3, 3, 3, 3, 2, 3, 4, 3, 3, 3, 4, 4, 3, 3, 3, 3, 3, 3, 4, 3, 4, 2, 0, 2, 3, 4, 3, 4, 4, 4, 3, 3, 2, 3, 2, 4, 3, 4, 3, 4, 3, 3, 2, 3, 4, 3, 2, 3, 4, 3, 3, 3, 3, 3, 3, 3, 4, 4, 3, 3, 4, 1, 3, 3, 3, 4, 3, 2, 2, 4, 3, 1, 4, 4, 3, 3, 3, 4, 4, 3, 4, 3, 4, 2, 4, 3, 1, 2, 3, 3, 2, 3, 2, 3, 4, 1, 3, 3, 4, 3, 3, 4, 4, 4, 2, 4, 4, 4, 4, 3, 3, 3, 3, 3, 3, 3, 3, 4, 4, 3, 4, 4, 4, 3, 1, 4, 4, 1, 3, 3, 4, 3, 2, 2, 3, 2, 2, 3, 1, 2, 3, 4, 4, 4, 3, 3, 3, 2, 3, 3, 4, 4, 4, 3, 4, 3, 3, 3, 4, 4, 4, 3, 4, 4, 2, 3, 3, 3, 2, 3, 2, 4, 2, 4, 2, 4, 3, 4, 2, 1, 2, 4, 1, 4, 4, 3, 2, 2, 3, 3, 4, 3, 2, 3, 3, 4, 3, 3, 4, 3, 3, 3, 3, 2, 4, 2, 2, 2, 3, 3, 4, 3, 3, 3, 2, 2, 4, 3, 3, 2, 3, 4, 4, 3, 3, 4, 3, 3, 3, 4, 3, 2, 4, 3, 4, 3, 3, 3, 2, 3, 3, 3, 3, 3, 2, 3, 3, 1, 3, 4, 3, 3, 3, 3, 1, 2, 2, 3, 3, 4, 4, 4, 2, 3, 2, 2, 3, 3, 3, 3, 4, 3, 2, 3, 3, 4, 3, 4, 2, 4, 1, 3, 3, 3, 2, 2, 3, 3, 2, 3, 3, 3, 2, 2, 3, 3, 3, 3, 2, 4, 2, 3, 3, 4, 3, 4, 3, 3, 2, 1, 2, 4, 4, 4, 4, 3, 3, 3, 3, 2, 3, 3, 2, 3, 3, 4, 4, 3, 1, 4, 2, 3, 4, 2, 3, 2, 4, 1, 3, 3, 1, 3, 4, 2, 3, 3, 4, 3, 2, 3, 3, 4, 2, 2, 2, 3, 1, 0, 4, 1, 3, 3, 4, 3, 2, 3, 3, 3, 1, 3, 3, 3, 3, 2, 3, 3, 3, 3, 3, 4, 4, 4, 3, 4, 4, 4, 4, 3, 3, 3, 3, 3, 4, 4, 4, 2, 2, 2, 3, 4, 4, 2, 2, 4, 4, 4, 2, 2, 3, 3, 3, 3, 4, 3, 4, 3, 4, 3, 3, 3, 2, 4, 2, 2, 4, 4, 3, 1, 3, 2, 4, 3, 3, 3, 4, 3, 3, 4, 2, 4, 1, 3, 4, 3, 3, 2, 3, 3, 2, 3, 3, 4, 2, 3, 2, 3, 4, 3, 3, 4, 2, 3, 3, 2, 3, 4, 4, 3, 3, 4, 3, 3, 3, 3, 3, 3, 3, 4, 3, 3, 2, 4, 4, 3, 3, 4, 4, 1, 3, 3, 4, 3, 4, 2, 3, 2, 3, 3, 3, 3, 3, 2, 2, 4, 3, 0, 3, 3, 3, 3, 3, 2, 4, 3, 2, 4, 4, 2, 3, 4, 3, 3, 4, 2, 3, 3, 3, 1, 3, 3, 3, 4, 3, 4, 4, 3, 4, 1, 4, 3, 2, 3, 3, 3, 4, 2, 3, 3, 3, 3, 2, 3, 3, 3, 3, 3, 1, 4, 2, 2, 4, 4, 3, 3, 4, 3, 3, 3, 2, 4, 4, 4, 2, 4, 3, 4, 3, 3, 3, 2, 2, 3, 3, 2, 4, 3, 3, 3, 3, 3, 3, 2, 3, 4, 4, 3, 4, 4, 1, 4, 3, 1, 4, 4, 4, 3, 4, 3, 4, 4, 2, 3, 3, 2, 3, 3, 3, 3, 2, 2, 3, 2, 2, 4, 2, 3, 3, 3, 1, 1, 3, 3, 1, 4, 2, 3, 3, 3, 3, 3, 3, 4, 3, 3, 2, 3, 4, 3, 4, 3, 4, 4, 3, 3, 4, 2, 4, 3, 3, 3, 3, 4, 4, 3, 3, 3, 2, 2, 3, 4, 4, 4, 3, 3, 3, 3, 3, 4, 4, 3, 4, 3, 4, 2, 4, 4, 4, 3, 2, 3, 2, 2, 1, 2, 1, 1, 3, 1, 3, 4, 3, 3, 3, 2, 2, 3, 2, 3, 3, 1, 3, 4, 4, 3, 4, 3, 4, 3, 3, 3, 3, 3, 3, 3, 3, 4, 4, 3, 3, 3, 1, 3, 4, 3, 4, 4, 3, 2, 3, 3, 3, 4, 4, 3, 4, 3, 4, 1, 3, 4, 2, 3, 3, 3, 3, 3, 3, 3, 3, 3, 4, 2, 3, 3, 4, 3, 1, 3, 3, 3, 2, 4, 3, 4, 4, 3, 2, 1, 2, 4, 2, 3, 0, 1, 4, 3, 1, 3, 3, 3, 3, 2, 2, 2, 4, 2, 3, 3, 1, 2, 1, 3, 3, 2, 4, 4, 3, 1, 4, 3, 1, 3, 4, 3, 2, 3, 3, 4, 4, 2, 3, 3, 4, 3, 3, 3, 3, 3, 2, 3, 3, 3, 3, 2, 2, 3, 4, 3, 3, 3, 2, 1, 4, 3, 2, 3, 4, 3, 1, 3, 2, 3, 4, 4, 3, 2, 4, 4, 3, 2, 3, 3, 3, 3, 3, 3, 3, 3, 2, 3, 4, 2, 4, 3, 2, 2, 3, 3, 2, 3, 3, 3, 2, 3, 3, 2, 4, 3, 1, 0, 4, 1, 4, 2, 4, 3, 3, 3, 2, 3, 3, 3, 3, 2, 1, 3, 4, 2, 3, 3, 3, 3, 4, 3, 3, 3, 4, 3, 4, 3, 3, 3, 1, 3, 2, 3, 3, 4, 1, 4, 3, 2, 2, 1, 3, 4, 3, 4, 2, 1, 4, 3, 4, 3, 0, 3, 3, 2, 4, 4, 3, 4, 2, 3, 4, 4, 3, 4, 3, 1, 4, 3, 3, 3, 3, 3, 3, 3, 4, 4, 4, 3, 3, 4, 4, 3, 3, 2, 2, 2, 3, 2, 3, 4, 3, 4, 3, 4, 1, 3, 2, 3, 2, 3, 4, 2, 4, 3, 3, 3, 3, 3, 4, 2, 3, 3, 4, 3, 2, 4, 4, 2, 3, 3, 2, 3, 3, 3, 3, 3, 3, 3, 2, 2, 3, 3, 2, 3, 2, 3, 3, 4, 0, 3, 2, 3, 3, 4, 4, 3, 4, 3, 4, 1, 2, 3, 4, 4, 3, 3, 2, 4, 3, 4, 2, 4, 4, 3, 2, 4, 1, 3, 2, 3, 4, 2, 1, 2, 4, 4, 1, 3, 4, 3, 4, 3, 4, 2, 4, 3, 1, 3, 4, 4, 0, 3, 3, 4, 4, 4, 3, 4, 1, 3, 4, 4, 3, 4, 3, 4, 2, 3, 4, 3, 3, 3, 4, 3, 4, 4, 4, 1, 2, 3, 1, 4, 1, 3, 4, 3, 3, 2, 4, 4, 3, 2, 3, 2, 3, 3, 4, 1, 3, 4, 2, 3, 3, 3, 3, 4, 4, 4, 4, 3, 3, 3, 3, 4, 4, 4, 3, 2, 1, 2, 1, 2, 1, 1, 0, 1, 1, 1, 0, 1, 2, 0, 1, 1, 1, 4, 0, 1, 1, 2, 1, 0, 0, 2, 0, 2, 0, 0, 1, 1, 0, 2, 1, 1, 1, 1, 0, 0, 2, 2, 2, 2, 0, 2, 1, 1, 0, 1, 0, 2, 2, 1, 1, 1, 1, 1, 1, 2, 3, 2, 1, 2, 1, 0, 0, 0, 1, 2, 1, 0, 0, 1, 0, 2, 0, 2, 0, 2, 1, 1, 0, 2, 2, 1, 0, 2, 0, 0, 1, 2, 1, 0, 1, 3, 1, 1, 1, 0, 1, 1, 3, 2, 1, 1, 3, 3, 1, 0, 1, 1, 2, 1, 2, 1, 2, 0, 1, 1, 2, 2, 0, 0, 1, 3, 3, 1, 0, 3, 0, 1, 0, 2, 0, 0, 2, 1, 0, 1, 1, 2, 0, 1, 0, 1, 1, 0, 2, 2, 1, 2, 2, 0, 3, 2, 1, 1, 0, 1, 3, 2, 0, 1, 3, 3, 2, 0, 0, 1, 1, 2, 0, 0, 1, 3, 2, 2, 1, 1, 2, 2, 3, 2, 1, 1, 1, 2, 0, 1, 1, 1, 3, 1, 2, 3, 1, 2, 1, 2, 1, 1, 0, 0, 1, 1, 2, 1, 2, 2, 0, 1, 3, 0, 2, 0, 0, 0, 2, 0, 1, 0, 2, 1, 1, 3, 1, 0, 2, 1, 1, 2, 1, 1, 1, 3, 0, 2, 1, 1, 2, 2, 1, 1, 2, 0, 2, 1, 1, 2, 3, 1, 2, 1, 0, 1, 1, 2, 1, 1, 2, 1, 1, 0, 0, 2, 2, 0, 0, 1, 3, 1, 1, 2, 3, 1, 0, 0, 2, 2, 1, 1, 0, 2, 2, 1, 0, 1, 1, 0, 0, 1, 2, 0, 0, 1, 1, 1, 0, 1, 1, 1, 2, 1, 1, 3, 4, 0, 1, 1, 2, 2, 1, 1, 2, 2, 2, 1, 1, 2, 0, 1, 1, 2, 1, 1, 0, 1, 1, 2, 1, 0, 0, 1, 1, 0, 1, 1, 2, 2, 1, 2, 0, 1, 2, 2, 2, 0, 2, 2, 2, 1, 1, 1, 0, 1, 0, 1, 1, 1, 1, 3, 2, 1, 0, 1, 0, 1, 1, 1, 0, 0, 3, 1, 1, 1, 2, 2, 1, 2, 0, 3, 1, 0, 0, 1, 3, 0, 2, 0, 0, 3, 2, 2, 2, 2, 1, 1, 0, 1, 1, 3, 2, 2, 0, 1, 1, 1, 0, 0, 2, 3, 1, 1, 2, 0, 1, 3, 2, 1, 4, 1, 0, 1, 0, 1, 1, 3, 0, 2, 1, 0, 1, 3, 0, 3, 1, 1, 1, 2, 0, 1, 2, 2, 0, 3, 0, 2, 4, 0, 3, 2, 0, 2, 1, 2, 2, 1, 1, 1, 0, 1, 3, 1, 0, 2, 1, 3, 3, 3, 1, 0, 1, 1, 1, 2, 0, 3, 0, 3, 2, 1, 2, 2, 3, 2, 0, 2, 1, 0, 0, 0, 2, 1, 2, 1, 1, 1, 2, 2, 0, 1, 2, 1, 0, 3, 1, 0, 0, 0, 1, 0, 0, 1, 1, 2, 0, 1, 2, 0, 1, 3, 2, 1, 3, 0, 1, 2, 0, 1, 0, 1, 0, 1, 0, 0, 1, 2, 0, 1, 2, 1, 1, 2, 4, 1, 1, 4, 2, 1, 2, 1, 1, 2, 1, 1, 2, 1, 0, 2, 3, 1, 0, 0, 2, 3, 3, 1, 1, 2, 1, 2, 1, 1, 0, 1, 0, 1, 2, 1, 1, 2, 1, 0, 1, 2, 3, 3, 2, 1, 0, 1, 1, 0, 2, 2, 1, 1, 1, 1, 2, 0, 2, 2, 4, 0, 2, 1, 4, 1, 1, 1, 1, 1, 1, 1, 1, 3, 1, 0, 2, 0, 2, 0, 0, 1, 1, 0, 1, 2, 1, 3, 0, 3, 0, 0, 0, 0, 0, 0, 3, 1, 1, 2, 0, 2, 0, 1, 0, 1, 1, 1, 0, 2, 1, 0, 0, 2, 0, 0, 1, 1, 0, 0, 2, 2, 1, 0, 1, 3, 1, 0, 2, 1, 1, 0, 0, 0, 1, 1, 1, 2, 1, 2, 2, 0, 1, 0, 1, 0, 2, 2, 1, 1, 1, 1, 2, 1, 1, 2, 2, 1, 0, 0, 0, 2, 0, 3, 1, 1, 1, 1, 1, 1, 2, 2, 1, 0, 1, 0, 0, 0, 1, 2, 1, 1, 1, 1, 1, 1, 1, 1, 2, 1, 2, 2, 1, 1, 0, 1, 1, 3, 0, 3, 1, 3, 0, 0, 1, 1, 1, 1, 1, 1, 1, 0, 3, 2, 2, 2, 1, 0, 1, 1, 0, 1, 0, 0, 0, 1, 1, 1, 1, 1, 1, 3, 1, 1, 0, 2, 1, 3, 2, 0, 1, 1, 1, 1, 2, 1, 2, 1, 2, 0, 0, 1, 2, 1, 1, 1, 0, 2, 0, 1, 0, 1, 1, 1, 0, 1, 1, 1, 0, 1, 0, 0, 0, 0, 4, 1, 1, 2, 2, 0, 1, 2, 1, 2, 0, 0, 1, 3, 2, 0, 0, 2, 1, 0, 0, 1, 1, 1, 1, 2, 1, 0, 2, 1, 0, 0, 1, 0, 3, 1, 2, 1, 2, 1, 1, 0, 0, 2, 2, 2, 0, 3, 1, 1, 2, 0, 2, 1, 1, 2, 2, 0, 0, 1, 1, 0, 1, 1, 1, 1, 1, 0, 1, 1, 2, 2, 2, 1, 0, 2, 0, 2, 0, 1, 2, 2, 0, 3, 1, 1, 1, 2, 1, 1, 2, 2, 0, 0, 2, 1, 3, 0, 0, 0, 1, 0, 1, 1, 0, 1, 1, 1, 1, 2, 2, 2, 2, 1, 1, 0, 1, 1, 2, 0, 2, 1, 0, 2, 2, 1, 2, 1, 2, 2, 1, 2, 1, 1, 2, 0, 2, 2, 0, 1, 0, 4, 0, 3, 1, 1, 1, 3, 1, 1, 0, 2, 0, 3, 2, 1, 1, 0, 1, 3, 0, 1, 1, 1, 1, 0, 1, 1, 3, 0, 2, 2, 0, 1, 0, 2, 0, 1, 2, 2, 0, 1, 1, 0, 2, 1, 1, 1, 2, 2, 1, 3, 2, 2, 2, 2, 0, 2, 0, 0, 0, 2, 1, 2, 0, 2, 1, 1, 1, 2, 1, 0, 1, 1, 1, 1, 3, 1, 0, 3, 2, 1, 1, 3, 1, 3, 1, 1, 1, 1, 2, 1, 1, 0, 1, 1, 2, 1, 2, 2, 1, 1, 1, 1, 1, 1, 2, 2, 2, 1, 2, 1, 2, 0, 0, 0, 1, 2, 1, 2, 2, 2, 1, 1, 0, 2, 1, 1, 3, 0, 0, 1, 0, 1, 2, 0, 3, 1, 1, 0, 1, 1, 2, 1, 0, 1, 1, 1, 1, 2, 1, 2, 2, 1, 1, 1, 0, 2, 1, 1, 1, 2, 0, 0, 0, 1, 1, 1, 1, 1, 2, 1, 2, 2, 2, 2, 0, 1, 2, 1, 1, 1, 2, 1, 2, 1, 1, 1, 2, 1, 1, 1, 1, 1, 1, 1, 1, 2, 1, 1, 1, 2, 0, 2, 1, 1, 1, 0, 1, 2, 2, 1, 1, 1, 1, 0, 1, 0, 0, 1, 0, 1, 1, 2, 2, 1, 2, 1, 1, 1, 1, 0, 1, 1, 0, 1, 1, 0, 1, 0, 1, 0, 1, 1, 1, 1, 1, 2, 1, 1, 0, 1, 0, 1, 2, 2, 1, 2, 2, 3, 2, 1, 1, 1, 1, 1, 1, 1, 0, 1, 0, 1, 1, 1, 1, 1, 2, 0, 2, 1, 0, 1, 0, 1, 1, 1, 1, 1, 1, 1, 0, 1, 3, 0, 2, 0, 0, 0, 1, 1, 0, 1, 3, 1, 2, 1, 1, 0, 1, 2, 1, 0, 2, 1, 1, 4, 1, 2, 0, 2, 0, 2, 3, 0, 1, 1, 2, 2, 0, 1, 1, 2, 1, 1, 0, 1, 1, 2, 2, 1, 1, 0, 2, 2, 1, 2, 1, 1, 1, 1, 1, 1, 1, 0, 1, 1, 0, 1, 1, 2, 3, 1, 1, 1, 0, 3, 1, 0, 0, 0, 0, 1, 0, 0, 3, 1, 0, 1, 0, 0, 1, 1, 1, 1, 1, 0, 1, 1, 0, 1, 0, 2, 1, 0, 0, 2, 1, 0, 1, 2, 0, 1, 2, 0, 3, 1, 0, 1, 1, 1, 1, 1, 4, 1, 0, 2, 2, 1, 1, 1, 1, 1, 1, 1, 2, 0, 1, 2, 1, 3, 1, 0, 1, 0, 1, 1, 1, 1, 2, 1, 1, 0, 1, 0, 1, 2, 2, 1, 1, 1, 0, 2, 1, 0, 2, 0, 2, 1, 0, 3, 1, 0, 1, 2, 0, 1, 1, 0, 1, 0, 1, 1, 1, 0, 1, 1, 0, 2, 1, 1, 1, 1, 1, 0, 2, 1, 1, 1, 1, 2, 2, 0, 2, 3, 2, 1, 1, 1, 2, 1, 1, 0, 1, 0, 1, 1, 2, 2, 1, 0, 0, 2, 1, 0, 1, 2, 0, 1, 0, 1, 1, 1, 3, 1, 2, 1, 1, 1, 3, 2, 1, 1, 2, 1, 2, 1, 1, 1, 0, 0, 0, 4, 2, 2, 1, 1, 1, 2, 2, 0, 1, 3, 0, 0, 1, 1, 3, 1, 2, 2, 1, 2, 1, 0, 0, 0, 1, 1, 1, 1, 2, 2, 2, 2, 2, 0, 1, 2, 2, 1, 0, 0, 2, 0, 0, 1, 1, 1, 1, 1, 1, 0, 3, 1, 1, 2, 0, 1, 2, 1, 1, 1, 2, 2, 0, 0, 2, 2, 1, 2, 3, 2, 1, 1, 1, 1, 0, 1, 1, 1, 1, 2, 1, 0, 1, 1, 1, 3, 1, 1, 1, 3, 4, 1, 1, 2, 0, 0, 1, 1, 2, 2, 3, 1, 3, 2, 0, 2, 1, 1, 0, 2, 2, 2, 0, 2, 1, 1, 1, 1, 2, 1, 2, 2, 1, 3, 1, 1, 0, 1, 0, 1, 3, 2, 1, 1, 1, 3, 2, 1, 1, 1, 0, 1, 0, 2, 1, 1, 0, 1, 0, 1, 1, 3, 1, 1, 0, 0, 1, 0, 1, 0, 3, 1, 1, 0, 1, 1, 1, 0, 1, 0, 1, 1, 1, 0, 0, 1, 1, 0, 1, 1, 0, 1, 2, 1, 1, 2, 0, 1, 1, 1, 0, 2, 1, 1, 0, 1, 0, 0, 2, 0, 0, 1, 1, 1, 0, 0, 1, 3, 1, 2, 1, 0, 1, 1, 0, 1, 2, 3, 0, 1, 3, 0, 2, 2, 1, 3, 1, 1, 0, 3, 1, 1, 0, 0, 1, 0, 1, 1, 1, 1, 0, 1, 0, 2, 0, 0, 0, 0, 1, 1, 1, 1, 0, 1, 2, 2, 1, 2, 1, 1, 1, 1, 1, 0, 0, 2, 2, 1, 0, 0, 2, 3, 2, 0, 2, 1, 0, 2, 2, 0, 0, 1, 1, 1, 0, 1, 1, 0, 0, 1, 3, 1, 2, 4, 1, 2, 2, 0, 1, 1, 0, 1, 1, 1, 2, 2, 0, 1, 1, 1, 0, 1, 0, 1, 1, 1, 2, 1, 1, 0, 1, 1, 0, 3, 2, 2, 1, 3, 4, 1, 1, 1, 1, 1, 1, 0, 2, 1, 1, 0, 1, 1, 1, 1, 3, 1, 1, 1, 2, 1, 4, 1, 1, 1, 2, 1, 1, 2, 1, 1, 1, 1, 0, 0, 1, 1, 0, 1, 1, 1, 0, 0, 1, 2, 1, 1, 0, 1, 0, 2, 0, 0, 2, 1, 1, 1, 2, 1, 4, 2, 1, 3, 2, 0, 2, 2, 0, 0, 1, 3, 1, 1, 0, 1, 1, 2, 2, 1, 2, 0, 1, 1, 2, 2, 1, 1, 1, 0, 0, 2, 1, 2, 1, 2, 2, 2, 0, 1, 1, 1, 2, 1, 1, 0, 1, 1, 2, 0, 1, 0, 0, 1, 1, 2, 2, 1, 1, 0, 1, 2, 0, 2, 2, 1, 0, 1, 0, 2, 1, 0, 3, 1, 1, 2, 2, 0, 1, 2, 2, 1, 1, 0, 0, 0, 1, 2, 1, 3, 3, 0, 0, 1, 0, 2, 2, 2, 2, 1, 2, 1, 2, 1, 0, 0, 1, 1, 0, 0, 1, 1, 1, 3, 1, 1, 1, 1, 1, 2, 1, 0, 3, 1, 1, 1, 2, 2, 2, 1, 1, 2, 2, 0, 3, 1, 0, 1, 1, 1, 3, 0, 1, 0, 0, 1, 0, 1, 1, 0, 0, 2, 1, 1, 1, 1, 1, 0, 1, 1, 1, 1, 0, 2, 1, 0, 1, 1, 0, 1, 1, 2, 1, 3, 1, 0, 1, 2, 2, 0, 2, 1, 0, 0, 1, 2, 0, 1, 2, 2, 1, 1, 3, 1, 1, 2, 1, 0, 2, 2, 2, 1, 1, 2, 0, 0, 2, 1, 3, 1, 3, 2, 2, 0, 0, 3, 4, 0, 3, 0, 0, 2, 1, 1, 1, 1, 2, 0, 1, 2, 2, 2, 2, 2, 1, 2, 0, 2, 1, 1, 1, 0, 0, 2, 2, 2, 1, 0, 1, 2, 1, 1, 0, 1, 2, 1, 2, 2, 2, 2, 2, 0, 1, 2, 1, 2, 0, 1, 1, 1, 2, 1, 1, 1, 0, 0, 1, 0, 0, 1, 1, 1, 1, 0, 2, 0, 2, 1, 1, 2, 1, 1, 1, 1, 2, 0, 1, 1, 0, 0, 0, 1, 2, 2, 1, 1, 1, 0, 0, 1, 1, 1, 2, 1, 0, 1, 1, 1, 3, 1, 2, 2, 2, 1, 1, 2, 0, 1, 1, 1, 1, 2, 0, 1, 2, 0, 2, 1, 2, 2, 1, 0, 2, 1, 2, 1, 3, 1, 2, 1, 1, 1, 0, 1, 0, 1, 0, 1, 2, 1, 1, 0, 1, 1, 1, 1, 0, 2, 1, 1, 0, 4, 3, 0, 1, 3, 2, 0, 0, 1, 0, 1, 1, 0, 1, 1, 1, 0, 0, 1, 3, 1, 1, 1, 2, 1, 2, 1, 0, 0, 2, 0, 2, 1, 2, 1, 1, 1, 0, 1, 2, 1, 0, 1, 3, 2, 0, 0, 0, 0, 0, 1, 2, 1, 1, 1, 0, 0, 0, 1, 1, 0, 0, 2, 2, 2, 2, 1, 0, 0, 2, 1, 0, 2, 2, 1, 1, 2, 2, 2, 1, 0, 2, 2, 0, 3, 1, 1, 3, 1, 2, 4, 2, 0, 2, 2, 2, 0, 1, 0, 1, 0, 1, 2, 1, 1, 2, 0, 1, 1, 1, 3, 0, 0, 1, 0, 1, 0, 1, 4, 0, 2, 0, 1, 1, 1, 2, 1, 3, 2, 2, 1, 1, 1, 2, 0, 1, 2, 2, 0, 1, 1, 1, 1, 2, 1, 3, 2, 4, 0, 3, 2, 1, 3, 1, 0, 2, 0, 0, 1, 0, 2, 1, 1, 1, 2, 1, 1, 0, 0, 1, 1, 1, 0, 2, 0, 2, 0, 1, 1, 1, 1, 1, 1, 2, 2, 2, 1, 3, 1, 2, 0, 1, 2, 1, 1, 2, 3, 1, 0, 0, 1, 1, 3, 0, 0, 1, 1, 1, 1, 3, 0, 1, 2, 1, 1, 1, 1, 0, 0, 2, 1, 0, 0, 1, 2, 1, 1, 2, 2, 1, 1, 1, 1, 2, 1, 2, 3, 2, 2, 1, 1, 2, 2, 2, 1, 1, 1, 2, 1, 2, 0, 0, 1, 2, 3, 1, 1, 2, 2, 0, 2, 1, 1, 2, 2, 1, 0, 0, 2, 1, 0, 1, 0, 2, 1, 0, 1, 2, 1, 1, 1, 1, 0, 0, 1, 0, 0, 0, 2, 1, 2, 1, 0, 3, 1, 1, 1, 1, 0, 1, 1, 2, 1, 0, 0, 0, 1, 2, 1, 1, 1, 1, 1, 1, 4, 1, 2, 3, 1, 1, 2, 1, 3, 1, 1, 2, 2, 3, 1, 1, 0, 3, 0, 2, 1, 1, 1, 1, 1, 1, 1, 1, 0, 0, 1, 0, 0, 2, 1, 1, 3, 1, 2, 1, 1, 1, 1, 1, 1, 1, 1, 1, 2, 1, 1, 1, 0, 1, 2, 1, 1, 1, 0, 1, 1, 0, 0, 0, 1, 1, 1, 1, 2, 2, 2, 1, 0, 1, 2, 3, 1, 1, 2, 1, 1, 0, 2, 2, 0, 3, 4, 1, 0, 0, 1, 1, 0, 0, 0, 2, 0, 1, 0, 0, 3, 1, 3, 1, 0, 1, 2, 2, 1, 2, 1, 3, 2, 2, 3, 2, 2, 1, 1, 1, 0, 1, 1, 1, 2, 1, 1, 1, 1, 1, 1, 1, 0, 1, 1, 1, 1, 1, 0, 1, 2, 1, 0, 0, 1, 1, 1, 3, 1, 0, 0, 1, 1, 1, 1, 1, 0, 2, 2, 2, 1, 0, 0, 2, 1, 1, 1, 3, 1, 1, 2, 2, 1, 0, 1, 1, 2, 1, 0, 1, 2, 1, 2, 1, 0, 1, 2, 1, 1, 0, 1, 2, 0, 2, 0, 0, 0, 0, 2, 1, 2, 2, 0, 1, 1, 0, 3, 3, 0, 2, 0, 1, 2, 1, 1, 1, 1, 3, 1, 0, 1, 0, 1, 1, 2, 1, 2, 0, 2, 0, 1, 2, 1, 1, 1, 2, 0, 2, 1, 1, 1, 0, 1, 1, 3, 0, 2, 0, 1, 1, 1, 1, 0, 1, 2, 1, 1, 1, 1, 0, 2, 1, 2, 0, 2, 1, 0, 1, 2, 0, 2, 0, 0, 2, 0, 0, 0, 1, 1, 1, 0, 1, 1, 1, 0, 1, 3, 0, 0, 1, 2, 1, 1, 0, 1, 0, 2, 1, 2, 1, 1, 0, 1, 1, 1, 0, 1, 0, 1, 2, 2, 1, 1, 0, 0, 1, 2, 1, 0, 1, 2, 1, 1, 1, 1, 1, 0, 0, 1, 1, 2, 1, 1, 2, 0, 0, 1, 1, 2, 2, 3, 2, 1, 2, 1, 1, 1, 0, 1, 1, 1, 2, 2, 1, 1, 1, 1, 1, 0, 0, 2, 0, 1, 1, 1, 1, 1, 1, 2, 1, 0, 2, 1, 3, 1, 2, 1, 0, 2, 0, 2, 1, 1, 1, 0, 1, 0, 0, 0, 0, 1, 1, 1, 1, 1, 1, 1, 0, 2, 0, 1, 1, 1, 0, 0, 1, 1, 3, 2, 2, 0, 1, 2, 2, 2, 2, 3, 2, 1, 0, 1, 3, 1, 4, 3, 1, 0, 2, 0, 0, 0, 3, 2, 0, 2, 0, 0, 2, 1, 0, 1, 1, 1, 2, 1, 0, 1, 2, 1, 0, 0, 1, 0, 2, 2, 1, 0, 0, 2, 1, 1, 1, 1, 1, 1, 1, 0, 0, 3, 1, 1, 1, 1, 1, 2, 0, 1, 0, 1, 1, 2, 0, 1, 0, 1, 0, 1, 0, 2, 0, 1, 0, 0, 1, 0, 2, 2, 0, 1, 2, 1, 2, 2, 1, 1, 1, 1, 0, 2, 2, 2, 1, 1, 1, 2, 1, 1, 0, 0, 2, 1, 0, 0, 1, 0, 0, 1, 2, 1, 1, 2, 1, 0, 1, 1, 0, 1, 2, 1, 1, 1, 2, 1, 2, 0, 2, 1, 1, 0, 1, 2, 2, 1, 2, 1, 1, 1, 1, 2, 3, 1, 1, 1, 1, 3, 1, 1, 1, 1, 2, 1, 0, 2, 1, 1, 2, 2, 0, 1, 2, 1, 2, 0, 0, 1, 1, 0, 1, 1, 1, 2, 2, 3, 0, 2, 0, 4, 0, 0, 1, 1, 2, 2, 3, 0, 3, 1, 1, 0, 2, 1, 1, 0, 0, 1, 2, 0, 1, 0, 1, 1, 1, 0, 2, 2, 1, 1, 1, 1, 1, 3, 0, 2, 0, 0, 1, 1, 0, 3, 2, 0, 1, 3, 1, 1, 0, 2, 3, 1, 0, 2, 0, 1, 2, 1, 0, 1, 0, 4, 2, 1, 1, 1, 1, 2, 2, 2, 1, 1, 0, 1, 0, 1, 1, 1, 0, 1, 1, 1, 2, 2, 0, 0, 2, 1, 1, 3, 1, 0, 0, 1, 3, 0, 0, 1, 0, 1, 2, 2, 1, 1, 1, 1, 1, 1, 1, 1, 1, 1, 3, 1, 1, 1, 0, 0, 1, 1, 2, 0, 0, 0, 1, 1, 1, 0, 1, 1, 0, 1, 1, 2, 0, 1, 0, 1, 0, 1, 2, 1, 1, 1, 1, 1, 2, 0, 1, 0, 3, 2, 1, 1, 2, 1, 2, 1, 2, 0, 1, 1, 1, 3, 1, 0, 1, 0, 1, 0, 1, 0, 1, 1, 1, 1, 1, 1, 1, 2, 2, 1, 0, 1, 1, 2, 1, 1, 2, 1, 1, 2, 2, 2, 1, 2, 1, 1, 0, 1, 1, 1, 2, 2, 0, 0, 3, 1, 1, 1, 1, 1, 0, 1, 1, 1, 1, 2, 1, 1, 2, 2, 1, 0, 2, 2, 0, 1, 0, 0, 2, 1, 0, 1, 1, 1, 0, 1, 0, 2, 1, 1, 3, 1, 1, 1, 0, 3, 0, 1, 2, 1, 1, 2, 1, 2, 1, 1, 3, 1, 1, 0, 0, 1, 1, 2, 1, 1, 1, 0, 2, 2, 1, 2, 1, 1, 1, 0, 1, 1, 0, 1, 1, 1, 1, 1, 2, 0, 0, 1, 1, 2, 2, 2, 0, 1, 1, 0, 0, 3, 1, 1, 0, 2, 1, 1, 0, 1, 0, 2, 0, 3, 1, 0, 1, 2, 1, 1, 2, 2, 1, 1, 1, 3, 1, 1, 0, 3, 1, 2, 1, 3, 2, 2, 1, 2, 2, 1, 2, 1, 1, 1, 1, 0, 0, 2, 1, 0, 1, 1, 2, 1, 2, 1, 0, 1, 2, 1, 0, 1, 1, 1, 0, 2, 0, 1, 1, 1, 1, 2, 1, 1, 2, 2, 0, 2, 3, 0, 1, 1, 2, 2, 1, 1, 1, 2, 2, 0, 1, 0, 1, 3, 1, 3, 1, 1, 3, 4, 2, 2, 0, 2, 1, 1, 0, 1, 1, 2, 1, 1, 1, 1, 0, 1, 1, 1, 0, 1, 1, 0, 0, 1, 1, 2, 1, 1, 3, 1, 2, 0, 2, 3, 2, 1, 1, 2, 3, 0, 2, 0, 0, 2, 1, 0, 1, 2, 3, 1, 1, 2, 2, 2, 0, 0, 1, 0, 0, 2, 2, 2, 2, 0, 1, 1, 0, 3, 1, 1, 2, 2, 4, 2, 2, 1, 3, 2, 1, 0, 2, 1, 0, 1, 2, 1, 0, 1, 1, 2, 1, 1, 2, 1, 1, 2, 1, 2, 2, 1, 3, 3, 1, 0, 2, 1, 1, 1, 1, 1, 1, 0, 0, 1, 1, 0, 2, 0, 0, 2, 1, 0, 1, 2, 1, 2, 1, 1, 1, 1, 1, 1, 2, 0, 0, 1, 1, 2, 1, 3, 1, 1, 0, 1, 0, 2, 0, 1, 0, 1, 2, 1, 2, 2, 1, 1, 2, 2, 0, 2, 2, 1, 1, 1, 1, 1, 1, 0, 1, 2, 1, 0, 1, 1, 0, 1, 0, 1, 0, 0, 1, 2, 0, 0, 2, 1, 1, 1, 0, 3, 1, 1, 2, 1, 0, 2, 0, 0, 1, 1, 0, 1, 0, 2, 1, 3, 2, 1, 1, 1, 2, 1, 3, 2, 2, 1, 2, 1, 2, 2, 2, 3, 0, 1, 3, 0, 0, 1, 3, 0, 1, 1, 1, 2, 0, 0, 0, 1, 2, 0, 0, 1, 2, 1, 1, 0, 1, 0, 0, 1, 1, 1, 1, 0, 0, 2, 3, 1, 1, 2, 1, 1, 0, 3, 0, 0, 1, 1, 2, 1, 1, 3, 0, 1, 1, 0, 0, 1, 0, 1, 0, 1, 1, 0, 1, 0, 1, 1, 1, 2, 1, 1, 0, 1, 2, 2, 2, 1, 1, 0, 0, 0, 1, 1, 1, 1, 1, 1, 2, 0, 2, 0, 2, 0, 2, 0, 3, 1, 1, 1, 0, 1, 2, 3, 0, 1, 2, 0, 0, 0, 1, 2, 0, 1, 1, 1, 2, 2, 0, 1, 0, 1, 3, 1, 1, 1, 0, 0, 0, 3, 0, 1, 3, 0, 0, 0, 1, 0, 2, 1, 2, 0, 0, 2, 1, 1, 3, 1, 1, 0, 1, 2, 2, 1, 2, 2, 1, 0, 1, 1, 3, 1, 1, 0, 0, 3, 1, 1, 1, 1, 0, 1, 2, 1, 2, 2, 1, 2, 0, 1, 1, 0, 1, 0, 0, 1, 1, 1, 1, 0, 2, 2, 1, 2, 2, 4, 2, 2, 2, 2, 0, 1, 1, 1, 0, 1, 0, 1, 1, 2, 2, 2, 2, 0, 1, 0, 1, 1, 3, 1, 1, 0, 0, 1, 0, 1, 0, 1, 1, 1, 0, 0, 0, 1, 1, 2, 1, 0, 1, 1, 1, 1, 1, 0, 2, 3, 1, 0, 0, 0, 1, 2, 1, 2, 1, 0, 1, 1, 2, 0, 1, 0, 1, 1, 3, 2, 0, 1, 2, 2, 1, 1, 0, 1, 2, 2, 2, 0, 0, 0, 1, 2, 0, 0, 2, 2, 0, 2, 1, 1, 2, 0, 2, 1, 2, 1, 3, 0, 2, 1, 1, 2, 2, 0, 2, 2, 0, 1, 2, 1, 1, 2, 0, 1, 3, 1, 1, 1, 0, 1, 2, 2, 3, 1, 0, 0, 1, 2, 1, 1, 1, 0, 1, 1, 2, 0, 2, 1, 1, 0, 2, 1, 1, 0, 1, 0, 0, 0, 1, 0, 2, 1, 1, 1, 1, 1, 1, 0, 1, 0, 1, 0, 2, 1, 1, 2, 1, 0, 1, 1, 0, 0, 1, 2, 1, 3, 4, 3, 4, 2, 1, 3, 2, 4, 2, 3, 3, 3, 3, 3, 4, 3, 2, 1, 3, 4, 3, 3, 3, 4, 4, 3, 3, 3, 3, 3, 3, 3, 2, 3, 4, 3, 0, 2, 1, 1, 1, 2, 0, 1, 1, 1, 1, 1, 1, 1, 0, 3, 0, 3, 3, 2, 1, 2, 2, 1, 0, 2, 2, 2, 2, 1, 2, 1, 0, 1, 1, 2, 0, 0, 1, 0, 0, 1, 1, 4, 3, 3, 3, 4, 4, 4, 3, 3, 3, 3, 4, 3, 4, 3, 3, 4, 3, 4, 4, 3, 4, 3, 4, 4, 3, 4, 1, 4, 4, 4, 4, 3, 3, 4, 2, 3, 4, 4, 4, 2, 2, 4, 3, 4, 3, 3, 4, 2, 3, 4, 4, 3, 4, 3, 4, 4, 3, 2, 3, 3, 4, 4, 4, 3, 1, 4, 3, 3, 3, 3, 2, 4, 3, 4, 3, 1, 3, 3, 4, 4, 4, 1, 4, 4, 4, 4, 0, 3, 3, 3, 3, 2, 3, 3, 3, 3, 4, 3, 3, 4, 4, 3, 1, 2, 1, 0, 2, 0, 0, 1, 1, 1, 1, 1, 0, 0, 0, 1, 0, 3, 0, 2, 0, 1, 0, 1, 1, 0, 0, 2, 2, 1, 2, 2, 1, 1, 0, 1, 0, 0, 0, 2, 0, 0, 1, 0, 0, 2, 1, 0, 1, 1, 0, 0, 2, 2, 1, 0, 1, 0, 0, 1, 1, 0, 2, 1, 2, 1, 0, 1, 1, 2, 0, 1, 1, 1, 1, 2, 1, 0, 0, 2, 0, 0, 2, 1, 0, 0, 0, 1, 2, 0, 2, 0, 1, 0, 1, 1, 0, 1, 0, 1, 2, 1, 2, 0, 0, 1, 0, 1, 1, 1, 1, 1, 0, 1, 0, 0, 2, 1, 1, 0, 2, 2, 0, 3, 0, 1, 3, 0, 1]\n"
          ]
        }
      ],
      "source": [
        "print(true_labels)"
      ]
    },
    {
      "cell_type": "markdown",
      "source": [
        "###Metrics"
      ],
      "metadata": {
        "id": "xoLOUygoz7D9"
      }
    },
    {
      "cell_type": "code",
      "execution_count": null,
      "metadata": {
        "colab": {
          "base_uri": "https://localhost:8080/"
        },
        "id": "HWl71R61ps7w",
        "outputId": "a1cc2577-9b14-4c6a-83e0-01a81f1971e7"
      },
      "outputs": [
        {
          "name": "stdout",
          "output_type": "stream",
          "text": [
            "[[  0  96   0 183   0]\n",
            " [  0 238   0 395   0]\n",
            " [  0  94   0 295   0]\n",
            " [  0  84   0 426   0]\n",
            " [  0  47   0 352   0]]\n",
            "Class 0: Precision=0.0000, Recall=0.0000, F1-Score=0.0000\n",
            "Class 1: Precision=0.4258, Recall=0.3760, F1-Score=0.3993\n",
            "Class 2: Precision=0.0000, Recall=0.0000, F1-Score=0.0000\n",
            "Class 3: Precision=0.2580, Recall=0.8353, F1-Score=0.3943\n",
            "Class 4: Precision=0.0000, Recall=0.0000, F1-Score=0.0000\n",
            "Macro-averaged Precision: 0.1368\n",
            "Macro-averaged Recall: 0.2423\n",
            "Macro-averaged F1-Score: 0.1587\n"
          ]
        }
      ],
      "source": [
        "num_classes = 5\n",
        "cm = confusion_matrix_numpy(true_labels, predicted_labels, num_classes)\n",
        "print(cm)\n",
        "\n",
        "precision_numpy, recall_numpy, f1_numpy = precision_recall_f1_numpy(conf_matrix_numpy)\n",
        "\n",
        "precision_macro_numpy, recall_macro_numpy, f1_macro_numpy = macro_averaged_metrics_numpy(precision_numpy, recall_numpy, f1_numpy)\n",
        "\n",
        "#print metrics\n",
        "for i in range(num_classes):\n",
        "    print(f\"Class {i}: Precision={precision[i]:.4f}, Recall={recall[i]:.4f}, F1-Score={f1_score[i]:.4f}\")\n",
        "\n",
        "print(f\"Macro-averaged Precision: {precision_macro_numpy:.4f}\")\n",
        "print(f\"Macro-averaged Recall: {recall_macro_numpy:.4f}\")\n",
        "print(f\"Macro-averaged F1-Score: {f1_macro_numpy:.4f}\")\n"
      ]
    }
  ],
  "metadata": {
    "accelerator": "GPU",
    "colab": {
      "gpuType": "T4",
      "provenance": [],
      "include_colab_link": true
    },
    "kernelspec": {
      "display_name": "Python 3",
      "name": "python3"
    },
    "language_info": {
      "codemirror_mode": {
        "name": "ipython",
        "version": 3
      },
      "file_extension": ".py",
      "mimetype": "text/x-python",
      "name": "python",
      "nbconvert_exporter": "python",
      "pygments_lexer": "ipython3",
      "version": "3.11.5"
    },
    "widgets": {
      "application/vnd.jupyter.widget-state+json": {
        "0bf4cde87cf34846b51da4ff6812d38d": {
          "model_module": "@jupyter-widgets/controls",
          "model_name": "HBoxModel",
          "model_module_version": "1.5.0",
          "state": {
            "_dom_classes": [],
            "_model_module": "@jupyter-widgets/controls",
            "_model_module_version": "1.5.0",
            "_model_name": "HBoxModel",
            "_view_count": null,
            "_view_module": "@jupyter-widgets/controls",
            "_view_module_version": "1.5.0",
            "_view_name": "HBoxView",
            "box_style": "",
            "children": [
              "IPY_MODEL_62ddafc101ec4eb2af56d45103d07c91",
              "IPY_MODEL_a60bb7d7172444ba98875ec8f87b95db",
              "IPY_MODEL_cee622d1f5444045953d5b1c433de03d"
            ],
            "layout": "IPY_MODEL_0f94f7bddbc74b498f84614557acc8ab"
          }
        },
        "62ddafc101ec4eb2af56d45103d07c91": {
          "model_module": "@jupyter-widgets/controls",
          "model_name": "HTMLModel",
          "model_module_version": "1.5.0",
          "state": {
            "_dom_classes": [],
            "_model_module": "@jupyter-widgets/controls",
            "_model_module_version": "1.5.0",
            "_model_name": "HTMLModel",
            "_view_count": null,
            "_view_module": "@jupyter-widgets/controls",
            "_view_module_version": "1.5.0",
            "_view_name": "HTMLView",
            "description": "",
            "description_tooltip": null,
            "layout": "IPY_MODEL_120e00b4343d456f9b58fb41acfe9996",
            "placeholder": "​",
            "style": "IPY_MODEL_50bc2ab4d47540dca3556ed2cace3e85",
            "value": "Downloading builder script: 100%"
          }
        },
        "a60bb7d7172444ba98875ec8f87b95db": {
          "model_module": "@jupyter-widgets/controls",
          "model_name": "FloatProgressModel",
          "model_module_version": "1.5.0",
          "state": {
            "_dom_classes": [],
            "_model_module": "@jupyter-widgets/controls",
            "_model_module_version": "1.5.0",
            "_model_name": "FloatProgressModel",
            "_view_count": null,
            "_view_module": "@jupyter-widgets/controls",
            "_view_module_version": "1.5.0",
            "_view_name": "ProgressView",
            "bar_style": "success",
            "description": "",
            "description_tooltip": null,
            "layout": "IPY_MODEL_5dc122702bcf4e6299deea122927148d",
            "max": 9132,
            "min": 0,
            "orientation": "horizontal",
            "style": "IPY_MODEL_13205627a39e436ead2302e9aa0f464b",
            "value": 9132
          }
        },
        "cee622d1f5444045953d5b1c433de03d": {
          "model_module": "@jupyter-widgets/controls",
          "model_name": "HTMLModel",
          "model_module_version": "1.5.0",
          "state": {
            "_dom_classes": [],
            "_model_module": "@jupyter-widgets/controls",
            "_model_module_version": "1.5.0",
            "_model_name": "HTMLModel",
            "_view_count": null,
            "_view_module": "@jupyter-widgets/controls",
            "_view_module_version": "1.5.0",
            "_view_name": "HTMLView",
            "description": "",
            "description_tooltip": null,
            "layout": "IPY_MODEL_4c52edc124fb468e899d2197d12dcd1d",
            "placeholder": "​",
            "style": "IPY_MODEL_39c4ce11547b451f8e9016a35edda4bf",
            "value": " 9.13k/9.13k [00:00&lt;00:00, 240kB/s]"
          }
        },
        "0f94f7bddbc74b498f84614557acc8ab": {
          "model_module": "@jupyter-widgets/base",
          "model_name": "LayoutModel",
          "model_module_version": "1.2.0",
          "state": {
            "_model_module": "@jupyter-widgets/base",
            "_model_module_version": "1.2.0",
            "_model_name": "LayoutModel",
            "_view_count": null,
            "_view_module": "@jupyter-widgets/base",
            "_view_module_version": "1.2.0",
            "_view_name": "LayoutView",
            "align_content": null,
            "align_items": null,
            "align_self": null,
            "border": null,
            "bottom": null,
            "display": null,
            "flex": null,
            "flex_flow": null,
            "grid_area": null,
            "grid_auto_columns": null,
            "grid_auto_flow": null,
            "grid_auto_rows": null,
            "grid_column": null,
            "grid_gap": null,
            "grid_row": null,
            "grid_template_areas": null,
            "grid_template_columns": null,
            "grid_template_rows": null,
            "height": null,
            "justify_content": null,
            "justify_items": null,
            "left": null,
            "margin": null,
            "max_height": null,
            "max_width": null,
            "min_height": null,
            "min_width": null,
            "object_fit": null,
            "object_position": null,
            "order": null,
            "overflow": null,
            "overflow_x": null,
            "overflow_y": null,
            "padding": null,
            "right": null,
            "top": null,
            "visibility": null,
            "width": null
          }
        },
        "120e00b4343d456f9b58fb41acfe9996": {
          "model_module": "@jupyter-widgets/base",
          "model_name": "LayoutModel",
          "model_module_version": "1.2.0",
          "state": {
            "_model_module": "@jupyter-widgets/base",
            "_model_module_version": "1.2.0",
            "_model_name": "LayoutModel",
            "_view_count": null,
            "_view_module": "@jupyter-widgets/base",
            "_view_module_version": "1.2.0",
            "_view_name": "LayoutView",
            "align_content": null,
            "align_items": null,
            "align_self": null,
            "border": null,
            "bottom": null,
            "display": null,
            "flex": null,
            "flex_flow": null,
            "grid_area": null,
            "grid_auto_columns": null,
            "grid_auto_flow": null,
            "grid_auto_rows": null,
            "grid_column": null,
            "grid_gap": null,
            "grid_row": null,
            "grid_template_areas": null,
            "grid_template_columns": null,
            "grid_template_rows": null,
            "height": null,
            "justify_content": null,
            "justify_items": null,
            "left": null,
            "margin": null,
            "max_height": null,
            "max_width": null,
            "min_height": null,
            "min_width": null,
            "object_fit": null,
            "object_position": null,
            "order": null,
            "overflow": null,
            "overflow_x": null,
            "overflow_y": null,
            "padding": null,
            "right": null,
            "top": null,
            "visibility": null,
            "width": null
          }
        },
        "50bc2ab4d47540dca3556ed2cace3e85": {
          "model_module": "@jupyter-widgets/controls",
          "model_name": "DescriptionStyleModel",
          "model_module_version": "1.5.0",
          "state": {
            "_model_module": "@jupyter-widgets/controls",
            "_model_module_version": "1.5.0",
            "_model_name": "DescriptionStyleModel",
            "_view_count": null,
            "_view_module": "@jupyter-widgets/base",
            "_view_module_version": "1.2.0",
            "_view_name": "StyleView",
            "description_width": ""
          }
        },
        "5dc122702bcf4e6299deea122927148d": {
          "model_module": "@jupyter-widgets/base",
          "model_name": "LayoutModel",
          "model_module_version": "1.2.0",
          "state": {
            "_model_module": "@jupyter-widgets/base",
            "_model_module_version": "1.2.0",
            "_model_name": "LayoutModel",
            "_view_count": null,
            "_view_module": "@jupyter-widgets/base",
            "_view_module_version": "1.2.0",
            "_view_name": "LayoutView",
            "align_content": null,
            "align_items": null,
            "align_self": null,
            "border": null,
            "bottom": null,
            "display": null,
            "flex": null,
            "flex_flow": null,
            "grid_area": null,
            "grid_auto_columns": null,
            "grid_auto_flow": null,
            "grid_auto_rows": null,
            "grid_column": null,
            "grid_gap": null,
            "grid_row": null,
            "grid_template_areas": null,
            "grid_template_columns": null,
            "grid_template_rows": null,
            "height": null,
            "justify_content": null,
            "justify_items": null,
            "left": null,
            "margin": null,
            "max_height": null,
            "max_width": null,
            "min_height": null,
            "min_width": null,
            "object_fit": null,
            "object_position": null,
            "order": null,
            "overflow": null,
            "overflow_x": null,
            "overflow_y": null,
            "padding": null,
            "right": null,
            "top": null,
            "visibility": null,
            "width": null
          }
        },
        "13205627a39e436ead2302e9aa0f464b": {
          "model_module": "@jupyter-widgets/controls",
          "model_name": "ProgressStyleModel",
          "model_module_version": "1.5.0",
          "state": {
            "_model_module": "@jupyter-widgets/controls",
            "_model_module_version": "1.5.0",
            "_model_name": "ProgressStyleModel",
            "_view_count": null,
            "_view_module": "@jupyter-widgets/base",
            "_view_module_version": "1.2.0",
            "_view_name": "StyleView",
            "bar_color": null,
            "description_width": ""
          }
        },
        "4c52edc124fb468e899d2197d12dcd1d": {
          "model_module": "@jupyter-widgets/base",
          "model_name": "LayoutModel",
          "model_module_version": "1.2.0",
          "state": {
            "_model_module": "@jupyter-widgets/base",
            "_model_module_version": "1.2.0",
            "_model_name": "LayoutModel",
            "_view_count": null,
            "_view_module": "@jupyter-widgets/base",
            "_view_module_version": "1.2.0",
            "_view_name": "LayoutView",
            "align_content": null,
            "align_items": null,
            "align_self": null,
            "border": null,
            "bottom": null,
            "display": null,
            "flex": null,
            "flex_flow": null,
            "grid_area": null,
            "grid_auto_columns": null,
            "grid_auto_flow": null,
            "grid_auto_rows": null,
            "grid_column": null,
            "grid_gap": null,
            "grid_row": null,
            "grid_template_areas": null,
            "grid_template_columns": null,
            "grid_template_rows": null,
            "height": null,
            "justify_content": null,
            "justify_items": null,
            "left": null,
            "margin": null,
            "max_height": null,
            "max_width": null,
            "min_height": null,
            "min_width": null,
            "object_fit": null,
            "object_position": null,
            "order": null,
            "overflow": null,
            "overflow_x": null,
            "overflow_y": null,
            "padding": null,
            "right": null,
            "top": null,
            "visibility": null,
            "width": null
          }
        },
        "39c4ce11547b451f8e9016a35edda4bf": {
          "model_module": "@jupyter-widgets/controls",
          "model_name": "DescriptionStyleModel",
          "model_module_version": "1.5.0",
          "state": {
            "_model_module": "@jupyter-widgets/controls",
            "_model_module_version": "1.5.0",
            "_model_name": "DescriptionStyleModel",
            "_view_count": null,
            "_view_module": "@jupyter-widgets/base",
            "_view_module_version": "1.2.0",
            "_view_name": "StyleView",
            "description_width": ""
          }
        },
        "96c50310d0ce487f9cf3887063dac3a1": {
          "model_module": "@jupyter-widgets/controls",
          "model_name": "HBoxModel",
          "model_module_version": "1.5.0",
          "state": {
            "_dom_classes": [],
            "_model_module": "@jupyter-widgets/controls",
            "_model_module_version": "1.5.0",
            "_model_name": "HBoxModel",
            "_view_count": null,
            "_view_module": "@jupyter-widgets/controls",
            "_view_module_version": "1.5.0",
            "_view_name": "HBoxView",
            "box_style": "",
            "children": [
              "IPY_MODEL_0f04a0e59ee949f1943ebc916184d1e7",
              "IPY_MODEL_c58ce4f911364692b8e8253b6d533b0c",
              "IPY_MODEL_3b6d9d005050459b83c3612021b8c54a"
            ],
            "layout": "IPY_MODEL_86b49add538d4fe091389f7fd680abf3"
          }
        },
        "0f04a0e59ee949f1943ebc916184d1e7": {
          "model_module": "@jupyter-widgets/controls",
          "model_name": "HTMLModel",
          "model_module_version": "1.5.0",
          "state": {
            "_dom_classes": [],
            "_model_module": "@jupyter-widgets/controls",
            "_model_module_version": "1.5.0",
            "_model_name": "HTMLModel",
            "_view_count": null,
            "_view_module": "@jupyter-widgets/controls",
            "_view_module_version": "1.5.0",
            "_view_name": "HTMLView",
            "description": "",
            "description_tooltip": null,
            "layout": "IPY_MODEL_324d3fc5db274cff893c99e29996ea39",
            "placeholder": "​",
            "style": "IPY_MODEL_f54358d9aa5c48da84f9889f8cd8319b",
            "value": "Downloading readme: 100%"
          }
        },
        "c58ce4f911364692b8e8253b6d533b0c": {
          "model_module": "@jupyter-widgets/controls",
          "model_name": "FloatProgressModel",
          "model_module_version": "1.5.0",
          "state": {
            "_dom_classes": [],
            "_model_module": "@jupyter-widgets/controls",
            "_model_module_version": "1.5.0",
            "_model_name": "FloatProgressModel",
            "_view_count": null,
            "_view_module": "@jupyter-widgets/controls",
            "_view_module_version": "1.5.0",
            "_view_name": "ProgressView",
            "bar_style": "success",
            "description": "",
            "description_tooltip": null,
            "layout": "IPY_MODEL_6dc0397f6a0241c392660df9ecf42888",
            "max": 6679,
            "min": 0,
            "orientation": "horizontal",
            "style": "IPY_MODEL_9cf67c74c32146c0ba734804aa4ed68d",
            "value": 6679
          }
        },
        "3b6d9d005050459b83c3612021b8c54a": {
          "model_module": "@jupyter-widgets/controls",
          "model_name": "HTMLModel",
          "model_module_version": "1.5.0",
          "state": {
            "_dom_classes": [],
            "_model_module": "@jupyter-widgets/controls",
            "_model_module_version": "1.5.0",
            "_model_name": "HTMLModel",
            "_view_count": null,
            "_view_module": "@jupyter-widgets/controls",
            "_view_module_version": "1.5.0",
            "_view_name": "HTMLView",
            "description": "",
            "description_tooltip": null,
            "layout": "IPY_MODEL_a1f871be37484caa9f8fa71bfd268072",
            "placeholder": "​",
            "style": "IPY_MODEL_07c6e9085d9447c587fd3093affcfa6e",
            "value": " 6.68k/6.68k [00:00&lt;00:00, 262kB/s]"
          }
        },
        "86b49add538d4fe091389f7fd680abf3": {
          "model_module": "@jupyter-widgets/base",
          "model_name": "LayoutModel",
          "model_module_version": "1.2.0",
          "state": {
            "_model_module": "@jupyter-widgets/base",
            "_model_module_version": "1.2.0",
            "_model_name": "LayoutModel",
            "_view_count": null,
            "_view_module": "@jupyter-widgets/base",
            "_view_module_version": "1.2.0",
            "_view_name": "LayoutView",
            "align_content": null,
            "align_items": null,
            "align_self": null,
            "border": null,
            "bottom": null,
            "display": null,
            "flex": null,
            "flex_flow": null,
            "grid_area": null,
            "grid_auto_columns": null,
            "grid_auto_flow": null,
            "grid_auto_rows": null,
            "grid_column": null,
            "grid_gap": null,
            "grid_row": null,
            "grid_template_areas": null,
            "grid_template_columns": null,
            "grid_template_rows": null,
            "height": null,
            "justify_content": null,
            "justify_items": null,
            "left": null,
            "margin": null,
            "max_height": null,
            "max_width": null,
            "min_height": null,
            "min_width": null,
            "object_fit": null,
            "object_position": null,
            "order": null,
            "overflow": null,
            "overflow_x": null,
            "overflow_y": null,
            "padding": null,
            "right": null,
            "top": null,
            "visibility": null,
            "width": null
          }
        },
        "324d3fc5db274cff893c99e29996ea39": {
          "model_module": "@jupyter-widgets/base",
          "model_name": "LayoutModel",
          "model_module_version": "1.2.0",
          "state": {
            "_model_module": "@jupyter-widgets/base",
            "_model_module_version": "1.2.0",
            "_model_name": "LayoutModel",
            "_view_count": null,
            "_view_module": "@jupyter-widgets/base",
            "_view_module_version": "1.2.0",
            "_view_name": "LayoutView",
            "align_content": null,
            "align_items": null,
            "align_self": null,
            "border": null,
            "bottom": null,
            "display": null,
            "flex": null,
            "flex_flow": null,
            "grid_area": null,
            "grid_auto_columns": null,
            "grid_auto_flow": null,
            "grid_auto_rows": null,
            "grid_column": null,
            "grid_gap": null,
            "grid_row": null,
            "grid_template_areas": null,
            "grid_template_columns": null,
            "grid_template_rows": null,
            "height": null,
            "justify_content": null,
            "justify_items": null,
            "left": null,
            "margin": null,
            "max_height": null,
            "max_width": null,
            "min_height": null,
            "min_width": null,
            "object_fit": null,
            "object_position": null,
            "order": null,
            "overflow": null,
            "overflow_x": null,
            "overflow_y": null,
            "padding": null,
            "right": null,
            "top": null,
            "visibility": null,
            "width": null
          }
        },
        "f54358d9aa5c48da84f9889f8cd8319b": {
          "model_module": "@jupyter-widgets/controls",
          "model_name": "DescriptionStyleModel",
          "model_module_version": "1.5.0",
          "state": {
            "_model_module": "@jupyter-widgets/controls",
            "_model_module_version": "1.5.0",
            "_model_name": "DescriptionStyleModel",
            "_view_count": null,
            "_view_module": "@jupyter-widgets/base",
            "_view_module_version": "1.2.0",
            "_view_name": "StyleView",
            "description_width": ""
          }
        },
        "6dc0397f6a0241c392660df9ecf42888": {
          "model_module": "@jupyter-widgets/base",
          "model_name": "LayoutModel",
          "model_module_version": "1.2.0",
          "state": {
            "_model_module": "@jupyter-widgets/base",
            "_model_module_version": "1.2.0",
            "_model_name": "LayoutModel",
            "_view_count": null,
            "_view_module": "@jupyter-widgets/base",
            "_view_module_version": "1.2.0",
            "_view_name": "LayoutView",
            "align_content": null,
            "align_items": null,
            "align_self": null,
            "border": null,
            "bottom": null,
            "display": null,
            "flex": null,
            "flex_flow": null,
            "grid_area": null,
            "grid_auto_columns": null,
            "grid_auto_flow": null,
            "grid_auto_rows": null,
            "grid_column": null,
            "grid_gap": null,
            "grid_row": null,
            "grid_template_areas": null,
            "grid_template_columns": null,
            "grid_template_rows": null,
            "height": null,
            "justify_content": null,
            "justify_items": null,
            "left": null,
            "margin": null,
            "max_height": null,
            "max_width": null,
            "min_height": null,
            "min_width": null,
            "object_fit": null,
            "object_position": null,
            "order": null,
            "overflow": null,
            "overflow_x": null,
            "overflow_y": null,
            "padding": null,
            "right": null,
            "top": null,
            "visibility": null,
            "width": null
          }
        },
        "9cf67c74c32146c0ba734804aa4ed68d": {
          "model_module": "@jupyter-widgets/controls",
          "model_name": "ProgressStyleModel",
          "model_module_version": "1.5.0",
          "state": {
            "_model_module": "@jupyter-widgets/controls",
            "_model_module_version": "1.5.0",
            "_model_name": "ProgressStyleModel",
            "_view_count": null,
            "_view_module": "@jupyter-widgets/base",
            "_view_module_version": "1.2.0",
            "_view_name": "StyleView",
            "bar_color": null,
            "description_width": ""
          }
        },
        "a1f871be37484caa9f8fa71bfd268072": {
          "model_module": "@jupyter-widgets/base",
          "model_name": "LayoutModel",
          "model_module_version": "1.2.0",
          "state": {
            "_model_module": "@jupyter-widgets/base",
            "_model_module_version": "1.2.0",
            "_model_name": "LayoutModel",
            "_view_count": null,
            "_view_module": "@jupyter-widgets/base",
            "_view_module_version": "1.2.0",
            "_view_name": "LayoutView",
            "align_content": null,
            "align_items": null,
            "align_self": null,
            "border": null,
            "bottom": null,
            "display": null,
            "flex": null,
            "flex_flow": null,
            "grid_area": null,
            "grid_auto_columns": null,
            "grid_auto_flow": null,
            "grid_auto_rows": null,
            "grid_column": null,
            "grid_gap": null,
            "grid_row": null,
            "grid_template_areas": null,
            "grid_template_columns": null,
            "grid_template_rows": null,
            "height": null,
            "justify_content": null,
            "justify_items": null,
            "left": null,
            "margin": null,
            "max_height": null,
            "max_width": null,
            "min_height": null,
            "min_width": null,
            "object_fit": null,
            "object_position": null,
            "order": null,
            "overflow": null,
            "overflow_x": null,
            "overflow_y": null,
            "padding": null,
            "right": null,
            "top": null,
            "visibility": null,
            "width": null
          }
        },
        "07c6e9085d9447c587fd3093affcfa6e": {
          "model_module": "@jupyter-widgets/controls",
          "model_name": "DescriptionStyleModel",
          "model_module_version": "1.5.0",
          "state": {
            "_model_module": "@jupyter-widgets/controls",
            "_model_module_version": "1.5.0",
            "_model_name": "DescriptionStyleModel",
            "_view_count": null,
            "_view_module": "@jupyter-widgets/base",
            "_view_module_version": "1.2.0",
            "_view_name": "StyleView",
            "description_width": ""
          }
        },
        "cf63bef8e2064980b84b697a4087d584": {
          "model_module": "@jupyter-widgets/controls",
          "model_name": "HBoxModel",
          "model_module_version": "1.5.0",
          "state": {
            "_dom_classes": [],
            "_model_module": "@jupyter-widgets/controls",
            "_model_module_version": "1.5.0",
            "_model_name": "HBoxModel",
            "_view_count": null,
            "_view_module": "@jupyter-widgets/controls",
            "_view_module_version": "1.5.0",
            "_view_name": "HBoxView",
            "box_style": "",
            "children": [
              "IPY_MODEL_0d610d4f9af34052899434bf018694ef",
              "IPY_MODEL_b51a910c51a9498fa8a48b3a60bc04c1",
              "IPY_MODEL_7266cff41d21474d901922daa15144e4"
            ],
            "layout": "IPY_MODEL_9d41c98a970a46c9957dbf4417ff2ca5"
          }
        },
        "0d610d4f9af34052899434bf018694ef": {
          "model_module": "@jupyter-widgets/controls",
          "model_name": "HTMLModel",
          "model_module_version": "1.5.0",
          "state": {
            "_dom_classes": [],
            "_model_module": "@jupyter-widgets/controls",
            "_model_module_version": "1.5.0",
            "_model_name": "HTMLModel",
            "_view_count": null,
            "_view_module": "@jupyter-widgets/controls",
            "_view_module_version": "1.5.0",
            "_view_name": "HTMLView",
            "description": "",
            "description_tooltip": null,
            "layout": "IPY_MODEL_f7bd8131b47a41259445f600a3a94452",
            "placeholder": "​",
            "style": "IPY_MODEL_c3aa4ee6dc724235b21cf9b67f306e6d",
            "value": "Downloading data: 100%"
          }
        },
        "b51a910c51a9498fa8a48b3a60bc04c1": {
          "model_module": "@jupyter-widgets/controls",
          "model_name": "FloatProgressModel",
          "model_module_version": "1.5.0",
          "state": {
            "_dom_classes": [],
            "_model_module": "@jupyter-widgets/controls",
            "_model_module_version": "1.5.0",
            "_model_name": "FloatProgressModel",
            "_view_count": null,
            "_view_module": "@jupyter-widgets/controls",
            "_view_module_version": "1.5.0",
            "_view_name": "ProgressView",
            "bar_style": "success",
            "description": "",
            "description_tooltip": null,
            "layout": "IPY_MODEL_4ce917abd6a040939273a5eef02ee9bb",
            "max": 6372817,
            "min": 0,
            "orientation": "horizontal",
            "style": "IPY_MODEL_dbdc218989cf43f3b26d38ff78c76e5c",
            "value": 6372817
          }
        },
        "7266cff41d21474d901922daa15144e4": {
          "model_module": "@jupyter-widgets/controls",
          "model_name": "HTMLModel",
          "model_module_version": "1.5.0",
          "state": {
            "_dom_classes": [],
            "_model_module": "@jupyter-widgets/controls",
            "_model_module_version": "1.5.0",
            "_model_name": "HTMLModel",
            "_view_count": null,
            "_view_module": "@jupyter-widgets/controls",
            "_view_module_version": "1.5.0",
            "_view_name": "HTMLView",
            "description": "",
            "description_tooltip": null,
            "layout": "IPY_MODEL_badf128a6b2c4958bc72ba26f488d286",
            "placeholder": "​",
            "style": "IPY_MODEL_db8ea794e9c94be0b6cd2479f012b792",
            "value": " 6.37M/6.37M [00:02&lt;00:00, 4.67MB/s]"
          }
        },
        "9d41c98a970a46c9957dbf4417ff2ca5": {
          "model_module": "@jupyter-widgets/base",
          "model_name": "LayoutModel",
          "model_module_version": "1.2.0",
          "state": {
            "_model_module": "@jupyter-widgets/base",
            "_model_module_version": "1.2.0",
            "_model_name": "LayoutModel",
            "_view_count": null,
            "_view_module": "@jupyter-widgets/base",
            "_view_module_version": "1.2.0",
            "_view_name": "LayoutView",
            "align_content": null,
            "align_items": null,
            "align_self": null,
            "border": null,
            "bottom": null,
            "display": null,
            "flex": null,
            "flex_flow": null,
            "grid_area": null,
            "grid_auto_columns": null,
            "grid_auto_flow": null,
            "grid_auto_rows": null,
            "grid_column": null,
            "grid_gap": null,
            "grid_row": null,
            "grid_template_areas": null,
            "grid_template_columns": null,
            "grid_template_rows": null,
            "height": null,
            "justify_content": null,
            "justify_items": null,
            "left": null,
            "margin": null,
            "max_height": null,
            "max_width": null,
            "min_height": null,
            "min_width": null,
            "object_fit": null,
            "object_position": null,
            "order": null,
            "overflow": null,
            "overflow_x": null,
            "overflow_y": null,
            "padding": null,
            "right": null,
            "top": null,
            "visibility": null,
            "width": null
          }
        },
        "f7bd8131b47a41259445f600a3a94452": {
          "model_module": "@jupyter-widgets/base",
          "model_name": "LayoutModel",
          "model_module_version": "1.2.0",
          "state": {
            "_model_module": "@jupyter-widgets/base",
            "_model_module_version": "1.2.0",
            "_model_name": "LayoutModel",
            "_view_count": null,
            "_view_module": "@jupyter-widgets/base",
            "_view_module_version": "1.2.0",
            "_view_name": "LayoutView",
            "align_content": null,
            "align_items": null,
            "align_self": null,
            "border": null,
            "bottom": null,
            "display": null,
            "flex": null,
            "flex_flow": null,
            "grid_area": null,
            "grid_auto_columns": null,
            "grid_auto_flow": null,
            "grid_auto_rows": null,
            "grid_column": null,
            "grid_gap": null,
            "grid_row": null,
            "grid_template_areas": null,
            "grid_template_columns": null,
            "grid_template_rows": null,
            "height": null,
            "justify_content": null,
            "justify_items": null,
            "left": null,
            "margin": null,
            "max_height": null,
            "max_width": null,
            "min_height": null,
            "min_width": null,
            "object_fit": null,
            "object_position": null,
            "order": null,
            "overflow": null,
            "overflow_x": null,
            "overflow_y": null,
            "padding": null,
            "right": null,
            "top": null,
            "visibility": null,
            "width": null
          }
        },
        "c3aa4ee6dc724235b21cf9b67f306e6d": {
          "model_module": "@jupyter-widgets/controls",
          "model_name": "DescriptionStyleModel",
          "model_module_version": "1.5.0",
          "state": {
            "_model_module": "@jupyter-widgets/controls",
            "_model_module_version": "1.5.0",
            "_model_name": "DescriptionStyleModel",
            "_view_count": null,
            "_view_module": "@jupyter-widgets/base",
            "_view_module_version": "1.2.0",
            "_view_name": "StyleView",
            "description_width": ""
          }
        },
        "4ce917abd6a040939273a5eef02ee9bb": {
          "model_module": "@jupyter-widgets/base",
          "model_name": "LayoutModel",
          "model_module_version": "1.2.0",
          "state": {
            "_model_module": "@jupyter-widgets/base",
            "_model_module_version": "1.2.0",
            "_model_name": "LayoutModel",
            "_view_count": null,
            "_view_module": "@jupyter-widgets/base",
            "_view_module_version": "1.2.0",
            "_view_name": "LayoutView",
            "align_content": null,
            "align_items": null,
            "align_self": null,
            "border": null,
            "bottom": null,
            "display": null,
            "flex": null,
            "flex_flow": null,
            "grid_area": null,
            "grid_auto_columns": null,
            "grid_auto_flow": null,
            "grid_auto_rows": null,
            "grid_column": null,
            "grid_gap": null,
            "grid_row": null,
            "grid_template_areas": null,
            "grid_template_columns": null,
            "grid_template_rows": null,
            "height": null,
            "justify_content": null,
            "justify_items": null,
            "left": null,
            "margin": null,
            "max_height": null,
            "max_width": null,
            "min_height": null,
            "min_width": null,
            "object_fit": null,
            "object_position": null,
            "order": null,
            "overflow": null,
            "overflow_x": null,
            "overflow_y": null,
            "padding": null,
            "right": null,
            "top": null,
            "visibility": null,
            "width": null
          }
        },
        "dbdc218989cf43f3b26d38ff78c76e5c": {
          "model_module": "@jupyter-widgets/controls",
          "model_name": "ProgressStyleModel",
          "model_module_version": "1.5.0",
          "state": {
            "_model_module": "@jupyter-widgets/controls",
            "_model_module_version": "1.5.0",
            "_model_name": "ProgressStyleModel",
            "_view_count": null,
            "_view_module": "@jupyter-widgets/base",
            "_view_module_version": "1.2.0",
            "_view_name": "StyleView",
            "bar_color": null,
            "description_width": ""
          }
        },
        "badf128a6b2c4958bc72ba26f488d286": {
          "model_module": "@jupyter-widgets/base",
          "model_name": "LayoutModel",
          "model_module_version": "1.2.0",
          "state": {
            "_model_module": "@jupyter-widgets/base",
            "_model_module_version": "1.2.0",
            "_model_name": "LayoutModel",
            "_view_count": null,
            "_view_module": "@jupyter-widgets/base",
            "_view_module_version": "1.2.0",
            "_view_name": "LayoutView",
            "align_content": null,
            "align_items": null,
            "align_self": null,
            "border": null,
            "bottom": null,
            "display": null,
            "flex": null,
            "flex_flow": null,
            "grid_area": null,
            "grid_auto_columns": null,
            "grid_auto_flow": null,
            "grid_auto_rows": null,
            "grid_column": null,
            "grid_gap": null,
            "grid_row": null,
            "grid_template_areas": null,
            "grid_template_columns": null,
            "grid_template_rows": null,
            "height": null,
            "justify_content": null,
            "justify_items": null,
            "left": null,
            "margin": null,
            "max_height": null,
            "max_width": null,
            "min_height": null,
            "min_width": null,
            "object_fit": null,
            "object_position": null,
            "order": null,
            "overflow": null,
            "overflow_x": null,
            "overflow_y": null,
            "padding": null,
            "right": null,
            "top": null,
            "visibility": null,
            "width": null
          }
        },
        "db8ea794e9c94be0b6cd2479f012b792": {
          "model_module": "@jupyter-widgets/controls",
          "model_name": "DescriptionStyleModel",
          "model_module_version": "1.5.0",
          "state": {
            "_model_module": "@jupyter-widgets/controls",
            "_model_module_version": "1.5.0",
            "_model_name": "DescriptionStyleModel",
            "_view_count": null,
            "_view_module": "@jupyter-widgets/base",
            "_view_module_version": "1.2.0",
            "_view_name": "StyleView",
            "description_width": ""
          }
        },
        "5a7372239d1b41a4bb5e2f1577e914a9": {
          "model_module": "@jupyter-widgets/controls",
          "model_name": "HBoxModel",
          "model_module_version": "1.5.0",
          "state": {
            "_dom_classes": [],
            "_model_module": "@jupyter-widgets/controls",
            "_model_module_version": "1.5.0",
            "_model_name": "HBoxModel",
            "_view_count": null,
            "_view_module": "@jupyter-widgets/controls",
            "_view_module_version": "1.5.0",
            "_view_name": "HBoxView",
            "box_style": "",
            "children": [
              "IPY_MODEL_1fb29393549346cd95b7089824ccf277",
              "IPY_MODEL_ac61df4a022b4c809bbead1390e7fe40",
              "IPY_MODEL_a1103e0577b1486d99c99b49ef352e61"
            ],
            "layout": "IPY_MODEL_c0778cab482c4c7e87e71611273dcf38"
          }
        },
        "1fb29393549346cd95b7089824ccf277": {
          "model_module": "@jupyter-widgets/controls",
          "model_name": "HTMLModel",
          "model_module_version": "1.5.0",
          "state": {
            "_dom_classes": [],
            "_model_module": "@jupyter-widgets/controls",
            "_model_module_version": "1.5.0",
            "_model_name": "HTMLModel",
            "_view_count": null,
            "_view_module": "@jupyter-widgets/controls",
            "_view_module_version": "1.5.0",
            "_view_name": "HTMLView",
            "description": "",
            "description_tooltip": null,
            "layout": "IPY_MODEL_16192f3e581e4a02b7050c5e02236906",
            "placeholder": "​",
            "style": "IPY_MODEL_7e220f15c4df456fb750bc1bd98d1a2a",
            "value": "Downloading data: 100%"
          }
        },
        "ac61df4a022b4c809bbead1390e7fe40": {
          "model_module": "@jupyter-widgets/controls",
          "model_name": "FloatProgressModel",
          "model_module_version": "1.5.0",
          "state": {
            "_dom_classes": [],
            "_model_module": "@jupyter-widgets/controls",
            "_model_module_version": "1.5.0",
            "_model_name": "FloatProgressModel",
            "_view_count": null,
            "_view_module": "@jupyter-widgets/controls",
            "_view_module_version": "1.5.0",
            "_view_name": "ProgressView",
            "bar_style": "success",
            "description": "",
            "description_tooltip": null,
            "layout": "IPY_MODEL_8065e98a847a44f0b82daedc31ee5ae8",
            "max": 789539,
            "min": 0,
            "orientation": "horizontal",
            "style": "IPY_MODEL_1a6e2dd02bf144dc96d154b2cd05ce3e",
            "value": 789539
          }
        },
        "a1103e0577b1486d99c99b49ef352e61": {
          "model_module": "@jupyter-widgets/controls",
          "model_name": "HTMLModel",
          "model_module_version": "1.5.0",
          "state": {
            "_dom_classes": [],
            "_model_module": "@jupyter-widgets/controls",
            "_model_module_version": "1.5.0",
            "_model_name": "HTMLModel",
            "_view_count": null,
            "_view_module": "@jupyter-widgets/controls",
            "_view_module_version": "1.5.0",
            "_view_name": "HTMLView",
            "description": "",
            "description_tooltip": null,
            "layout": "IPY_MODEL_45a2aac069f447f38ae28b3b3ebe3645",
            "placeholder": "​",
            "style": "IPY_MODEL_2e8677027dcb468990b6059b60a8706d",
            "value": " 790k/790k [00:01&lt;00:00, 1.00MB/s]"
          }
        },
        "c0778cab482c4c7e87e71611273dcf38": {
          "model_module": "@jupyter-widgets/base",
          "model_name": "LayoutModel",
          "model_module_version": "1.2.0",
          "state": {
            "_model_module": "@jupyter-widgets/base",
            "_model_module_version": "1.2.0",
            "_model_name": "LayoutModel",
            "_view_count": null,
            "_view_module": "@jupyter-widgets/base",
            "_view_module_version": "1.2.0",
            "_view_name": "LayoutView",
            "align_content": null,
            "align_items": null,
            "align_self": null,
            "border": null,
            "bottom": null,
            "display": null,
            "flex": null,
            "flex_flow": null,
            "grid_area": null,
            "grid_auto_columns": null,
            "grid_auto_flow": null,
            "grid_auto_rows": null,
            "grid_column": null,
            "grid_gap": null,
            "grid_row": null,
            "grid_template_areas": null,
            "grid_template_columns": null,
            "grid_template_rows": null,
            "height": null,
            "justify_content": null,
            "justify_items": null,
            "left": null,
            "margin": null,
            "max_height": null,
            "max_width": null,
            "min_height": null,
            "min_width": null,
            "object_fit": null,
            "object_position": null,
            "order": null,
            "overflow": null,
            "overflow_x": null,
            "overflow_y": null,
            "padding": null,
            "right": null,
            "top": null,
            "visibility": null,
            "width": null
          }
        },
        "16192f3e581e4a02b7050c5e02236906": {
          "model_module": "@jupyter-widgets/base",
          "model_name": "LayoutModel",
          "model_module_version": "1.2.0",
          "state": {
            "_model_module": "@jupyter-widgets/base",
            "_model_module_version": "1.2.0",
            "_model_name": "LayoutModel",
            "_view_count": null,
            "_view_module": "@jupyter-widgets/base",
            "_view_module_version": "1.2.0",
            "_view_name": "LayoutView",
            "align_content": null,
            "align_items": null,
            "align_self": null,
            "border": null,
            "bottom": null,
            "display": null,
            "flex": null,
            "flex_flow": null,
            "grid_area": null,
            "grid_auto_columns": null,
            "grid_auto_flow": null,
            "grid_auto_rows": null,
            "grid_column": null,
            "grid_gap": null,
            "grid_row": null,
            "grid_template_areas": null,
            "grid_template_columns": null,
            "grid_template_rows": null,
            "height": null,
            "justify_content": null,
            "justify_items": null,
            "left": null,
            "margin": null,
            "max_height": null,
            "max_width": null,
            "min_height": null,
            "min_width": null,
            "object_fit": null,
            "object_position": null,
            "order": null,
            "overflow": null,
            "overflow_x": null,
            "overflow_y": null,
            "padding": null,
            "right": null,
            "top": null,
            "visibility": null,
            "width": null
          }
        },
        "7e220f15c4df456fb750bc1bd98d1a2a": {
          "model_module": "@jupyter-widgets/controls",
          "model_name": "DescriptionStyleModel",
          "model_module_version": "1.5.0",
          "state": {
            "_model_module": "@jupyter-widgets/controls",
            "_model_module_version": "1.5.0",
            "_model_name": "DescriptionStyleModel",
            "_view_count": null,
            "_view_module": "@jupyter-widgets/base",
            "_view_module_version": "1.2.0",
            "_view_name": "StyleView",
            "description_width": ""
          }
        },
        "8065e98a847a44f0b82daedc31ee5ae8": {
          "model_module": "@jupyter-widgets/base",
          "model_name": "LayoutModel",
          "model_module_version": "1.2.0",
          "state": {
            "_model_module": "@jupyter-widgets/base",
            "_model_module_version": "1.2.0",
            "_model_name": "LayoutModel",
            "_view_count": null,
            "_view_module": "@jupyter-widgets/base",
            "_view_module_version": "1.2.0",
            "_view_name": "LayoutView",
            "align_content": null,
            "align_items": null,
            "align_self": null,
            "border": null,
            "bottom": null,
            "display": null,
            "flex": null,
            "flex_flow": null,
            "grid_area": null,
            "grid_auto_columns": null,
            "grid_auto_flow": null,
            "grid_auto_rows": null,
            "grid_column": null,
            "grid_gap": null,
            "grid_row": null,
            "grid_template_areas": null,
            "grid_template_columns": null,
            "grid_template_rows": null,
            "height": null,
            "justify_content": null,
            "justify_items": null,
            "left": null,
            "margin": null,
            "max_height": null,
            "max_width": null,
            "min_height": null,
            "min_width": null,
            "object_fit": null,
            "object_position": null,
            "order": null,
            "overflow": null,
            "overflow_x": null,
            "overflow_y": null,
            "padding": null,
            "right": null,
            "top": null,
            "visibility": null,
            "width": null
          }
        },
        "1a6e2dd02bf144dc96d154b2cd05ce3e": {
          "model_module": "@jupyter-widgets/controls",
          "model_name": "ProgressStyleModel",
          "model_module_version": "1.5.0",
          "state": {
            "_model_module": "@jupyter-widgets/controls",
            "_model_module_version": "1.5.0",
            "_model_name": "ProgressStyleModel",
            "_view_count": null,
            "_view_module": "@jupyter-widgets/base",
            "_view_module_version": "1.2.0",
            "_view_name": "StyleView",
            "bar_color": null,
            "description_width": ""
          }
        },
        "45a2aac069f447f38ae28b3b3ebe3645": {
          "model_module": "@jupyter-widgets/base",
          "model_name": "LayoutModel",
          "model_module_version": "1.2.0",
          "state": {
            "_model_module": "@jupyter-widgets/base",
            "_model_module_version": "1.2.0",
            "_model_name": "LayoutModel",
            "_view_count": null,
            "_view_module": "@jupyter-widgets/base",
            "_view_module_version": "1.2.0",
            "_view_name": "LayoutView",
            "align_content": null,
            "align_items": null,
            "align_self": null,
            "border": null,
            "bottom": null,
            "display": null,
            "flex": null,
            "flex_flow": null,
            "grid_area": null,
            "grid_auto_columns": null,
            "grid_auto_flow": null,
            "grid_auto_rows": null,
            "grid_column": null,
            "grid_gap": null,
            "grid_row": null,
            "grid_template_areas": null,
            "grid_template_columns": null,
            "grid_template_rows": null,
            "height": null,
            "justify_content": null,
            "justify_items": null,
            "left": null,
            "margin": null,
            "max_height": null,
            "max_width": null,
            "min_height": null,
            "min_width": null,
            "object_fit": null,
            "object_position": null,
            "order": null,
            "overflow": null,
            "overflow_x": null,
            "overflow_y": null,
            "padding": null,
            "right": null,
            "top": null,
            "visibility": null,
            "width": null
          }
        },
        "2e8677027dcb468990b6059b60a8706d": {
          "model_module": "@jupyter-widgets/controls",
          "model_name": "DescriptionStyleModel",
          "model_module_version": "1.5.0",
          "state": {
            "_model_module": "@jupyter-widgets/controls",
            "_model_module_version": "1.5.0",
            "_model_name": "DescriptionStyleModel",
            "_view_count": null,
            "_view_module": "@jupyter-widgets/base",
            "_view_module_version": "1.2.0",
            "_view_name": "StyleView",
            "description_width": ""
          }
        },
        "47b82b98a734479a8afa65b321f7f7b0": {
          "model_module": "@jupyter-widgets/controls",
          "model_name": "HBoxModel",
          "model_module_version": "1.5.0",
          "state": {
            "_dom_classes": [],
            "_model_module": "@jupyter-widgets/controls",
            "_model_module_version": "1.5.0",
            "_model_name": "HBoxModel",
            "_view_count": null,
            "_view_module": "@jupyter-widgets/controls",
            "_view_module_version": "1.5.0",
            "_view_name": "HBoxView",
            "box_style": "",
            "children": [
              "IPY_MODEL_e9ce18da8965427a8437e2f0d05b5a1f",
              "IPY_MODEL_8599e9c1c98142e2bf06d131c7d39078",
              "IPY_MODEL_5a345eac92de49cfa0adaf59842f024c"
            ],
            "layout": "IPY_MODEL_061a4b1fceff409f8b9ab7ace3162c5b"
          }
        },
        "e9ce18da8965427a8437e2f0d05b5a1f": {
          "model_module": "@jupyter-widgets/controls",
          "model_name": "HTMLModel",
          "model_module_version": "1.5.0",
          "state": {
            "_dom_classes": [],
            "_model_module": "@jupyter-widgets/controls",
            "_model_module_version": "1.5.0",
            "_model_name": "HTMLModel",
            "_view_count": null,
            "_view_module": "@jupyter-widgets/controls",
            "_view_module_version": "1.5.0",
            "_view_name": "HTMLView",
            "description": "",
            "description_tooltip": null,
            "layout": "IPY_MODEL_8bb2b003536d4dbf82e5fb309d50aa58",
            "placeholder": "​",
            "style": "IPY_MODEL_6ed6e611f1e64235a542ebf9530908ff",
            "value": "Generating train split: 100%"
          }
        },
        "8599e9c1c98142e2bf06d131c7d39078": {
          "model_module": "@jupyter-widgets/controls",
          "model_name": "FloatProgressModel",
          "model_module_version": "1.5.0",
          "state": {
            "_dom_classes": [],
            "_model_module": "@jupyter-widgets/controls",
            "_model_module_version": "1.5.0",
            "_model_name": "FloatProgressModel",
            "_view_count": null,
            "_view_module": "@jupyter-widgets/controls",
            "_view_module_version": "1.5.0",
            "_view_name": "ProgressView",
            "bar_style": "success",
            "description": "",
            "description_tooltip": null,
            "layout": "IPY_MODEL_d384d0d2ad2143199409d08e42054a2d",
            "max": 8544,
            "min": 0,
            "orientation": "horizontal",
            "style": "IPY_MODEL_b18e502ab6ab4eadadcece0b89403988",
            "value": 8544
          }
        },
        "5a345eac92de49cfa0adaf59842f024c": {
          "model_module": "@jupyter-widgets/controls",
          "model_name": "HTMLModel",
          "model_module_version": "1.5.0",
          "state": {
            "_dom_classes": [],
            "_model_module": "@jupyter-widgets/controls",
            "_model_module_version": "1.5.0",
            "_model_name": "HTMLModel",
            "_view_count": null,
            "_view_module": "@jupyter-widgets/controls",
            "_view_module_version": "1.5.0",
            "_view_name": "HTMLView",
            "description": "",
            "description_tooltip": null,
            "layout": "IPY_MODEL_4be9895312804ff5ac7aaf99676907fe",
            "placeholder": "​",
            "style": "IPY_MODEL_61330c6883654bf8a3e5c8e0cd63874f",
            "value": " 8544/8544 [00:01&lt;00:00, 9610.94 examples/s]"
          }
        },
        "061a4b1fceff409f8b9ab7ace3162c5b": {
          "model_module": "@jupyter-widgets/base",
          "model_name": "LayoutModel",
          "model_module_version": "1.2.0",
          "state": {
            "_model_module": "@jupyter-widgets/base",
            "_model_module_version": "1.2.0",
            "_model_name": "LayoutModel",
            "_view_count": null,
            "_view_module": "@jupyter-widgets/base",
            "_view_module_version": "1.2.0",
            "_view_name": "LayoutView",
            "align_content": null,
            "align_items": null,
            "align_self": null,
            "border": null,
            "bottom": null,
            "display": null,
            "flex": null,
            "flex_flow": null,
            "grid_area": null,
            "grid_auto_columns": null,
            "grid_auto_flow": null,
            "grid_auto_rows": null,
            "grid_column": null,
            "grid_gap": null,
            "grid_row": null,
            "grid_template_areas": null,
            "grid_template_columns": null,
            "grid_template_rows": null,
            "height": null,
            "justify_content": null,
            "justify_items": null,
            "left": null,
            "margin": null,
            "max_height": null,
            "max_width": null,
            "min_height": null,
            "min_width": null,
            "object_fit": null,
            "object_position": null,
            "order": null,
            "overflow": null,
            "overflow_x": null,
            "overflow_y": null,
            "padding": null,
            "right": null,
            "top": null,
            "visibility": null,
            "width": null
          }
        },
        "8bb2b003536d4dbf82e5fb309d50aa58": {
          "model_module": "@jupyter-widgets/base",
          "model_name": "LayoutModel",
          "model_module_version": "1.2.0",
          "state": {
            "_model_module": "@jupyter-widgets/base",
            "_model_module_version": "1.2.0",
            "_model_name": "LayoutModel",
            "_view_count": null,
            "_view_module": "@jupyter-widgets/base",
            "_view_module_version": "1.2.0",
            "_view_name": "LayoutView",
            "align_content": null,
            "align_items": null,
            "align_self": null,
            "border": null,
            "bottom": null,
            "display": null,
            "flex": null,
            "flex_flow": null,
            "grid_area": null,
            "grid_auto_columns": null,
            "grid_auto_flow": null,
            "grid_auto_rows": null,
            "grid_column": null,
            "grid_gap": null,
            "grid_row": null,
            "grid_template_areas": null,
            "grid_template_columns": null,
            "grid_template_rows": null,
            "height": null,
            "justify_content": null,
            "justify_items": null,
            "left": null,
            "margin": null,
            "max_height": null,
            "max_width": null,
            "min_height": null,
            "min_width": null,
            "object_fit": null,
            "object_position": null,
            "order": null,
            "overflow": null,
            "overflow_x": null,
            "overflow_y": null,
            "padding": null,
            "right": null,
            "top": null,
            "visibility": null,
            "width": null
          }
        },
        "6ed6e611f1e64235a542ebf9530908ff": {
          "model_module": "@jupyter-widgets/controls",
          "model_name": "DescriptionStyleModel",
          "model_module_version": "1.5.0",
          "state": {
            "_model_module": "@jupyter-widgets/controls",
            "_model_module_version": "1.5.0",
            "_model_name": "DescriptionStyleModel",
            "_view_count": null,
            "_view_module": "@jupyter-widgets/base",
            "_view_module_version": "1.2.0",
            "_view_name": "StyleView",
            "description_width": ""
          }
        },
        "d384d0d2ad2143199409d08e42054a2d": {
          "model_module": "@jupyter-widgets/base",
          "model_name": "LayoutModel",
          "model_module_version": "1.2.0",
          "state": {
            "_model_module": "@jupyter-widgets/base",
            "_model_module_version": "1.2.0",
            "_model_name": "LayoutModel",
            "_view_count": null,
            "_view_module": "@jupyter-widgets/base",
            "_view_module_version": "1.2.0",
            "_view_name": "LayoutView",
            "align_content": null,
            "align_items": null,
            "align_self": null,
            "border": null,
            "bottom": null,
            "display": null,
            "flex": null,
            "flex_flow": null,
            "grid_area": null,
            "grid_auto_columns": null,
            "grid_auto_flow": null,
            "grid_auto_rows": null,
            "grid_column": null,
            "grid_gap": null,
            "grid_row": null,
            "grid_template_areas": null,
            "grid_template_columns": null,
            "grid_template_rows": null,
            "height": null,
            "justify_content": null,
            "justify_items": null,
            "left": null,
            "margin": null,
            "max_height": null,
            "max_width": null,
            "min_height": null,
            "min_width": null,
            "object_fit": null,
            "object_position": null,
            "order": null,
            "overflow": null,
            "overflow_x": null,
            "overflow_y": null,
            "padding": null,
            "right": null,
            "top": null,
            "visibility": null,
            "width": null
          }
        },
        "b18e502ab6ab4eadadcece0b89403988": {
          "model_module": "@jupyter-widgets/controls",
          "model_name": "ProgressStyleModel",
          "model_module_version": "1.5.0",
          "state": {
            "_model_module": "@jupyter-widgets/controls",
            "_model_module_version": "1.5.0",
            "_model_name": "ProgressStyleModel",
            "_view_count": null,
            "_view_module": "@jupyter-widgets/base",
            "_view_module_version": "1.2.0",
            "_view_name": "StyleView",
            "bar_color": null,
            "description_width": ""
          }
        },
        "4be9895312804ff5ac7aaf99676907fe": {
          "model_module": "@jupyter-widgets/base",
          "model_name": "LayoutModel",
          "model_module_version": "1.2.0",
          "state": {
            "_model_module": "@jupyter-widgets/base",
            "_model_module_version": "1.2.0",
            "_model_name": "LayoutModel",
            "_view_count": null,
            "_view_module": "@jupyter-widgets/base",
            "_view_module_version": "1.2.0",
            "_view_name": "LayoutView",
            "align_content": null,
            "align_items": null,
            "align_self": null,
            "border": null,
            "bottom": null,
            "display": null,
            "flex": null,
            "flex_flow": null,
            "grid_area": null,
            "grid_auto_columns": null,
            "grid_auto_flow": null,
            "grid_auto_rows": null,
            "grid_column": null,
            "grid_gap": null,
            "grid_row": null,
            "grid_template_areas": null,
            "grid_template_columns": null,
            "grid_template_rows": null,
            "height": null,
            "justify_content": null,
            "justify_items": null,
            "left": null,
            "margin": null,
            "max_height": null,
            "max_width": null,
            "min_height": null,
            "min_width": null,
            "object_fit": null,
            "object_position": null,
            "order": null,
            "overflow": null,
            "overflow_x": null,
            "overflow_y": null,
            "padding": null,
            "right": null,
            "top": null,
            "visibility": null,
            "width": null
          }
        },
        "61330c6883654bf8a3e5c8e0cd63874f": {
          "model_module": "@jupyter-widgets/controls",
          "model_name": "DescriptionStyleModel",
          "model_module_version": "1.5.0",
          "state": {
            "_model_module": "@jupyter-widgets/controls",
            "_model_module_version": "1.5.0",
            "_model_name": "DescriptionStyleModel",
            "_view_count": null,
            "_view_module": "@jupyter-widgets/base",
            "_view_module_version": "1.2.0",
            "_view_name": "StyleView",
            "description_width": ""
          }
        },
        "165a3c37d5d344268db839e09044f28d": {
          "model_module": "@jupyter-widgets/controls",
          "model_name": "HBoxModel",
          "model_module_version": "1.5.0",
          "state": {
            "_dom_classes": [],
            "_model_module": "@jupyter-widgets/controls",
            "_model_module_version": "1.5.0",
            "_model_name": "HBoxModel",
            "_view_count": null,
            "_view_module": "@jupyter-widgets/controls",
            "_view_module_version": "1.5.0",
            "_view_name": "HBoxView",
            "box_style": "",
            "children": [
              "IPY_MODEL_f09ddd52996f42a4b1224503a7e888ce",
              "IPY_MODEL_a925bb01c7384fafbb399b6a6a0ee3fe",
              "IPY_MODEL_4c8670857db549309b1f1228cf195149"
            ],
            "layout": "IPY_MODEL_4965767c05af48b79eaa714d4e29f282"
          }
        },
        "f09ddd52996f42a4b1224503a7e888ce": {
          "model_module": "@jupyter-widgets/controls",
          "model_name": "HTMLModel",
          "model_module_version": "1.5.0",
          "state": {
            "_dom_classes": [],
            "_model_module": "@jupyter-widgets/controls",
            "_model_module_version": "1.5.0",
            "_model_name": "HTMLModel",
            "_view_count": null,
            "_view_module": "@jupyter-widgets/controls",
            "_view_module_version": "1.5.0",
            "_view_name": "HTMLView",
            "description": "",
            "description_tooltip": null,
            "layout": "IPY_MODEL_ce9920b86c2d4153a914acde124cc1c3",
            "placeholder": "​",
            "style": "IPY_MODEL_bdfec9b6c0ce4f67bf9fa0d928338fb6",
            "value": "Generating validation split: 100%"
          }
        },
        "a925bb01c7384fafbb399b6a6a0ee3fe": {
          "model_module": "@jupyter-widgets/controls",
          "model_name": "FloatProgressModel",
          "model_module_version": "1.5.0",
          "state": {
            "_dom_classes": [],
            "_model_module": "@jupyter-widgets/controls",
            "_model_module_version": "1.5.0",
            "_model_name": "FloatProgressModel",
            "_view_count": null,
            "_view_module": "@jupyter-widgets/controls",
            "_view_module_version": "1.5.0",
            "_view_name": "ProgressView",
            "bar_style": "success",
            "description": "",
            "description_tooltip": null,
            "layout": "IPY_MODEL_33619393111e48e6af89768862aa5071",
            "max": 1101,
            "min": 0,
            "orientation": "horizontal",
            "style": "IPY_MODEL_286ad630adf2450c83c23ba7006f0175",
            "value": 1101
          }
        },
        "4c8670857db549309b1f1228cf195149": {
          "model_module": "@jupyter-widgets/controls",
          "model_name": "HTMLModel",
          "model_module_version": "1.5.0",
          "state": {
            "_dom_classes": [],
            "_model_module": "@jupyter-widgets/controls",
            "_model_module_version": "1.5.0",
            "_model_name": "HTMLModel",
            "_view_count": null,
            "_view_module": "@jupyter-widgets/controls",
            "_view_module_version": "1.5.0",
            "_view_name": "HTMLView",
            "description": "",
            "description_tooltip": null,
            "layout": "IPY_MODEL_d4ad5495e94f4b268992c395766d662a",
            "placeholder": "​",
            "style": "IPY_MODEL_58ec095cfc7b4bfba7dac16ecd465251",
            "value": " 1101/1101 [00:01&lt;00:00, 1295.14 examples/s]"
          }
        },
        "4965767c05af48b79eaa714d4e29f282": {
          "model_module": "@jupyter-widgets/base",
          "model_name": "LayoutModel",
          "model_module_version": "1.2.0",
          "state": {
            "_model_module": "@jupyter-widgets/base",
            "_model_module_version": "1.2.0",
            "_model_name": "LayoutModel",
            "_view_count": null,
            "_view_module": "@jupyter-widgets/base",
            "_view_module_version": "1.2.0",
            "_view_name": "LayoutView",
            "align_content": null,
            "align_items": null,
            "align_self": null,
            "border": null,
            "bottom": null,
            "display": null,
            "flex": null,
            "flex_flow": null,
            "grid_area": null,
            "grid_auto_columns": null,
            "grid_auto_flow": null,
            "grid_auto_rows": null,
            "grid_column": null,
            "grid_gap": null,
            "grid_row": null,
            "grid_template_areas": null,
            "grid_template_columns": null,
            "grid_template_rows": null,
            "height": null,
            "justify_content": null,
            "justify_items": null,
            "left": null,
            "margin": null,
            "max_height": null,
            "max_width": null,
            "min_height": null,
            "min_width": null,
            "object_fit": null,
            "object_position": null,
            "order": null,
            "overflow": null,
            "overflow_x": null,
            "overflow_y": null,
            "padding": null,
            "right": null,
            "top": null,
            "visibility": null,
            "width": null
          }
        },
        "ce9920b86c2d4153a914acde124cc1c3": {
          "model_module": "@jupyter-widgets/base",
          "model_name": "LayoutModel",
          "model_module_version": "1.2.0",
          "state": {
            "_model_module": "@jupyter-widgets/base",
            "_model_module_version": "1.2.0",
            "_model_name": "LayoutModel",
            "_view_count": null,
            "_view_module": "@jupyter-widgets/base",
            "_view_module_version": "1.2.0",
            "_view_name": "LayoutView",
            "align_content": null,
            "align_items": null,
            "align_self": null,
            "border": null,
            "bottom": null,
            "display": null,
            "flex": null,
            "flex_flow": null,
            "grid_area": null,
            "grid_auto_columns": null,
            "grid_auto_flow": null,
            "grid_auto_rows": null,
            "grid_column": null,
            "grid_gap": null,
            "grid_row": null,
            "grid_template_areas": null,
            "grid_template_columns": null,
            "grid_template_rows": null,
            "height": null,
            "justify_content": null,
            "justify_items": null,
            "left": null,
            "margin": null,
            "max_height": null,
            "max_width": null,
            "min_height": null,
            "min_width": null,
            "object_fit": null,
            "object_position": null,
            "order": null,
            "overflow": null,
            "overflow_x": null,
            "overflow_y": null,
            "padding": null,
            "right": null,
            "top": null,
            "visibility": null,
            "width": null
          }
        },
        "bdfec9b6c0ce4f67bf9fa0d928338fb6": {
          "model_module": "@jupyter-widgets/controls",
          "model_name": "DescriptionStyleModel",
          "model_module_version": "1.5.0",
          "state": {
            "_model_module": "@jupyter-widgets/controls",
            "_model_module_version": "1.5.0",
            "_model_name": "DescriptionStyleModel",
            "_view_count": null,
            "_view_module": "@jupyter-widgets/base",
            "_view_module_version": "1.2.0",
            "_view_name": "StyleView",
            "description_width": ""
          }
        },
        "33619393111e48e6af89768862aa5071": {
          "model_module": "@jupyter-widgets/base",
          "model_name": "LayoutModel",
          "model_module_version": "1.2.0",
          "state": {
            "_model_module": "@jupyter-widgets/base",
            "_model_module_version": "1.2.0",
            "_model_name": "LayoutModel",
            "_view_count": null,
            "_view_module": "@jupyter-widgets/base",
            "_view_module_version": "1.2.0",
            "_view_name": "LayoutView",
            "align_content": null,
            "align_items": null,
            "align_self": null,
            "border": null,
            "bottom": null,
            "display": null,
            "flex": null,
            "flex_flow": null,
            "grid_area": null,
            "grid_auto_columns": null,
            "grid_auto_flow": null,
            "grid_auto_rows": null,
            "grid_column": null,
            "grid_gap": null,
            "grid_row": null,
            "grid_template_areas": null,
            "grid_template_columns": null,
            "grid_template_rows": null,
            "height": null,
            "justify_content": null,
            "justify_items": null,
            "left": null,
            "margin": null,
            "max_height": null,
            "max_width": null,
            "min_height": null,
            "min_width": null,
            "object_fit": null,
            "object_position": null,
            "order": null,
            "overflow": null,
            "overflow_x": null,
            "overflow_y": null,
            "padding": null,
            "right": null,
            "top": null,
            "visibility": null,
            "width": null
          }
        },
        "286ad630adf2450c83c23ba7006f0175": {
          "model_module": "@jupyter-widgets/controls",
          "model_name": "ProgressStyleModel",
          "model_module_version": "1.5.0",
          "state": {
            "_model_module": "@jupyter-widgets/controls",
            "_model_module_version": "1.5.0",
            "_model_name": "ProgressStyleModel",
            "_view_count": null,
            "_view_module": "@jupyter-widgets/base",
            "_view_module_version": "1.2.0",
            "_view_name": "StyleView",
            "bar_color": null,
            "description_width": ""
          }
        },
        "d4ad5495e94f4b268992c395766d662a": {
          "model_module": "@jupyter-widgets/base",
          "model_name": "LayoutModel",
          "model_module_version": "1.2.0",
          "state": {
            "_model_module": "@jupyter-widgets/base",
            "_model_module_version": "1.2.0",
            "_model_name": "LayoutModel",
            "_view_count": null,
            "_view_module": "@jupyter-widgets/base",
            "_view_module_version": "1.2.0",
            "_view_name": "LayoutView",
            "align_content": null,
            "align_items": null,
            "align_self": null,
            "border": null,
            "bottom": null,
            "display": null,
            "flex": null,
            "flex_flow": null,
            "grid_area": null,
            "grid_auto_columns": null,
            "grid_auto_flow": null,
            "grid_auto_rows": null,
            "grid_column": null,
            "grid_gap": null,
            "grid_row": null,
            "grid_template_areas": null,
            "grid_template_columns": null,
            "grid_template_rows": null,
            "height": null,
            "justify_content": null,
            "justify_items": null,
            "left": null,
            "margin": null,
            "max_height": null,
            "max_width": null,
            "min_height": null,
            "min_width": null,
            "object_fit": null,
            "object_position": null,
            "order": null,
            "overflow": null,
            "overflow_x": null,
            "overflow_y": null,
            "padding": null,
            "right": null,
            "top": null,
            "visibility": null,
            "width": null
          }
        },
        "58ec095cfc7b4bfba7dac16ecd465251": {
          "model_module": "@jupyter-widgets/controls",
          "model_name": "DescriptionStyleModel",
          "model_module_version": "1.5.0",
          "state": {
            "_model_module": "@jupyter-widgets/controls",
            "_model_module_version": "1.5.0",
            "_model_name": "DescriptionStyleModel",
            "_view_count": null,
            "_view_module": "@jupyter-widgets/base",
            "_view_module_version": "1.2.0",
            "_view_name": "StyleView",
            "description_width": ""
          }
        },
        "e75e723c73c249dea3fecaf31414c108": {
          "model_module": "@jupyter-widgets/controls",
          "model_name": "HBoxModel",
          "model_module_version": "1.5.0",
          "state": {
            "_dom_classes": [],
            "_model_module": "@jupyter-widgets/controls",
            "_model_module_version": "1.5.0",
            "_model_name": "HBoxModel",
            "_view_count": null,
            "_view_module": "@jupyter-widgets/controls",
            "_view_module_version": "1.5.0",
            "_view_name": "HBoxView",
            "box_style": "",
            "children": [
              "IPY_MODEL_99505c9e41bc4ab8a16de7682d5a2d90",
              "IPY_MODEL_5c4003bee0f24387baa8366abeb3553c",
              "IPY_MODEL_fceca66baccd4d09865b09cd185965ac"
            ],
            "layout": "IPY_MODEL_539fea5d06f54dc3b2bf5c48b86fb689"
          }
        },
        "99505c9e41bc4ab8a16de7682d5a2d90": {
          "model_module": "@jupyter-widgets/controls",
          "model_name": "HTMLModel",
          "model_module_version": "1.5.0",
          "state": {
            "_dom_classes": [],
            "_model_module": "@jupyter-widgets/controls",
            "_model_module_version": "1.5.0",
            "_model_name": "HTMLModel",
            "_view_count": null,
            "_view_module": "@jupyter-widgets/controls",
            "_view_module_version": "1.5.0",
            "_view_name": "HTMLView",
            "description": "",
            "description_tooltip": null,
            "layout": "IPY_MODEL_3378505303ef40ddb52541e7709b4bac",
            "placeholder": "​",
            "style": "IPY_MODEL_0752044df08a461eb563a48a166eb682",
            "value": "Generating test split: 100%"
          }
        },
        "5c4003bee0f24387baa8366abeb3553c": {
          "model_module": "@jupyter-widgets/controls",
          "model_name": "FloatProgressModel",
          "model_module_version": "1.5.0",
          "state": {
            "_dom_classes": [],
            "_model_module": "@jupyter-widgets/controls",
            "_model_module_version": "1.5.0",
            "_model_name": "FloatProgressModel",
            "_view_count": null,
            "_view_module": "@jupyter-widgets/controls",
            "_view_module_version": "1.5.0",
            "_view_name": "ProgressView",
            "bar_style": "success",
            "description": "",
            "description_tooltip": null,
            "layout": "IPY_MODEL_b8c25eb6a8cd4305b6f7957d2510417b",
            "max": 2210,
            "min": 0,
            "orientation": "horizontal",
            "style": "IPY_MODEL_d5eb9afe2a7a4b91884eb3bb24ac871b",
            "value": 2210
          }
        },
        "fceca66baccd4d09865b09cd185965ac": {
          "model_module": "@jupyter-widgets/controls",
          "model_name": "HTMLModel",
          "model_module_version": "1.5.0",
          "state": {
            "_dom_classes": [],
            "_model_module": "@jupyter-widgets/controls",
            "_model_module_version": "1.5.0",
            "_model_name": "HTMLModel",
            "_view_count": null,
            "_view_module": "@jupyter-widgets/controls",
            "_view_module_version": "1.5.0",
            "_view_name": "HTMLView",
            "description": "",
            "description_tooltip": null,
            "layout": "IPY_MODEL_e091436f56f344f685f0660dbfce05e2",
            "placeholder": "​",
            "style": "IPY_MODEL_ba4601ef00f64369a231ed8b084c73f8",
            "value": " 2210/2210 [00:01&lt;00:00, 2104.40 examples/s]"
          }
        },
        "539fea5d06f54dc3b2bf5c48b86fb689": {
          "model_module": "@jupyter-widgets/base",
          "model_name": "LayoutModel",
          "model_module_version": "1.2.0",
          "state": {
            "_model_module": "@jupyter-widgets/base",
            "_model_module_version": "1.2.0",
            "_model_name": "LayoutModel",
            "_view_count": null,
            "_view_module": "@jupyter-widgets/base",
            "_view_module_version": "1.2.0",
            "_view_name": "LayoutView",
            "align_content": null,
            "align_items": null,
            "align_self": null,
            "border": null,
            "bottom": null,
            "display": null,
            "flex": null,
            "flex_flow": null,
            "grid_area": null,
            "grid_auto_columns": null,
            "grid_auto_flow": null,
            "grid_auto_rows": null,
            "grid_column": null,
            "grid_gap": null,
            "grid_row": null,
            "grid_template_areas": null,
            "grid_template_columns": null,
            "grid_template_rows": null,
            "height": null,
            "justify_content": null,
            "justify_items": null,
            "left": null,
            "margin": null,
            "max_height": null,
            "max_width": null,
            "min_height": null,
            "min_width": null,
            "object_fit": null,
            "object_position": null,
            "order": null,
            "overflow": null,
            "overflow_x": null,
            "overflow_y": null,
            "padding": null,
            "right": null,
            "top": null,
            "visibility": null,
            "width": null
          }
        },
        "3378505303ef40ddb52541e7709b4bac": {
          "model_module": "@jupyter-widgets/base",
          "model_name": "LayoutModel",
          "model_module_version": "1.2.0",
          "state": {
            "_model_module": "@jupyter-widgets/base",
            "_model_module_version": "1.2.0",
            "_model_name": "LayoutModel",
            "_view_count": null,
            "_view_module": "@jupyter-widgets/base",
            "_view_module_version": "1.2.0",
            "_view_name": "LayoutView",
            "align_content": null,
            "align_items": null,
            "align_self": null,
            "border": null,
            "bottom": null,
            "display": null,
            "flex": null,
            "flex_flow": null,
            "grid_area": null,
            "grid_auto_columns": null,
            "grid_auto_flow": null,
            "grid_auto_rows": null,
            "grid_column": null,
            "grid_gap": null,
            "grid_row": null,
            "grid_template_areas": null,
            "grid_template_columns": null,
            "grid_template_rows": null,
            "height": null,
            "justify_content": null,
            "justify_items": null,
            "left": null,
            "margin": null,
            "max_height": null,
            "max_width": null,
            "min_height": null,
            "min_width": null,
            "object_fit": null,
            "object_position": null,
            "order": null,
            "overflow": null,
            "overflow_x": null,
            "overflow_y": null,
            "padding": null,
            "right": null,
            "top": null,
            "visibility": null,
            "width": null
          }
        },
        "0752044df08a461eb563a48a166eb682": {
          "model_module": "@jupyter-widgets/controls",
          "model_name": "DescriptionStyleModel",
          "model_module_version": "1.5.0",
          "state": {
            "_model_module": "@jupyter-widgets/controls",
            "_model_module_version": "1.5.0",
            "_model_name": "DescriptionStyleModel",
            "_view_count": null,
            "_view_module": "@jupyter-widgets/base",
            "_view_module_version": "1.2.0",
            "_view_name": "StyleView",
            "description_width": ""
          }
        },
        "b8c25eb6a8cd4305b6f7957d2510417b": {
          "model_module": "@jupyter-widgets/base",
          "model_name": "LayoutModel",
          "model_module_version": "1.2.0",
          "state": {
            "_model_module": "@jupyter-widgets/base",
            "_model_module_version": "1.2.0",
            "_model_name": "LayoutModel",
            "_view_count": null,
            "_view_module": "@jupyter-widgets/base",
            "_view_module_version": "1.2.0",
            "_view_name": "LayoutView",
            "align_content": null,
            "align_items": null,
            "align_self": null,
            "border": null,
            "bottom": null,
            "display": null,
            "flex": null,
            "flex_flow": null,
            "grid_area": null,
            "grid_auto_columns": null,
            "grid_auto_flow": null,
            "grid_auto_rows": null,
            "grid_column": null,
            "grid_gap": null,
            "grid_row": null,
            "grid_template_areas": null,
            "grid_template_columns": null,
            "grid_template_rows": null,
            "height": null,
            "justify_content": null,
            "justify_items": null,
            "left": null,
            "margin": null,
            "max_height": null,
            "max_width": null,
            "min_height": null,
            "min_width": null,
            "object_fit": null,
            "object_position": null,
            "order": null,
            "overflow": null,
            "overflow_x": null,
            "overflow_y": null,
            "padding": null,
            "right": null,
            "top": null,
            "visibility": null,
            "width": null
          }
        },
        "d5eb9afe2a7a4b91884eb3bb24ac871b": {
          "model_module": "@jupyter-widgets/controls",
          "model_name": "ProgressStyleModel",
          "model_module_version": "1.5.0",
          "state": {
            "_model_module": "@jupyter-widgets/controls",
            "_model_module_version": "1.5.0",
            "_model_name": "ProgressStyleModel",
            "_view_count": null,
            "_view_module": "@jupyter-widgets/base",
            "_view_module_version": "1.2.0",
            "_view_name": "StyleView",
            "bar_color": null,
            "description_width": ""
          }
        },
        "e091436f56f344f685f0660dbfce05e2": {
          "model_module": "@jupyter-widgets/base",
          "model_name": "LayoutModel",
          "model_module_version": "1.2.0",
          "state": {
            "_model_module": "@jupyter-widgets/base",
            "_model_module_version": "1.2.0",
            "_model_name": "LayoutModel",
            "_view_count": null,
            "_view_module": "@jupyter-widgets/base",
            "_view_module_version": "1.2.0",
            "_view_name": "LayoutView",
            "align_content": null,
            "align_items": null,
            "align_self": null,
            "border": null,
            "bottom": null,
            "display": null,
            "flex": null,
            "flex_flow": null,
            "grid_area": null,
            "grid_auto_columns": null,
            "grid_auto_flow": null,
            "grid_auto_rows": null,
            "grid_column": null,
            "grid_gap": null,
            "grid_row": null,
            "grid_template_areas": null,
            "grid_template_columns": null,
            "grid_template_rows": null,
            "height": null,
            "justify_content": null,
            "justify_items": null,
            "left": null,
            "margin": null,
            "max_height": null,
            "max_width": null,
            "min_height": null,
            "min_width": null,
            "object_fit": null,
            "object_position": null,
            "order": null,
            "overflow": null,
            "overflow_x": null,
            "overflow_y": null,
            "padding": null,
            "right": null,
            "top": null,
            "visibility": null,
            "width": null
          }
        },
        "ba4601ef00f64369a231ed8b084c73f8": {
          "model_module": "@jupyter-widgets/controls",
          "model_name": "DescriptionStyleModel",
          "model_module_version": "1.5.0",
          "state": {
            "_model_module": "@jupyter-widgets/controls",
            "_model_module_version": "1.5.0",
            "_model_name": "DescriptionStyleModel",
            "_view_count": null,
            "_view_module": "@jupyter-widgets/base",
            "_view_module_version": "1.2.0",
            "_view_name": "StyleView",
            "description_width": ""
          }
        }
      }
    }
  },
  "nbformat": 4,
  "nbformat_minor": 0
}